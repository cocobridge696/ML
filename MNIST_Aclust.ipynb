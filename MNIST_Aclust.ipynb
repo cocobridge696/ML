{
  "nbformat": 4,
  "nbformat_minor": 0,
  "metadata": {
    "colab": {
      "name": "MNIST_Aclust",
      "provenance": [],
      "collapsed_sections": [
        "AjOpiJy4QSAB",
        "Z2IbpnINQYhc",
        "LvYl9TaeQk_T",
        "4DoQHpV5QsgC"
      ],
      "authorship_tag": "ABX9TyOhpDLKGQsV/q+zVi0x0sCJ",
      "include_colab_link": true
    },
    "kernelspec": {
      "name": "python3",
      "display_name": "Python 3"
    }
  },
  "cells": [
    {
      "cell_type": "markdown",
      "metadata": {
        "id": "view-in-github",
        "colab_type": "text"
      },
      "source": [
        "<a href=\"https://colab.research.google.com/github/cocobridge696/ML/blob/main/MNIST_Aclust.ipynb\" target=\"_parent\"><img src=\"https://colab.research.google.com/assets/colab-badge.svg\" alt=\"Open In Colab\"/></a>"
      ]
    },
    {
      "cell_type": "markdown",
      "metadata": {
        "id": "saV4Ymc5HX4j"
      },
      "source": [
        "**Autoencode clustering**\n",
        "\n",
        "**Theory**\n",
        "\n",
        "Encode input features into smaller dimensional vector then decode it to same dimensions as input. Then minimize difference between input and output. So the model tries to recreate the input from the smaller dimensional latent vector (final encoder layer). This smaller dimensional data can be used to cluster the data.\n",
        "\n",
        "Useful link - https://www.youtube.com/watch?v=g-KVHf0A2kI\n",
        "\n",
        "similarity measure and auxiliary target distribution from - https://towardsdatascience.com/paper-summary-unsupervised-deep-embedding-for-clustering-analysis-e269aed77c6b"
      ]
    },
    {
      "cell_type": "code",
      "metadata": {
        "id": "eFvydP6w9UBD",
        "colab": {
          "base_uri": "https://localhost:8080/",
          "height": 52
        },
        "outputId": "b0b7a0f3-1027-4a90-db5d-8095efcd975c"
      },
      "source": [
        "#Load data and normalize\n",
        "\n",
        "import tensorflow as tf\n",
        "import numpy as np\n",
        "from tensorflow.keras.layers import Dense,Input,Flatten\n",
        "from tensorflow.keras.models import Model\n",
        "import matplotlib.pyplot as plt\n",
        "from tensorflow.keras.utils import plot_model as plot\n",
        "import pandas as pd\n",
        "\n",
        "(train,trlabel),(test,telabel)=tf.keras.datasets.mnist.load_data()\n",
        "\n",
        "train=np.concatenate((train,test))\n",
        "trlabel=np.concatenate((trlabel,telabel))\n",
        "\n",
        "train=(train/255).astype('float32')\n",
        "test=(test/255).astype('float32')\n",
        "\n",
        "train=train.reshape(-1,784)\n",
        "test=test.reshape(-1,784)"
      ],
      "execution_count": null,
      "outputs": [
        {
          "output_type": "stream",
          "text": [
            "Downloading data from https://storage.googleapis.com/tensorflow/tf-keras-datasets/mnist.npz\n",
            "11493376/11490434 [==============================] - 0s 0us/step\n"
          ],
          "name": "stdout"
        }
      ]
    },
    {
      "cell_type": "code",
      "metadata": {
        "id": "IFe_9gJgjG5F",
        "colab": {
          "base_uri": "https://localhost:8080/",
          "height": 35
        },
        "outputId": "07d1965c-53b7-47c3-d1e4-e5043f243592"
      },
      "source": [
        "print(train.shape)"
      ],
      "execution_count": null,
      "outputs": [
        {
          "output_type": "stream",
          "text": [
            "(70000, 784)\n"
          ],
          "name": "stdout"
        }
      ]
    },
    {
      "cell_type": "code",
      "metadata": {
        "id": "ApddaymKKTuC"
      },
      "source": [
        "#Model\n",
        "\n",
        "input=Input(shape=(784,))\n",
        "encode1=Dense(500,activation='relu',kernel_initializer='glorot_uniform')(input)\n",
        "encode2=Dense(500,activation='relu')(encode1)\n",
        "encode3=Dense(2000,activation='relu')(encode2)\n",
        "encode4=Dense(10,activation='relu')(encode3)\n",
        "decode1=Dense(2000,activation='relu')(encode4)\n",
        "decode2=Dense(500,activation='relu')(decode1)\n",
        "decode3=Dense(500,activation='relu')(decode2)\n",
        "output=Dense(784,activation='relu')(decode3)\n",
        "\n",
        "auto_encoder=tf.keras.models.Model(inputs=input,outputs=output)\n",
        "auto_encoder.compile(optimizer='adam',loss='mean_squared_error')"
      ],
      "execution_count": null,
      "outputs": []
    },
    {
      "cell_type": "code",
      "metadata": {
        "id": "hkPd2yxDhFs4",
        "colab": {
          "base_uri": "https://localhost:8080/",
          "height": 1000
        },
        "outputId": "072eaf04-5d9d-4d75-d417-6f407e3cf3b3"
      },
      "source": [
        "auto_encoder.fit(x=train,y=train,epochs=200,batch_size=256)"
      ],
      "execution_count": null,
      "outputs": [
        {
          "output_type": "stream",
          "text": [
            "Epoch 1/200\n",
            "274/274 [==============================] - 31s 114ms/step - loss: 0.0419\n",
            "Epoch 2/200\n",
            "274/274 [==============================] - 31s 114ms/step - loss: 0.0219\n",
            "Epoch 3/200\n",
            "274/274 [==============================] - 32s 115ms/step - loss: 0.0192\n",
            "Epoch 4/200\n",
            "274/274 [==============================] - 31s 115ms/step - loss: 0.0177\n",
            "Epoch 5/200\n",
            "274/274 [==============================] - 31s 114ms/step - loss: 0.0168\n",
            "Epoch 6/200\n",
            "274/274 [==============================] - 32s 116ms/step - loss: 0.0161\n",
            "Epoch 7/200\n",
            "274/274 [==============================] - 31s 113ms/step - loss: 0.0157\n",
            "Epoch 8/200\n",
            "274/274 [==============================] - 31s 113ms/step - loss: 0.0152\n",
            "Epoch 9/200\n",
            "274/274 [==============================] - 31s 113ms/step - loss: 0.0149\n",
            "Epoch 10/200\n",
            "274/274 [==============================] - 31s 113ms/step - loss: 0.0146\n",
            "Epoch 11/200\n",
            "274/274 [==============================] - 31s 113ms/step - loss: 0.0142\n",
            "Epoch 12/200\n",
            "274/274 [==============================] - 31s 113ms/step - loss: 0.0139\n",
            "Epoch 13/200\n",
            "274/274 [==============================] - 31s 113ms/step - loss: 0.0137\n",
            "Epoch 14/200\n",
            "274/274 [==============================] - 31s 113ms/step - loss: 0.0135\n",
            "Epoch 15/200\n",
            "274/274 [==============================] - 31s 113ms/step - loss: 0.0133\n",
            "Epoch 16/200\n",
            "274/274 [==============================] - 32s 115ms/step - loss: 0.0131\n",
            "Epoch 17/200\n",
            "274/274 [==============================] - 31s 113ms/step - loss: 0.0129\n",
            "Epoch 18/200\n",
            "274/274 [==============================] - 31s 112ms/step - loss: 0.0127\n",
            "Epoch 19/200\n",
            "274/274 [==============================] - 31s 113ms/step - loss: 0.0124\n",
            "Epoch 20/200\n",
            "274/274 [==============================] - 31s 113ms/step - loss: 0.0122\n",
            "Epoch 21/200\n",
            "274/274 [==============================] - 31s 113ms/step - loss: 0.0121\n",
            "Epoch 22/200\n",
            "274/274 [==============================] - 31s 113ms/step - loss: 0.0119\n",
            "Epoch 23/200\n",
            "274/274 [==============================] - 31s 114ms/step - loss: 0.0118\n",
            "Epoch 24/200\n",
            "274/274 [==============================] - 31s 113ms/step - loss: 0.0117\n",
            "Epoch 25/200\n",
            "274/274 [==============================] - 31s 113ms/step - loss: 0.0117\n",
            "Epoch 26/200\n",
            "274/274 [==============================] - 32s 115ms/step - loss: 0.0116\n",
            "Epoch 27/200\n",
            "274/274 [==============================] - 31s 113ms/step - loss: 0.0115\n",
            "Epoch 28/200\n",
            "274/274 [==============================] - 31s 113ms/step - loss: 0.0114\n",
            "Epoch 29/200\n",
            "274/274 [==============================] - 31s 113ms/step - loss: 0.0113\n",
            "Epoch 30/200\n",
            "274/274 [==============================] - 31s 113ms/step - loss: 0.0113\n",
            "Epoch 31/200\n",
            "274/274 [==============================] - 31s 112ms/step - loss: 0.0112\n",
            "Epoch 32/200\n",
            "274/274 [==============================] - 31s 113ms/step - loss: 0.0112\n",
            "Epoch 33/200\n",
            "274/274 [==============================] - 31s 112ms/step - loss: 0.0111\n",
            "Epoch 34/200\n",
            "274/274 [==============================] - 31s 112ms/step - loss: 0.0110\n",
            "Epoch 35/200\n",
            "274/274 [==============================] - 31s 112ms/step - loss: 0.0110\n",
            "Epoch 36/200\n",
            "274/274 [==============================] - 31s 114ms/step - loss: 0.0109\n",
            "Epoch 37/200\n",
            "274/274 [==============================] - 32s 118ms/step - loss: 0.0109\n",
            "Epoch 38/200\n",
            "274/274 [==============================] - 31s 114ms/step - loss: 0.0108\n",
            "Epoch 39/200\n",
            "274/274 [==============================] - 31s 112ms/step - loss: 0.0108\n",
            "Epoch 40/200\n",
            "274/274 [==============================] - 31s 113ms/step - loss: 0.0107\n",
            "Epoch 41/200\n",
            "274/274 [==============================] - 31s 112ms/step - loss: 0.0107\n",
            "Epoch 42/200\n",
            "274/274 [==============================] - 31s 113ms/step - loss: 0.0106\n",
            "Epoch 43/200\n",
            "274/274 [==============================] - 31s 112ms/step - loss: 0.0106\n",
            "Epoch 44/200\n",
            "274/274 [==============================] - 31s 112ms/step - loss: 0.0105\n",
            "Epoch 45/200\n",
            "274/274 [==============================] - 31s 112ms/step - loss: 0.0105\n",
            "Epoch 46/200\n",
            "274/274 [==============================] - 31s 113ms/step - loss: 0.0105\n",
            "Epoch 47/200\n",
            "274/274 [==============================] - 31s 113ms/step - loss: 0.0104\n",
            "Epoch 48/200\n",
            "274/274 [==============================] - 31s 113ms/step - loss: 0.0104\n",
            "Epoch 49/200\n",
            "274/274 [==============================] - 31s 113ms/step - loss: 0.0104\n",
            "Epoch 50/200\n",
            "274/274 [==============================] - 31s 114ms/step - loss: 0.0103\n",
            "Epoch 51/200\n",
            "274/274 [==============================] - 31s 114ms/step - loss: 0.0103\n",
            "Epoch 52/200\n",
            "274/274 [==============================] - 32s 115ms/step - loss: 0.0102\n",
            "Epoch 53/200\n",
            "274/274 [==============================] - 32s 115ms/step - loss: 0.0102\n",
            "Epoch 54/200\n",
            "274/274 [==============================] - 32s 115ms/step - loss: 0.0102\n",
            "Epoch 55/200\n",
            "274/274 [==============================] - 31s 115ms/step - loss: 0.0102\n",
            "Epoch 56/200\n",
            "274/274 [==============================] - 31s 114ms/step - loss: 0.0101\n",
            "Epoch 57/200\n",
            "274/274 [==============================] - 32s 116ms/step - loss: 0.0101\n",
            "Epoch 58/200\n",
            "274/274 [==============================] - 31s 113ms/step - loss: 0.0101\n",
            "Epoch 59/200\n",
            "274/274 [==============================] - 31s 114ms/step - loss: 0.0100\n",
            "Epoch 60/200\n",
            "274/274 [==============================] - 31s 113ms/step - loss: 0.0100\n",
            "Epoch 61/200\n",
            "274/274 [==============================] - 32s 115ms/step - loss: 0.0100\n",
            "Epoch 62/200\n",
            "274/274 [==============================] - 32s 116ms/step - loss: 0.0100\n",
            "Epoch 63/200\n",
            "274/274 [==============================] - 31s 115ms/step - loss: 0.0099\n",
            "Epoch 64/200\n",
            "274/274 [==============================] - 31s 114ms/step - loss: 0.0099\n",
            "Epoch 65/200\n",
            "274/274 [==============================] - 31s 114ms/step - loss: 0.0099\n",
            "Epoch 66/200\n",
            "274/274 [==============================] - 31s 114ms/step - loss: 0.0099\n",
            "Epoch 67/200\n",
            "274/274 [==============================] - 32s 116ms/step - loss: 0.0098\n",
            "Epoch 68/200\n",
            "274/274 [==============================] - 31s 114ms/step - loss: 0.0098\n",
            "Epoch 69/200\n",
            "274/274 [==============================] - 31s 113ms/step - loss: 0.0098\n",
            "Epoch 70/200\n",
            "274/274 [==============================] - 31s 113ms/step - loss: 0.0098\n",
            "Epoch 71/200\n",
            "274/274 [==============================] - 31s 113ms/step - loss: 0.0097\n",
            "Epoch 72/200\n",
            "274/274 [==============================] - 31s 114ms/step - loss: 0.0097\n",
            "Epoch 73/200\n",
            "274/274 [==============================] - 31s 114ms/step - loss: 0.0097\n",
            "Epoch 74/200\n",
            "274/274 [==============================] - 31s 114ms/step - loss: 0.0097\n",
            "Epoch 75/200\n",
            "274/274 [==============================] - 31s 113ms/step - loss: 0.0097\n",
            "Epoch 76/200\n",
            "274/274 [==============================] - 31s 113ms/step - loss: 0.0096\n",
            "Epoch 77/200\n",
            "274/274 [==============================] - 32s 115ms/step - loss: 0.0096\n",
            "Epoch 78/200\n",
            "274/274 [==============================] - 32s 116ms/step - loss: 0.0096\n",
            "Epoch 79/200\n",
            "274/274 [==============================] - 31s 114ms/step - loss: 0.0096\n",
            "Epoch 80/200\n",
            "274/274 [==============================] - 31s 114ms/step - loss: 0.0095\n",
            "Epoch 81/200\n",
            "274/274 [==============================] - 31s 115ms/step - loss: 0.0095\n",
            "Epoch 82/200\n",
            "274/274 [==============================] - 32s 115ms/step - loss: 0.0095\n",
            "Epoch 83/200\n",
            "274/274 [==============================] - 31s 115ms/step - loss: 0.0095\n",
            "Epoch 84/200\n",
            "274/274 [==============================] - 32s 117ms/step - loss: 0.0095\n",
            "Epoch 85/200\n",
            "274/274 [==============================] - 32s 115ms/step - loss: 0.0094\n",
            "Epoch 86/200\n",
            "274/274 [==============================] - 31s 114ms/step - loss: 0.0093\n",
            "Epoch 87/200\n",
            "274/274 [==============================] - 31s 113ms/step - loss: 0.0093\n",
            "Epoch 88/200\n",
            "274/274 [==============================] - 31s 114ms/step - loss: 0.0093\n",
            "Epoch 89/200\n",
            "274/274 [==============================] - 31s 113ms/step - loss: 0.0092\n",
            "Epoch 90/200\n",
            "274/274 [==============================] - 31s 113ms/step - loss: 0.0093\n",
            "Epoch 91/200\n",
            "274/274 [==============================] - 31s 114ms/step - loss: 0.0092\n",
            "Epoch 92/200\n",
            "274/274 [==============================] - 31s 114ms/step - loss: 0.0092\n",
            "Epoch 93/200\n",
            "274/274 [==============================] - 32s 116ms/step - loss: 0.0092\n",
            "Epoch 94/200\n",
            "274/274 [==============================] - 32s 115ms/step - loss: 0.0092\n",
            "Epoch 95/200\n",
            "274/274 [==============================] - 31s 114ms/step - loss: 0.0091\n",
            "Epoch 96/200\n",
            "274/274 [==============================] - 31s 115ms/step - loss: 0.0091\n",
            "Epoch 97/200\n",
            "274/274 [==============================] - 32s 115ms/step - loss: 0.0091\n",
            "Epoch 98/200\n",
            "274/274 [==============================] - 32s 116ms/step - loss: 0.0091\n",
            "Epoch 99/200\n",
            "274/274 [==============================] - 31s 114ms/step - loss: 0.0091\n",
            "Epoch 100/200\n",
            "274/274 [==============================] - 31s 114ms/step - loss: 0.0091\n",
            "Epoch 101/200\n",
            "274/274 [==============================] - 31s 115ms/step - loss: 0.0091\n",
            "Epoch 102/200\n",
            "274/274 [==============================] - 31s 114ms/step - loss: 0.0091\n",
            "Epoch 103/200\n",
            "274/274 [==============================] - 31s 115ms/step - loss: 0.0091\n",
            "Epoch 104/200\n",
            "274/274 [==============================] - 31s 113ms/step - loss: 0.0090\n",
            "Epoch 105/200\n",
            "274/274 [==============================] - 31s 113ms/step - loss: 0.0090\n",
            "Epoch 106/200\n",
            "274/274 [==============================] - 31s 113ms/step - loss: 0.0090\n",
            "Epoch 107/200\n",
            "274/274 [==============================] - 31s 114ms/step - loss: 0.0090\n",
            "Epoch 108/200\n",
            "274/274 [==============================] - 32s 117ms/step - loss: 0.0089\n",
            "Epoch 109/200\n",
            "274/274 [==============================] - 31s 114ms/step - loss: 0.0090\n",
            "Epoch 110/200\n",
            "274/274 [==============================] - 32s 115ms/step - loss: 0.0089\n",
            "Epoch 111/200\n",
            "274/274 [==============================] - 32s 116ms/step - loss: 0.0089\n",
            "Epoch 112/200\n",
            "274/274 [==============================] - 31s 114ms/step - loss: 0.0089\n",
            "Epoch 113/200\n",
            "274/274 [==============================] - 31s 115ms/step - loss: 0.0089\n",
            "Epoch 114/200\n",
            "274/274 [==============================] - 32s 116ms/step - loss: 0.0089\n",
            "Epoch 115/200\n",
            "274/274 [==============================] - 32s 116ms/step - loss: 0.0089\n",
            "Epoch 116/200\n",
            "274/274 [==============================] - 31s 115ms/step - loss: 0.0089\n",
            "Epoch 117/200\n",
            "274/274 [==============================] - 31s 115ms/step - loss: 0.0089\n",
            "Epoch 118/200\n",
            "274/274 [==============================] - 32s 118ms/step - loss: 0.0089\n",
            "Epoch 119/200\n",
            "274/274 [==============================] - 31s 114ms/step - loss: 0.0088\n",
            "Epoch 120/200\n",
            "274/274 [==============================] - 31s 115ms/step - loss: 0.0088\n",
            "Epoch 121/200\n",
            "274/274 [==============================] - 32s 116ms/step - loss: 0.0088\n",
            "Epoch 122/200\n",
            "274/274 [==============================] - 31s 114ms/step - loss: 0.0088\n",
            "Epoch 123/200\n",
            "274/274 [==============================] - 31s 113ms/step - loss: 0.0088\n",
            "Epoch 124/200\n",
            "274/274 [==============================] - 31s 113ms/step - loss: 0.0088\n",
            "Epoch 125/200\n",
            "274/274 [==============================] - 31s 113ms/step - loss: 0.0088\n",
            "Epoch 126/200\n",
            "274/274 [==============================] - 31s 114ms/step - loss: 0.0087\n",
            "Epoch 127/200\n",
            "274/274 [==============================] - 31s 113ms/step - loss: 0.0088\n",
            "Epoch 128/200\n",
            "274/274 [==============================] - 32s 116ms/step - loss: 0.0087\n",
            "Epoch 129/200\n",
            "274/274 [==============================] - 31s 114ms/step - loss: 0.0087\n",
            "Epoch 130/200\n",
            "274/274 [==============================] - 32s 117ms/step - loss: 0.0087\n",
            "Epoch 131/200\n",
            "274/274 [==============================] - 31s 115ms/step - loss: 0.0087\n",
            "Epoch 132/200\n",
            "274/274 [==============================] - 32s 115ms/step - loss: 0.0087\n",
            "Epoch 133/200\n",
            "274/274 [==============================] - 31s 115ms/step - loss: 0.0087\n",
            "Epoch 134/200\n",
            "274/274 [==============================] - 32s 116ms/step - loss: 0.0087\n",
            "Epoch 135/200\n",
            "274/274 [==============================] - 31s 114ms/step - loss: 0.0087\n",
            "Epoch 136/200\n",
            "274/274 [==============================] - 31s 114ms/step - loss: 0.0087\n",
            "Epoch 137/200\n",
            "274/274 [==============================] - 31s 113ms/step - loss: 0.0087\n",
            "Epoch 138/200\n",
            "274/274 [==============================] - 32s 115ms/step - loss: 0.0086\n",
            "Epoch 139/200\n",
            "274/274 [==============================] - 31s 114ms/step - loss: 0.0087\n",
            "Epoch 140/200\n",
            "274/274 [==============================] - 31s 114ms/step - loss: 0.0086\n",
            "Epoch 141/200\n",
            "274/274 [==============================] - 32s 116ms/step - loss: 0.0086\n",
            "Epoch 142/200\n",
            "274/274 [==============================] - 32s 116ms/step - loss: 0.0086\n",
            "Epoch 143/200\n",
            "274/274 [==============================] - 32s 115ms/step - loss: 0.0086\n",
            "Epoch 144/200\n",
            "274/274 [==============================] - 31s 114ms/step - loss: 0.0086\n",
            "Epoch 145/200\n",
            "274/274 [==============================] - 32s 116ms/step - loss: 0.0085\n",
            "Epoch 146/200\n",
            "274/274 [==============================] - 31s 114ms/step - loss: 0.0085\n",
            "Epoch 147/200\n",
            "274/274 [==============================] - 31s 113ms/step - loss: 0.0085\n",
            "Epoch 148/200\n",
            "274/274 [==============================] - 31s 114ms/step - loss: 0.0085\n",
            "Epoch 149/200\n",
            "274/274 [==============================] - 32s 116ms/step - loss: 0.0085\n",
            "Epoch 150/200\n",
            "274/274 [==============================] - 31s 114ms/step - loss: 0.0085\n",
            "Epoch 151/200\n",
            "274/274 [==============================] - 31s 113ms/step - loss: 0.0085\n",
            "Epoch 152/200\n",
            "274/274 [==============================] - 31s 114ms/step - loss: 0.0085\n",
            "Epoch 153/200\n",
            "274/274 [==============================] - 31s 114ms/step - loss: 0.0084\n",
            "Epoch 154/200\n",
            "274/274 [==============================] - 31s 113ms/step - loss: 0.0084\n",
            "Epoch 155/200\n",
            "274/274 [==============================] - 31s 113ms/step - loss: 0.0084\n",
            "Epoch 156/200\n",
            "274/274 [==============================] - 31s 113ms/step - loss: 0.0084\n",
            "Epoch 157/200\n",
            "274/274 [==============================] - 31s 113ms/step - loss: 0.0084\n",
            "Epoch 158/200\n",
            "274/274 [==============================] - 31s 112ms/step - loss: 0.0084\n",
            "Epoch 159/200\n",
            "274/274 [==============================] - 31s 115ms/step - loss: 0.0084\n",
            "Epoch 160/200\n",
            "274/274 [==============================] - 31s 113ms/step - loss: 0.0084\n",
            "Epoch 161/200\n",
            "274/274 [==============================] - 31s 113ms/step - loss: 0.0084\n",
            "Epoch 162/200\n",
            "274/274 [==============================] - 31s 112ms/step - loss: 0.0084\n",
            "Epoch 163/200\n",
            "274/274 [==============================] - 31s 113ms/step - loss: 0.0084\n",
            "Epoch 164/200\n",
            "274/274 [==============================] - 31s 113ms/step - loss: 0.0084\n",
            "Epoch 165/200\n",
            "274/274 [==============================] - 31s 113ms/step - loss: 0.0084\n",
            "Epoch 166/200\n",
            "274/274 [==============================] - 31s 113ms/step - loss: 0.0084\n",
            "Epoch 167/200\n",
            "274/274 [==============================] - 31s 113ms/step - loss: 0.0084\n",
            "Epoch 168/200\n",
            "274/274 [==============================] - 31s 113ms/step - loss: 0.0084\n",
            "Epoch 169/200\n",
            "274/274 [==============================] - 31s 114ms/step - loss: 0.0083\n",
            "Epoch 170/200\n",
            "274/274 [==============================] - 31s 114ms/step - loss: 0.0083\n",
            "Epoch 171/200\n",
            "274/274 [==============================] - 31s 113ms/step - loss: 0.0083\n",
            "Epoch 172/200\n",
            "274/274 [==============================] - 31s 113ms/step - loss: 0.0083\n",
            "Epoch 173/200\n",
            "274/274 [==============================] - 31s 112ms/step - loss: 0.0083\n",
            "Epoch 174/200\n",
            "274/274 [==============================] - 31s 111ms/step - loss: 0.0083\n",
            "Epoch 175/200\n",
            "274/274 [==============================] - 31s 112ms/step - loss: 0.0083\n",
            "Epoch 176/200\n",
            "274/274 [==============================] - 31s 113ms/step - loss: 0.0083\n",
            "Epoch 177/200\n",
            "274/274 [==============================] - 31s 112ms/step - loss: 0.0083\n",
            "Epoch 178/200\n",
            "274/274 [==============================] - 31s 112ms/step - loss: 0.0083\n",
            "Epoch 179/200\n",
            "274/274 [==============================] - 31s 114ms/step - loss: 0.0083\n",
            "Epoch 180/200\n",
            "274/274 [==============================] - 31s 114ms/step - loss: 0.0083\n",
            "Epoch 181/200\n",
            "274/274 [==============================] - 31s 112ms/step - loss: 0.0083\n",
            "Epoch 182/200\n",
            "274/274 [==============================] - 31s 112ms/step - loss: 0.0083\n",
            "Epoch 183/200\n",
            "274/274 [==============================] - 31s 112ms/step - loss: 0.0082\n",
            "Epoch 184/200\n",
            "274/274 [==============================] - 31s 112ms/step - loss: 0.0082\n",
            "Epoch 185/200\n",
            "274/274 [==============================] - 31s 112ms/step - loss: 0.0083\n",
            "Epoch 186/200\n",
            "274/274 [==============================] - 31s 112ms/step - loss: 0.0083\n",
            "Epoch 187/200\n",
            "274/274 [==============================] - 31s 112ms/step - loss: 0.0082\n",
            "Epoch 188/200\n",
            "274/274 [==============================] - 31s 112ms/step - loss: 0.0083\n",
            "Epoch 189/200\n",
            "274/274 [==============================] - 31s 112ms/step - loss: 0.0082\n",
            "Epoch 190/200\n",
            "274/274 [==============================] - 32s 115ms/step - loss: 0.0082\n",
            "Epoch 191/200\n",
            "274/274 [==============================] - 31s 112ms/step - loss: 0.0082\n",
            "Epoch 192/200\n",
            "274/274 [==============================] - 31s 112ms/step - loss: 0.0082\n",
            "Epoch 193/200\n",
            "274/274 [==============================] - 31s 112ms/step - loss: 0.0082\n",
            "Epoch 194/200\n",
            "274/274 [==============================] - 31s 112ms/step - loss: 0.0082\n",
            "Epoch 195/200\n",
            "274/274 [==============================] - 31s 112ms/step - loss: 0.0082\n",
            "Epoch 196/200\n",
            "274/274 [==============================] - 31s 112ms/step - loss: 0.0082\n",
            "Epoch 197/200\n",
            "274/274 [==============================] - 31s 112ms/step - loss: 0.0082\n",
            "Epoch 198/200\n",
            "274/274 [==============================] - 31s 112ms/step - loss: 0.0082\n",
            "Epoch 199/200\n",
            "274/274 [==============================] - 31s 113ms/step - loss: 0.0082\n",
            "Epoch 200/200\n",
            "274/274 [==============================] - 31s 114ms/step - loss: 0.0082\n"
          ],
          "name": "stdout"
        },
        {
          "output_type": "execute_result",
          "data": {
            "text/plain": [
              "<tensorflow.python.keras.callbacks.History at 0x7f9b6a541748>"
            ]
          },
          "metadata": {
            "tags": []
          },
          "execution_count": 4
        }
      ]
    },
    {
      "cell_type": "code",
      "metadata": {
        "id": "LMhJRpAdpUZg"
      },
      "source": [
        "#seperate encode model to acquire latent vectors and decode model to look at reconstructions\n",
        "encoder=Model(inputs=input,outputs=encode4)\n",
        "\n",
        "input2=Input(shape=(10,))\n",
        "decode1=auto_encoder.layers[-4](input2)\n",
        "decode2=(auto_encoder.layers[-3])(decode1)\n",
        "decode3=auto_encoder.layers[-2](decode2)\n",
        "decode4=auto_encoder.layers[-1](decode3)\n",
        "\n",
        "decoder=Model(inputs=input2,outputs=decode4)"
      ],
      "execution_count": null,
      "outputs": []
    },
    {
      "cell_type": "code",
      "metadata": {
        "id": "iELMmXpEvioR"
      },
      "source": [
        "latent_vect=encoder.predict(test)\n",
        "\n",
        "recons_img=decoder.predict(latent_vect)"
      ],
      "execution_count": null,
      "outputs": []
    },
    {
      "cell_type": "code",
      "metadata": {
        "id": "c5SYDiOTwRqz",
        "colab": {
          "base_uri": "https://localhost:8080/",
          "height": 1000
        },
        "outputId": "c2d01129-2691-45d1-bad1-e8f4f22ad3f4"
      },
      "source": [
        "n=10\n",
        "for i in range(n):\n",
        "  plt.figure()\n",
        "  plt.imshow(test[i].reshape(28,28))\n",
        "  plt.figure()\n",
        "  plt.imshow(recons_img[i].reshape(28,28))"
      ],
      "execution_count": null,
      "outputs": [
        {
          "output_type": "display_data",
          "data": {
            "image/png": "[encoded data removed]",
            "text/plain": [
              "<Figure size 432x288 with 1 Axes>"
            ]
          },
          "metadata": {
            "tags": [],
            "needs_background": "light"
          }
        },
        {
          "output_type": "display_data",
          "data": {
            "image/png": "[encoded data removed]",
            "text/plain": [
              "<Figure size 432x288 with 1 Axes>"
            ]
          },
          "metadata": {
            "tags": [],
            "needs_background": "light"
          }
        },
        {
          "output_type": "display_data",
          "data": {
            "image/png": "[encoded data removed]",
            "text/plain": [
              "<Figure size 432x288 with 1 Axes>"
            ]
          },
          "metadata": {
            "tags": [],
            "needs_background": "light"
          }
        },
        {
          "output_type": "display_data",
          "data": {
            "image/png": "[encoded data removed]",
            "text/plain": [
              "<Figure size 432x288 with 1 Axes>"
            ]
          },
          "metadata": {
            "tags": [],
            "needs_background": "light"
          }
        },
        {
          "output_type": "display_data",
          "data": {
            "image/png": "[encoded data removed]",
            "text/plain": [
              "<Figure size 432x288 with 1 Axes>"
            ]
          },
          "metadata": {
            "tags": [],
            "needs_background": "light"
          }
        },
        {
          "output_type": "display_data",
          "data": {
            "image/png": "[encoded data removed]",
            "text/plain": [
              "<Figure size 432x288 with 1 Axes>"
            ]
          },
          "metadata": {
            "tags": [],
            "needs_background": "light"
          }
        },
        {
          "output_type": "display_data",
          "data": {
            "image/png": "[encoded data removed]",
            "text/plain": [
              "<Figure size 432x288 with 1 Axes>"
            ]
          },
          "metadata": {
            "tags": [],
            "needs_background": "light"
          }
        },
        {
          "output_type": "display_data",
          "data": {
            "image/png": "[encoded data removed]",
            "text/plain": [
              "<Figure size 432x288 with 1 Axes>"
            ]
          },
          "metadata": {
            "tags": [],
            "needs_background": "light"
          }
        },
        {
          "output_type": "display_data",
          "data": {
            "image/png": "[encoded data removed]",
            "text/plain": [
              "<Figure size 432x288 with 1 Axes>"
            ]
          },
          "metadata": {
            "tags": [],
            "needs_background": "light"
          }
        },
        {
          "output_type": "display_data",
          "data": {
            "image/png": "[encoded data removed]",
            "text/plain": [
              "<Figure size 432x288 with 1 Axes>"
            ]
          },
          "metadata": {
            "tags": [],
            "needs_background": "light"
          }
        },
        {
          "output_type": "display_data",
          "data": {
            "image/png": "[encoded data removed]",
            "text/plain": [
              "<Figure size 432x288 with 1 Axes>"
            ]
          },
          "metadata": {
            "tags": [],
            "needs_background": "light"
          }
        },
        {
          "output_type": "display_data",
          "data": {
            "image/png": "[encoded data removed]",
            "text/plain": [
              "<Figure size 432x288 with 1 Axes>"
            ]
          },
          "metadata": {
            "tags": [],
            "needs_background": "light"
          }
        },
        {
          "output_type": "display_data",
          "data": {
            "image/png": "[encoded data removed]",
            "text/plain": [
              "<Figure size 432x288 with 1 Axes>"
            ]
          },
          "metadata": {
            "tags": [],
            "needs_background": "light"
          }
        },
        {
          "output_type": "display_data",
          "data": {
            "image/png": "[encoded data removed]",
            "text/plain": [
              "<Figure size 432x288 with 1 Axes>"
            ]
          },
          "metadata": {
            "tags": [],
            "needs_background": "light"
          }
        },
        {
          "output_type": "display_data",
          "data": {
            "image/png": "[encoded data removed]",
            "text/plain": [
              "<Figure size 432x288 with 1 Axes>"
            ]
          },
          "metadata": {
            "tags": [],
            "needs_background": "light"
          }
        },
        {
          "output_type": "display_data",
          "data": {
            "image/png": "[encoded data removed]",
            "text/plain": [
              "<Figure size 432x288 with 1 Axes>"
            ]
          },
          "metadata": {
            "tags": [],
            "needs_background": "light"
          }
        },
        {
          "output_type": "display_data",
          "data": {
            "image/png": "[encoded data removed]",
            "text/plain": [
              "<Figure size 432x288 with 1 Axes>"
            ]
          },
          "metadata": {
            "tags": [],
            "needs_background": "light"
          }
        },
        {
          "output_type": "display_data",
          "data": {
            "image/png": "[encoded data removed]",
            "text/plain": [
              "<Figure size 432x288 with 1 Axes>"
            ]
          },
          "metadata": {
            "tags": [],
            "needs_background": "light"
          }
        },
        {
          "output_type": "display_data",
          "data": {
            "image/png": "[encoded data removed]",
            "text/plain": [
              "<Figure size 432x288 with 1 Axes>"
            ]
          },
          "metadata": {
            "tags": [],
            "needs_background": "light"
          }
        },
        {
          "output_type": "display_data",
          "data": {
            "image/png": "[encoded data removed]",
            "text/plain": [
              "<Figure size 432x288 with 1 Axes>"
            ]
          },
          "metadata": {
            "tags": [],
            "needs_background": "light"
          }
        }
      ]
    },
    {
      "cell_type": "code",
      "metadata": {
        "id": "zV2ZUu5FJ0Mf"
      },
      "source": [
        "import tensorflow.keras.backend as K\n",
        "from tensorflow.keras.layers import InputSpec,Layer\n",
        "class Cluster_lay(Layer):\n",
        "  def __init__(self,No_clusters,weights=None,alpha=1.0,**kwargs):\n",
        "    if 'input_shape' not in kwargs and 'input_dim' in kwargs:\n",
        "      kwargs['input_shape']=(kwargs.pop('input_dim'),)\n",
        "    super(Cluster_lay,self).__init__(**kwargs)\n",
        "    self.No_clusters=No_clusters\n",
        "    self.alpha=alpha\n",
        "    self.initial_weights=weights\n",
        "    self.input_spec=InputSpec(ndim=2)\n",
        "\n",
        "  def build(self,input_shape):\n",
        "    assert len(input_shape)==2\n",
        "    input_dim=input_shape[1]\n",
        "    self.input_spec=InputSpec(dtype=K.floatx(), shape=(None, input_dim))\n",
        "    self.clusters = self.add_weight(shape=(self.No_clusters,input_dim), initializer='glorot_uniform', name='clusters')\n",
        "    if self.initial_weights is not None:\n",
        "      self.set_weights(self.initial_weights)\n",
        "      del self.initial_weights\n",
        "      self.built = True\n",
        "\n",
        "  def call(self,inputs,**kwargs):\n",
        "    #student t distribution to measure similarity between embedde point and centroid\n",
        "    q=1.0/(1.0+(K.sum(K.square(K.expand_dims(inputs, axis=1) - self.clusters), axis=2) / self.alpha))\n",
        "    q**=(self.alpha+1.0)/2.0\n",
        "    q = K.transpose(K.transpose(q) / K.sum(q, axis=1)) # Make sure each sample's 10 values add up to 1.\n",
        "    return q\n",
        "\n",
        "  def compute_output_shape(self, input_shape):\n",
        "    assert input_shape and len(input_shape) == 2\n",
        "    return input_shape[0], self.n_clusters\n",
        "\n",
        "  def get_config(self):\n",
        "    config = {'n_clusters': self.No_clusters}\n",
        "    base_config = super(ClusteringLayer, self).get_config()\n",
        "    return dict(list(base_config.items()) + list(config.items()))\n"
      ],
      "execution_count": null,
      "outputs": []
    },
    {
      "cell_type": "code",
      "metadata": {
        "id": "gY6fdM-PRxnd",
        "colab": {
          "base_uri": "https://localhost:8080/",
          "height": 644
        },
        "outputId": "6cf050c5-d695-4ddd-fb29-bf29a5377aaa"
      },
      "source": [
        "No_clusters=10\n",
        "cluster_layer=Cluster_lay(No_clusters,name='clustering')(encoder.output)\n",
        "model=Model(inputs=encoder.input,outputs=cluster_layer)\n",
        "plot(model,show_shapes=True)"
      ],
      "execution_count": null,
      "outputs": [
        {
          "output_type": "execute_result",
          "data": {
            "image/png": "[encoded data removed]",
            "text/plain": [
              "<IPython.core.display.Image object>"
            ]
          },
          "metadata": {
            "tags": []
          },
          "execution_count": 8
        }
      ]
    },
    {
      "cell_type": "code",
      "metadata": {
        "id": "06mFy9iYWQr7"
      },
      "source": [
        "#set inital centroids\n",
        "from sklearn.cluster import KMeans\n",
        "\n",
        "kmean=KMeans(n_clusters=No_clusters,n_init=20)\n",
        "centers=kmean.fit_predict(encoder.predict(train))\n",
        "model.get_layer(name='clustering').set_weights([kmean.cluster_centers_])\n",
        "model.compile(optimizer=tf.keras.optimizers.SGD(0.01,0.9),loss='kld')"
      ],
      "execution_count": null,
      "outputs": []
    },
    {
      "cell_type": "code",
      "metadata": {
        "id": "hPB9bdv8dG53"
      },
      "source": [
        "#auxiliary target distribution\n",
        "def target_distribution(q):\n",
        "    weight = q ** 2 / q.sum(0)\n",
        "    return (weight.T / weight.sum(1)).T"
      ],
      "execution_count": null,
      "outputs": []
    },
    {
      "cell_type": "code",
      "metadata": {
        "id": "XIl0suYlbCk5"
      },
      "source": [
        "#takes a long time to run\n",
        "\n",
        "from sklearn.metrics import accuracy_score as acc\n",
        "\n",
        "maxiter = 8000\n",
        "update_interval = 140\n",
        "index=0\n",
        "index_array=np.arange(train.shape[0])\n",
        "batch_size=256\n",
        "for ite in range(int(maxiter)):\n",
        "  if ite % update_interval == 0:\n",
        "    q = model.predict(train, verbose=0)# gives probabilty of each cluster\n",
        "    p = target_distribution(q)  # update the auxiliary target distribution p\n",
        "\n",
        "    # evaluate the clustering performance\n",
        "    #predictions\n",
        "    y_pred = q.argmax(1) #gives indicie of maximum probability on axis 1\n",
        "    #As we have labels we can compare cluster performance\n",
        "    \n",
        "    #print(acc(trlabel,y_pred),ite)\n",
        "    \n",
        "  #train through batches\n",
        "  idx = index_array[index * batch_size: min((index+1) * batch_size, train.shape[0])]\n",
        "  loss = model.train_on_batch(x=train[idx], y=p[idx])\n",
        "  index = index + 1 if (index + 1) * batch_size <= train.shape[0] else 0\n"
      ],
      "execution_count": null,
      "outputs": []
    },
    {
      "cell_type": "markdown",
      "metadata": {
        "id": "AjOpiJy4QSAB"
      },
      "source": [
        "# Adjusted Rand Score"
      ]
    },
    {
      "cell_type": "code",
      "metadata": {
        "id": "uuAm19eDFuXm",
        "colab": {
          "base_uri": "https://localhost:8080/",
          "height": 35
        },
        "outputId": "b93643ef-d2f8-40f6-82d0-86a76b9bccbb"
      },
      "source": [
        "#One accuracy measure\n",
        "from sklearn import metrics\n",
        "metrics.adjusted_rand_score(list(trlabel),y_pred)"
      ],
      "execution_count": null,
      "outputs": [
        {
          "output_type": "execute_result",
          "data": {
            "text/plain": [
              "0.819832347732918"
            ]
          },
          "metadata": {
            "tags": []
          },
          "execution_count": 19
        }
      ]
    },
    {
      "cell_type": "markdown",
      "metadata": {
        "id": "Z2IbpnINQYhc"
      },
      "source": [
        "# Munkres' Assingment algorith for accuracy"
      ]
    },
    {
      "cell_type": "code",
      "metadata": {
        "id": "9GULhm0bQdfb"
      },
      "source": [
        "from sklearn.utils.linear_assignment_ import linear_assignment\n",
        "\n",
        "y_true = np.array(trlabel).astype(np.int64)\n",
        "D = max(y_pred.max(), y_true.max()) + 1\n",
        "w = np.zeros((D, D), dtype=np.int64)   #7*7 matrix\n",
        "# Creates confusion matrix.\n",
        "for i in range(y_pred.size):\n",
        "    w[y_pred[i], y_true[i]] += 1 #goes through all y_pred and adds one to the correct cell\n",
        "ind = linear_assignment(-w)   #applys munkes algorith\n",
        "\n",
        "M_acc=sum([w[i, j] for i, j in ind]) * 1.0 / y_pred.size\n",
        "\n",
        "cor_labl=w.argmax(1)\n",
        "print('The accuracy is {}%'.format(np.round(M_acc*100,2)))\n",
        "print('The changed cluster labels are {}'.format(cor_labl))"
      ],
      "execution_count": null,
      "outputs": []
    },
    {
      "cell_type": "markdown",
      "metadata": {
        "id": "LvYl9TaeQk_T"
      },
      "source": [
        "# Silhouette Score"
      ]
    },
    {
      "cell_type": "code",
      "metadata": {
        "id": "cwd6JI6XQjwX"
      },
      "source": [
        "#Another accuracy measure\n",
        "from sklearn.metrics import silhouette_score\n",
        "score=silhouette_score(train,y_pred,metric='euclidean')\n",
        "print('The silhouette score is {}'.format(score))"
      ],
      "execution_count": null,
      "outputs": []
    },
    {
      "cell_type": "markdown",
      "metadata": {
        "id": "4DoQHpV5QsgC"
      },
      "source": [
        "# Most common ground truth label accuracy measure "
      ]
    },
    {
      "cell_type": "code",
      "metadata": {
        "id": "CA8m6Gs2W0NI"
      },
      "source": [
        "#highest number represents most common label in each cluster \n",
        "conf=metrics.confusion_matrix(list(trlabel), y_pred)\n",
        "plt.figure(figsize=(16, 14))\n",
        "sns.heatmap(conf, annot=True, fmt=\"d\", annot_kws={\"size\": 20});"
      ],
      "execution_count": null,
      "outputs": []
    },
    {
      "cell_type": "code",
      "metadata": {
        "id": "O20PPYS203bo",
        "colab": {
          "base_uri": "https://localhost:8080/",
          "height": 230
        },
        "outputId": "9991b4ef-3500-43a7-abcf-f563b02c1cfb"
      },
      "source": [
        "#using most common ground truth label to relabel clusters\n",
        "print(y_pred[:10])\n",
        "copy_y_pred=y_pred\n",
        "#cluster label is different than trlabel as the cluster for number 5 may have a cluster name of 2 etc\n",
        "\n",
        "#need to relabel them\n",
        "#code to convert cluster label to number label\n",
        "num_labl=[0 for x in range(10)]\n",
        "for n in range(10):\n",
        "  list1=[]\n",
        "  index=0\n",
        "  for x in y_pred:\n",
        "    if x==n:\n",
        "      list1.append(index)\n",
        "    index+=1\n",
        "  list2= trlabel[list1].tolist()\n",
        "  print(list2[:20])\n",
        "  num_labl[n]=max(list2,key=list2.count)"
      ],
      "execution_count": null,
      "outputs": [
        {
          "output_type": "stream",
          "text": [
            "The silhouette score is 0.048742569983005524\n",
            "[7 4 6 3 8 1 3 5 3 8]\n",
            "[8, 8, 8, 8, 8, 9, 8, 8, 8, 8, 8, 8, 8, 8, 8, 8, 8, 8, 8, 8]\n",
            "[2, 2, 1, 2, 2, 1, 2, 2, 2, 2, 2, 2, 2, 2, 2, 2, 2, 2, 2, 2]\n",
            "[6, 6, 6, 6, 6, 6, 6, 6, 6, 6, 6, 6, 6, 6, 6, 6, 6, 6, 6, 6]\n",
            "[1, 1, 1, 1, 1, 1, 1, 1, 1, 1, 1, 1, 1, 1, 1, 1, 1, 1, 1, 1]\n",
            "[0, 0, 0, 0, 0, 0, 0, 0, 0, 0, 0, 0, 0, 0, 0, 0, 0, 0, 0, 0]\n",
            "[3, 3, 3, 3, 3, 3, 9, 3, 3, 3, 3, 3, 3, 3, 3, 5, 3, 3, 3, 3]\n",
            "[4, 4, 7, 4, 4, 4, 4, 9, 9, 4, 9, 4, 9, 9, 4, 4, 4, 9, 4, 9]\n",
            "[5, 5, 5, 5, 5, 5, 5, 5, 5, 5, 5, 5, 5, 5, 5, 5, 5, 5, 5, 5]\n",
            "[9, 4, 9, 9, 4, 9, 9, 9, 4, 9, 9, 4, 9, 4, 4, 4, 4, 9, 4, 4]\n",
            "[7, 7, 7, 7, 7, 7, 7, 7, 7, 7, 7, 7, 7, 7, 7, 7, 9, 7, 7, 7]\n"
          ],
          "name": "stdout"
        }
      ]
    },
    {
      "cell_type": "code",
      "metadata": {
        "id": "e4DN8uB5J_Ce",
        "colab": {
          "base_uri": "https://localhost:8080/",
          "height": 35
        },
        "outputId": "f8cf9e71-eb9c-4f0f-db5f-df4e8fde488c"
      },
      "source": [
        "print(num_labl)"
      ],
      "execution_count": null,
      "outputs": [
        {
          "output_type": "stream",
          "text": [
            "[8, 2, 6, 1, 0, 3, 4, 5, 9, 7]\n"
          ],
          "name": "stdout"
        }
      ]
    },
    {
      "cell_type": "code",
      "metadata": {
        "id": "iEMZV7wBhMDr"
      },
      "source": [
        "#change labels\n",
        "for x in range(len(y_pred)):\n",
        "  value=y_pred[x]\n",
        "  y_pred[x]=num_labl[value]\n"
      ],
      "execution_count": null,
      "outputs": []
    },
    {
      "cell_type": "code",
      "metadata": {
        "id": "wnKik7qryy3e",
        "colab": {
          "base_uri": "https://localhost:8080/",
          "height": 52
        },
        "outputId": "85dd7d3e-20f1-430f-9a5f-b3359749e030"
      },
      "source": [
        "print(y_pred)\n",
        "accuracy=acc(trlabel,y_pred)\n",
        "print('The accuracy is {}%'.format(int(accuracy*100)))"
      ],
      "execution_count": null,
      "outputs": [
        {
          "output_type": "stream",
          "text": [
            "[5 0 4 ... 9 5 6]\n",
            "The accuracy is 87%\n"
          ],
          "name": "stdout"
        }
      ]
    },
    {
      "cell_type": "code",
      "metadata": {
        "id": "rIUUZlSQhf9K"
      },
      "source": [
        "print(trlabel[:20])\n",
        "\n",
        "print(y_pred[:20])"
      ],
      "execution_count": null,
      "outputs": []
    },
    {
      "cell_type": "markdown",
      "metadata": {
        "id": "4B3DdJKojhMN"
      },
      "source": [
        "Typically, clustering is used on unlabeled data so accuracy could only be measure by using metrics such as sillhouete score"
      ]
    }
  ]
}