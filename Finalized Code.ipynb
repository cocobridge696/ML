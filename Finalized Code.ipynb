{
 "cells": [
  {
   "cell_type": "markdown",
   "metadata": {},
   "source": [
    "# Simple exam with D = infinity"
   ]
  },
  {
   "cell_type": "code",
   "execution_count": 1,
   "metadata": {},
   "outputs": [],
   "source": [
    "import numpy as np\n",
    "import pandas as pd\n",
    "import matplotlib.pyplot as plt\n"
   ]
  },
  {
   "cell_type": "code",
   "execution_count": 2,
   "metadata": {},
   "outputs": [],
   "source": [
    "# define card values\n",
    "card_val = {'A': 11, 'K': 10, 'Q': 10, 'J': 10, 't': 10, '9': 9,\n",
    "            '8': 8, '7': 7, '6': 6, '5': 5, '4': 4, '3': 3, '2': 2, '1': 1, '': 0, '0': 0}\n"
   ]
  },
  {
   "cell_type": "code",
   "execution_count": 3,
   "metadata": {},
   "outputs": [],
   "source": [
    "\n",
    "def card_gen():\n",
    "    '''\n",
    "    Returns a random card.\n",
    "    '''\n",
    "    # cant use 10 because only one digit allowed in np string array. Using t instead\n",
    "    poss_cards = ['A', 'K', 'Q', 'J', 't', 9, 8, 7, 6, 5, 4, 3, 2]\n",
    "    loc = np.random.randint(0, len(poss_cards))\n",
    "    return str(poss_cards[loc])\n"
   ]
  },
  {
   "cell_type": "code",
   "execution_count": 4,
   "metadata": {},
   "outputs": [],
   "source": [
    "\n",
    "def sum_cards(cards):\n",
    "    '''\n",
    "    function to get the score of the hand.\n",
    "\n",
    "            Parameters:\n",
    "                    cards (array): all the cards in the current hand\n",
    "\n",
    "            Returns:\n",
    "                    the score of the hand\n",
    "    '''\n",
    "    y = 1\n",
    "    tem_cards = np.copy(np.array((cards)))\n",
    "\n",
    "    while y == 1:\n",
    "        total = 0\n",
    "        for x in tem_cards:\n",
    "            total += card_val[x]\n",
    "        if total <= 21:\n",
    "            # score of hand\n",
    "            return sum([card_val[tem_cards[k]] for k in range(len(tem_cards))])**2\n",
    "        elif np.any(tem_cards == 'A'):\n",
    "            total = total-10\n",
    "\n",
    "            tem_cards[np.where(tem_cards == 'A')[0][0]] = '1'\n",
    "\n",
    "        else:\n",
    "            return 0\n"
   ]
  },
  {
   "cell_type": "code",
   "execution_count": 5,
   "metadata": {},
   "outputs": [],
   "source": [
    "\n",
    "def eps_greed_pol(state, total, eps, Qtab_0, Qtab_1):\n",
    "    '''\n",
    "    Epsilon greedy policy.\n",
    "\n",
    "            Parameters:\n",
    "                    state (array): all the cards in the current hand\n",
    "                    total (int): The total value of the current hand\n",
    "                    eps (float): The value of epsilon\n",
    "                    Qtab_0 (dict): The Qtable for the action of sticking\n",
    "                    Qtab_1 (dict): The Qtable for the action of hitting\n",
    "\n",
    "            Returns:\n",
    "                    The action of the agent following this policy\n",
    "    '''\n",
    "\n",
    "    exploration = np.random.choice(np.arange(0, 2), p=[1-eps, eps])\n",
    "    useable_ace = int(np.any(state == 'A'))\n",
    "    com_state = tuple([total, useable_ace])\n",
    "    # choose at random if state not been visited\n",
    "    if (com_state not in Qtab_1) and (com_state not in Qtab_0):\n",
    "        action = np.random.choice(np.arange(0, 2), p=[0.5, 0.5])\n",
    "        Qtab_1[com_state] = 0\n",
    "        Qtab_0[com_state] = 0\n",
    "\n",
    "    elif com_state not in Qtab_1:  # action 1 has not been selected before\n",
    "        Qtab_1[com_state] = 0\n",
    "        if exploration == 1:\n",
    "            action = 1\n",
    "        else:\n",
    "            action = 0\n",
    "\n",
    "    elif com_state not in Qtab_0:  # action 0 has not been selected before\n",
    "        Qtab_0[com_state] = 0\n",
    "        if exploration == 1:\n",
    "            action = 0\n",
    "        else:\n",
    "            action = 1\n",
    "    # choose highest Q value if exploration==0\n",
    "    elif Qtab_1[com_state] > Qtab_0[com_state]:\n",
    "        if exploration == 1:\n",
    "            action = 0\n",
    "        else:\n",
    "            action = 1\n",
    "\n",
    "    elif Qtab_1[com_state] == Qtab_0[com_state]:\n",
    "        action = np.random.choice(np.arange(0, 2), p=[0.5, 0.5])\n",
    "    else:  # condition for when Qtable0<Qtable1\n",
    "        if exploration == 1:\n",
    "            action = 1\n",
    "        else:\n",
    "            action = 0\n",
    "\n",
    "    return action\n"
   ]
  },
  {
   "cell_type": "code",
   "execution_count": 6,
   "metadata": {},
   "outputs": [],
   "source": [
    "# runs episodes\n",
    "def run_episodes(num_eps, policy, eps, Qtab_0, Qtab_1, per_hand_decay, Q_learn, alpha, alpha_decay):\n",
    "    '''\n",
    "    Runs an number of episodes of the blackjack environment.\n",
    "\n",
    "            Parameters:\n",
    "                    num_eps (int): The number of hands played\n",
    "                    policy (function): The policy being followed in the episodes\n",
    "                    eps (float): The value of epsilon\n",
    "                    Qtab_0 (dict): The Qtable for the action of sticking\n",
    "                    Qtab_1 (dict): The Qtable for the action of hitting\n",
    "                    Per_hand_decy (float): How much epsilon is decayed per hand\n",
    "                    Qlearn (Boolean): True if Qlearning is being used\n",
    "                    Alpha (float): Value of alpha for Qlearning\n",
    "                    alpha_decay (floar): The decay rate of alpha\n",
    "\n",
    "            Returns:\n",
    "                    The totals,actions,rewards and cards from the episodes\n",
    "    '''\n",
    "\n",
    "    # useful to keep track of these 4 for debugging\n",
    "    TOTAL = np.zeros([num_eps, 12])\n",
    "    action = np.zeros([num_eps, 12])\n",
    "    reward = np.zeros([num_eps, 12])\n",
    "    cards = np.zeros([num_eps, 12], dtype=str)\n",
    "\n",
    "    for i in range(num_eps):\n",
    "        if Q_learn == True:\n",
    "            eps = eps*per_hand_decay\n",
    "            alpha = alpha*alpha_decay\n",
    "        total = 0\n",
    "        bust = False\n",
    "        while bust != True:\n",
    "            # if no cards in hand must twist\n",
    "\n",
    "            if cards[i, 0] == '':\n",
    "                j = 0\n",
    "                cards[i, j] = card_gen()\n",
    "                total = card_val[cards[i, j]]\n",
    "                TOTAL[i, j] = total\n",
    "\n",
    "            # random action 0 = stick, 1 = twist\n",
    "            choice = policy(cards[i, :], total, eps, Qtab_0, Qtab_1)\n",
    "            action[i, j] = choice\n",
    "\n",
    "            if choice == 0:\n",
    "                reward[i, j] = sum_cards(cards[i, :])\n",
    "                if Q_learn == True:\n",
    "                    useable_ace = int(np.any(cards[i, :] == 'A'))\n",
    "\n",
    "                    com_state = tuple([total, useable_ace])\n",
    "\n",
    "                    # update using temporal difference equations\n",
    "                    Qtab_0[com_state] = Qtab_0[com_state] + \\\n",
    "                        alpha*(reward[i, j]-Qtab_0[com_state]\n",
    "                               )  # note qmax=0 as its a terminal state\n",
    "                break\n",
    "            else:\n",
    "                j += 1\n",
    "                cards[i, j] = card_gen()\n",
    "\n",
    "                total = sum_cards(cards[i, :])\n",
    "                TOTAL[i, j] = total\n",
    "\n",
    "                if Q_learn == True:\n",
    "                    prev_useable_ace = int(np.any(cards[i, 0:j] == 'A'))\n",
    "                    now_useable_ace = int(np.any(cards[i, :] == 'A'))\n",
    "                    # using past total\n",
    "                    com_state = tuple([TOTAL[i, j-1], prev_useable_ace])\n",
    "                    # using current toal\n",
    "                    qmax = Qmax(tuple([total, now_useable_ace]))\n",
    "\n",
    "                    # update qvalue using temporal difference\n",
    "                    Qtab_1[com_state] = Qtab_1[com_state] + alpha * \\\n",
    "                        (qmax-Qtab_1[com_state])  # note reward = 0\n",
    "\n",
    "            if total == 0:  # check if bust\n",
    "                bust = True\n",
    "\n",
    "    return cards, TOTAL, action, reward\n"
   ]
  },
  {
   "cell_type": "code",
   "execution_count": 7,
   "metadata": {},
   "outputs": [],
   "source": [
    "# update qtables\n",
    "def update_qtables(cards, rewards, actions, total):\n",
    "    '''\n",
    "    Updates the Qtables using the data from the episodes.\n",
    "\n",
    "            Parameters:\n",
    "                    cards (array): all the cards from the episodes\n",
    "                    rewards (array): all the rewards from the episodes\n",
    "                    actions (array): all the actions from the episodes\n",
    "                    total (array): all the totals from the episodes\n",
    "                    \n",
    "\n",
    "            Returns:\n",
    "                    None\n",
    "    '''\n",
    "    # Qtable 0\n",
    "    for row in range(len(cards)):\n",
    "        sorted_hand = cards[row, :]\n",
    "        loc_last_card = np.where(sorted_hand == '')[0][0]-1\n",
    "        Qtable_0[tuple([total[row, loc_last_card], int(\n",
    "            np.any(sorted_hand == 'A'))])] = rewards[row, loc_last_card]\n",
    "    # Qtable 1\n",
    "    for col in range(0, len(cards[0, :])):  # iterate through columns\n",
    "        # only consder when actions==1\n",
    "        sorted_hands = cards[actions[:, col] == 1, 0:col+1]\n",
    "        sorted_rewards = rewards[actions[:, col] == 1, :]\n",
    "        sorted_totals = total[actions[:, col] == 1, col]\n",
    "        indv = np.unique(sorted_totals, axis=0)  # unique totals\n",
    "\n",
    "        for tot in indv:\n",
    "            locs = np.where(sorted_totals == [tot])\n",
    "            useable_ace = int((np.any(sorted_hands[locs, :] == 'A')) or np.any(\n",
    "                sorted_hands[locs, :] == '1'))\n",
    "            # take average of all returns from same state\n",
    "            if tuple([tot, useable_ace]) not in counter:\n",
    "                counter[tuple([tot, useable_ace])] = len(locs[0])\n",
    "            if tuple([tot, useable_ace]) not in Qtable_1:\n",
    "                Qtable_1[tuple([tot, useable_ace])] = sum(\n",
    "                    (np.max(sorted_rewards[locs[0], :], axis=1)))/len(locs[0])  # new mean\n",
    "            else:\n",
    "                Qtable_1[tuple([tot, useable_ace])] = (Qtable_1[tuple([tot, useable_ace])]*counter[tuple([tot, useable_ace])] + sum(\n",
    "                    (np.max(sorted_rewards[locs[0], :], axis=1))))/(len(locs[0])+counter[tuple([tot, useable_ace])])  # find the new mean ie : ((mean(old))*num(old)+sum(new))/(num(old)+num(new))= (sum(old)+sum(new))/(num(old)+num(new))=mean\n",
    "                counter[tuple([tot, useable_ace])] += len(locs[0])\n",
    "    return\n"
   ]
  },
  {
   "cell_type": "code",
   "execution_count": 8,
   "metadata": {},
   "outputs": [],
   "source": [
    "# iterates between running episodes and updating q values\n",
    "def policy_iter_loop(update_qtables, eps_greed_pol, eps, iters, per_deck_decay, per_hand_decay):\n",
    "    '''\n",
    "    Performs the policy iteration cycle.\n",
    "\n",
    "            Parameters:\n",
    "                    update_qtables (function): function to update Qtables\n",
    "                    eps_greed_pol (function): policy function\n",
    "                    eps (float): value of epsilon\n",
    "                    iters (int): number of policy iterations\n",
    "                    per_deck_decay (float): epsilon decay per deck\n",
    "                    per_hand_decay (float): epsilon decay per hand\n",
    "                    \n",
    "\n",
    "            Returns:\n",
    "                    the average reward achieved by the agent per 10000 hands\n",
    "    '''\n",
    "\n",
    "\n",
    "    avg_reward = np.zeros([1, iters])\n",
    "\n",
    "    for it in range(iters):\n",
    "        cards, total, actions, rewards = run_episodes(\n",
    "            10000, eps_greed_pol, eps, Qtable_0, Qtable_1, per_hand_decay, False, 0, 0)  # approx the qvalues\n",
    "        update_qtables(cards, rewards, actions, total)  # update the qvalues\n",
    "        total = 0\n",
    "        for x in range(len(cards)):\n",
    "            loc_last_card = np.where(cards[x, :] == '')[0][0]-1\n",
    "            # can use this or simply the max of each row, given rewards are only given at the final state\n",
    "            total += rewards[x, loc_last_card]\n",
    "        avg_reward[0, it] = total/len(cards)\n",
    "        if per_hand_decay != False:\n",
    "            eps = eps*per_hand_decay**10000\n",
    "        else:\n",
    "            eps = eps*per_deck_decay  # update decay for input into next loop\n",
    "\n",
    "    return avg_reward\n"
   ]
  },
  {
   "cell_type": "code",
   "execution_count": 9,
   "metadata": {},
   "outputs": [],
   "source": [
    "Qtable_0 = {}\n",
    "Qtable_1 = {}\n",
    "counter = {}\n",
    "iters = 100\n",
    "per_hand_decay = 1  # no decay\n",
    "per_deck_decay = 1\n",
    "\n",
    "avg_rew1 = policy_iter_loop(\n",
    "    update_qtables, eps_greed_pol, 0.1, iters, per_deck_decay, per_hand_decay)\n"
   ]
  },
  {
   "cell_type": "code",
   "execution_count": 10,
   "metadata": {},
   "outputs": [],
   "source": [
    "Qtable_0 = {}\n",
    "Qtable_1 = {}\n",
    "counter = {}\n",
    "per_hand_decay = 0.999994  # decaying each hand work better than per deck\n",
    "per_deck_decay = 1\n",
    "iters = 100\n",
    "avg_rew2 = policy_iter_loop(\n",
    "    update_qtables, eps_greed_pol, 1, iters, per_deck_decay, per_hand_decay)\n"
   ]
  },
  {
   "cell_type": "code",
   "execution_count": 11,
   "metadata": {},
   "outputs": [
    {
     "name": "stdout",
     "output_type": "stream",
     "text": [
      "238.5508\n",
      "282.3329\n"
     ]
    },
    {
     "data": {
      "image/png": "[encoded data removed]",
      "text/plain": [
       "<Figure size 432x288 with 1 Axes>"
      ]
     },
     "metadata": {
      "needs_background": "light"
     },
     "output_type": "display_data"
    }
   ],
   "source": [
    "plt.plot(range(len(avg_rew1[0])), avg_rew1[0], label='Constant Epsilon')\n",
    "plt.plot(range(len(avg_rew2[0])), avg_rew2[0], label='Decaying Epsilon')\n",
    "plt.xlabel('Hands Encountered (10,000)')\n",
    "plt.ylabel('Average score')\n",
    "plt.legend()\n",
    "print(avg_rew1[0][-1])\n",
    "print(avg_rew2[0][-1])\n"
   ]
  },
  {
   "cell_type": "markdown",
   "metadata": {},
   "source": [
    "## Dynamic programming"
   ]
  },
  {
   "cell_type": "code",
   "execution_count": 12,
   "metadata": {},
   "outputs": [],
   "source": [
    "import itertools as it\n"
   ]
  },
  {
   "cell_type": "code",
   "execution_count": 13,
   "metadata": {},
   "outputs": [],
   "source": [
    "# returns combinations of cards\n",
    "def all_hands(cards, num_cards):\n",
    "    '''\n",
    "    Get alls possible combinations of cards.\n",
    "\n",
    "            Parameters:\n",
    "                    cards (array): all the possible cards\n",
    "                    num_cards (int): the number of cards for combinations\n",
    "                    \n",
    "\n",
    "            Returns:\n",
    "                    all the possible combinations of the cards\n",
    "    '''\n",
    "    x = it.combinations_with_replacement(cards, num_cards)\n",
    "    return x\n"
   ]
  },
  {
   "cell_type": "code",
   "execution_count": 14,
   "metadata": {},
   "outputs": [],
   "source": [
    "# initialize q table\n",
    "cards = ['A', 'K', 'Q', 'J', 't', '9', '8', '7', '6', '5', '4', '3', '2']\n",
    "Qtable_0_2 = {}\n",
    "Qtable_1_2 = {}\n",
    "num_cards = 8  # top number of cards for combinations\n",
    "for y in range(num_cards, 0, -1):  # start at 8\n",
    "    cards_com = all_hands(cards, y)  # all combinations of 8 cards\n",
    "    for x in cards_com:\n",
    "        # use cards as states not total, this helps with back propagating rewards and also is useful for task 2\n",
    "        sorted = tuple(np.sort(x))\n",
    "        Qtable_0_2[sorted] = sum_cards(x)\n",
    "    if y < num_cards:  # for card combinatins less than 8\n",
    "        cards_com = all_hands(cards, y)\n",
    "        for x in cards_com:\n",
    "            sorted = tuple(np.sort(x))\n",
    "            total = 0\n",
    "            for card in cards:\n",
    "                sorted_com = tuple(np.sort(sorted+(card,)))\n",
    "                if sorted_com in Qtable_1_2:\n",
    "                    q1val = Qtable_1_2[sorted_com]\n",
    "                else:\n",
    "                    q1val = 0\n",
    "                if sorted_com in Qtable_0_2:\n",
    "                    q0val = Qtable_0_2[sorted_com]\n",
    "                else:\n",
    "                    q0val = 0\n",
    "                # back propagate returns using bellman equations\n",
    "                total += max(q1val, q0val)\n",
    "                Qtable_1_2[sorted] = total/len(cards)\n"
   ]
  },
  {
   "cell_type": "code",
   "execution_count": 15,
   "metadata": {},
   "outputs": [],
   "source": [
    "# greedy policy\n",
    "def dynam_prog_pol(cards, eps, total, Qtab_0, Qtab_1):\n",
    "    '''\n",
    "    greedy policy that is followed by dynamic programming agent.\n",
    "\n",
    "            Parameters:\n",
    "                    cards (array): all the cards in the hand\n",
    "                    epsilon (float): epsilon value (redundant in this function but needed for other policy and to allow both methods to be used in run episodes function)\n",
    "                    total (int): the current score of the hand\n",
    "                    Qtab_0 (dict): The Qtable for the action of sticking\n",
    "                    Qtab_1 (dict): The Qtable for the action of hitting\n",
    "                    \n",
    "\n",
    "            Returns:\n",
    "                    the action taken by the agent while following a greedy policy\n",
    "    '''\n",
    "    cards = np.array([x for x in cards if x != ''])\n",
    "    loc = cards == '1'\n",
    "    cards[loc] = 'A'  # convert 1s back to aces\n",
    "    if Qtab_1[tuple(np.sort(cards))] > Qtab_0[tuple(np.sort(cards))]:\n",
    "        return 1\n",
    "    else:\n",
    "        return 0\n"
   ]
  },
  {
   "cell_type": "code",
   "execution_count": 16,
   "metadata": {},
   "outputs": [],
   "source": [
    "cards, total, actions, rewards = run_episodes(\n",
    "    10000, dynam_prog_pol, 1, Qtable_0_2, Qtable_1_2, 1, False, 0, 0)  # approx the qvalues, only relevant parameters are Qtables and policy\n"
   ]
  },
  {
   "cell_type": "code",
   "execution_count": 17,
   "metadata": {},
   "outputs": [
    {
     "name": "stdout",
     "output_type": "stream",
     "text": [
      "286.7323\n"
     ]
    }
   ],
   "source": [
    "# take the max of the each row of the rewards (reward row is all 0s except if sticking) then average\n",
    "dynam_avg_score = np.mean(np.max(rewards, 1))\n",
    "print(dynam_avg_score)\n"
   ]
  },
  {
   "cell_type": "markdown",
   "metadata": {},
   "source": [
    "## Q-learning (off policy TD control)"
   ]
  },
  {
   "cell_type": "code",
   "execution_count": 18,
   "metadata": {},
   "outputs": [],
   "source": [
    "def Qmax(key):\n",
    "    if key in Qtable_1_3 and key in Qtable_0_3:\n",
    "        return max(Qtable_1_3[key], Qtable_0_3[key])\n",
    "    elif key not in Qtable_1_3 and key not in Qtable_0_3:\n",
    "        return 0\n",
    "    elif key not in Qtable_1_3:\n",
    "        return Qtable_0_3[key]\n",
    "    else:\n",
    "        return Qtable_1_3[key]\n"
   ]
  },
  {
   "cell_type": "code",
   "execution_count": 19,
   "metadata": {},
   "outputs": [],
   "source": [
    "Qtable_1_3 = {}\n",
    "Qtable_0_3 = {}\n",
    "per_hand_decay = 0.999994\n",
    "alpha_decay = 1\n",
    "alpha = 0.05\n",
    "its = 1000000\n",
    "eps = 1\n",
    "\n",
    "cards, TOTAL, action, reward = run_episodes(\n",
    "    its, eps_greed_pol, eps, Qtable_0_3, Qtable_1_3, per_hand_decay, True, alpha, alpha_decay)  # approx the qvalues\n",
    "\n",
    "\n",
    "avg = []\n",
    "for n in range(int(its/10000)):  # average the score over every 10,000 iterations\n",
    "    avg.append(np.mean(np.max(reward[n*10000:(n+1)*10000, :], axis=1)))\n"
   ]
  },
  {
   "cell_type": "code",
   "execution_count": 20,
   "metadata": {},
   "outputs": [],
   "source": [
    "Qtable_1_3 = {}\n",
    "Qtable_0_3 = {}\n",
    "decay = 0.999994\n",
    "alpha = 2\n",
    "alpha_decay = 0.99999\n",
    "its = 1000000\n",
    "\n",
    "cards, TOTAL, action, reward = run_episodes(\n",
    "    its, eps_greed_pol, eps, Qtable_0_3, Qtable_1_3, per_hand_decay, True, alpha, alpha_decay)  # approx the qvalues\n",
    "\n",
    "avg_decay_alpha = []\n",
    "for n in range(int(its/10000)):  # average the score over every 10,000 iterations\n",
    "    # take the mean of the max rewards in each row per 10,0000 rows\n",
    "    avg_decay_alpha.append(\n",
    "        np.mean(np.max(reward[n*10000:(n+1)*10000, :], axis=1)))\n"
   ]
  },
  {
   "cell_type": "code",
   "execution_count": 21,
   "metadata": {},
   "outputs": [
    {
     "name": "stdout",
     "output_type": "stream",
     "text": [
      "276.2508\n",
      "283.6293\n"
     ]
    },
    {
     "data": {
      "image/png": "[encoded data removed]",
      "text/plain": [
       "<Figure size 432x288 with 1 Axes>"
      ]
     },
     "metadata": {
      "needs_background": "light"
     },
     "output_type": "display_data"
    }
   ],
   "source": [
    "plt.plot(avg, label='No Alpha Decay')\n",
    "plt.plot(avg_decay_alpha, label='Alpha Decay')\n",
    "plt.xlabel('Hands encountered (10,000)')\n",
    "plt.ylabel('Average Score')\n",
    "plt.legend()\n",
    "print(avg[-1])\n",
    "print(avg_decay_alpha[-1])\n"
   ]
  },
  {
   "cell_type": "markdown",
   "metadata": {},
   "source": [
    "## compare all methods"
   ]
  },
  {
   "cell_type": "code",
   "execution_count": 22,
   "metadata": {},
   "outputs": [
    {
     "data": {
      "text/plain": [
       "Text(0, 0.5, 'Average Score')"
      ]
     },
     "execution_count": 22,
     "metadata": {},
     "output_type": "execute_result"
    },
    {
     "data": {
      "image/png": "[encoded data removed]",
      "text/plain": [
       "<Figure size 432x288 with 1 Axes>"
      ]
     },
     "metadata": {
      "needs_background": "light"
     },
     "output_type": "display_data"
    }
   ],
   "source": [
    "plt.plot(avg_decay_alpha, label='Q-learning (off policy temporal differencing) ')\n",
    "plt.plot(avg_rew2[0], label='Monte Carlo Sampling Method')\n",
    "plt.plot([dynam_avg_score]*100, linestyle='dotted',\n",
    "         label='Dynamic Programming')\n",
    "plt.legend()\n",
    "plt.xlabel('Hands Encountered (10,000)')\n",
    "plt.ylabel('Average Score')\n"
   ]
  },
  {
   "cell_type": "markdown",
   "metadata": {},
   "source": [
    "# Finite number of decks"
   ]
  },
  {
   "cell_type": "code",
   "execution_count": 23,
   "metadata": {},
   "outputs": [],
   "source": [
    "\n",
    "def make_inital_shuffled_deck(decks, seed):\n",
    "    '''\n",
    "    Takes n decks of cards and shuffles them given a seed, seed is for reproduceability.\n",
    "\n",
    "            Parameters:\n",
    "                    decks (int): number of decks being used\n",
    "                    seed (int): the numpy random seed\n",
    "                    \n",
    "\n",
    "            Returns:\n",
    "                    the shuffled deck\n",
    "    '''\n",
    "    # cant use 10 because only one digit allowed in np string array\n",
    "    poss_cards = ['A', 'K', 'Q', 'J', 't',\n",
    "                  '9', '8', '7', '6', '5', '4', '3', '2']\n",
    "    np.random.seed(seed)\n",
    "    cards = list(np.repeat(poss_cards, decks*4))\n",
    "    np.random.shuffle(cards)  # shuffles in place\n",
    "    return cards\n"
   ]
  },
  {
   "cell_type": "code",
   "execution_count": 24,
   "metadata": {},
   "outputs": [],
   "source": [
    "\n",
    "def card_gen2(cards):\n",
    "    '''\n",
    "    Takes first element out of a shuffled deck.\n",
    "\n",
    "            Parameters:\n",
    "                    cards (array): shuffled deck\n",
    "                \n",
    "            Returns:\n",
    "                    the first card from the deck and the remaining deck\n",
    "    '''\n",
    "    \n",
    "    if cards == []:\n",
    "        return 0, cards\n",
    "    out = cards.pop(0)\n",
    "    return out, cards\n"
   ]
  },
  {
   "cell_type": "code",
   "execution_count": 25,
   "metadata": {},
   "outputs": [],
   "source": [
    "\n",
    "def make_q_table(history, decks, num_cards, deck_remaining, start):\n",
    "    '''\n",
    "    Makes q tables given a history of cards.\n",
    "\n",
    "            Parameters:\n",
    "                    history (array): the cards already been played\n",
    "                    decks (int): the number of decks being used\n",
    "                    num_cards (int): the number of cards used for combinations\n",
    "                    deck_remaining (array): the remaing deck\n",
    "                    start (binary): 1 if it is the first time the function is called\n",
    "                \n",
    "            Returns:\n",
    "                    None\n",
    "    '''\n",
    "\n",
    "    cards = ['A', 'K', 'Q', 'J', 't', '9', '8', '7', '6', '5', '4', '3', '2']\n",
    "    history[np.where(history == '1')] = 'A'  # change 1 back to ace for Qtables\n",
    "\n",
    "    num_cards_used = len(np.where(history != '')[0])\n",
    "    # only consider relevant card combinations\n",
    "    num_cards = min(num_cards, 52*decks-num_cards_used)\n",
    "    for y in range(num_cards, 0, -1):  # start at top and backpropagate\n",
    "\n",
    "        cards_com = all_hands(cards, y)\n",
    "\n",
    "        for x in cards_com:\n",
    "            sorted = tuple(np.sort(x))\n",
    "            if start == 1:\n",
    "                # make Qtable0 only first time this is run, as this never changes\n",
    "                Qtable_0_4[sorted] = sum_cards(x)\n",
    "        if y < num_cards:  # back propagation\n",
    "            cards_com = all_hands(cards, y)\n",
    "\n",
    "            for x in cards_com:\n",
    "                sorted = tuple(np.sort(x))\n",
    "                temp_deck_remain = np.copy(\n",
    "                    deck_remaining)  # store tempory deck\n",
    "                not_in_deck = 'False'\n",
    "                # remove card com x from cards remaining\n",
    "                for k in x:\n",
    "\n",
    "                    loc = np.where(np.array(temp_deck_remain) == k)\n",
    "\n",
    "                    if loc[0].size == 0:\n",
    "                        not_in_deck == True\n",
    "                        break  # break out of first for loop\n",
    "\n",
    "                    # remove cards for remaining deck, so only consider relevant combinations, ie: if one is considering the policy for hand ['2'] and there is only one 2 in the deck the hand ['2','2'] should not be backpropagted as its not possible\n",
    "                    temp_deck_remain[loc[0][0]] = ''\n",
    "                if not_in_deck == True:\n",
    "                    break  # break out of second for loop\n",
    "                # see which cards are left\n",
    "                cards_left = np.unique(\n",
    "                    temp_deck_remain[temp_deck_remain != ''])\n",
    "\n",
    "                total = 0\n",
    "                for card in cards_left:\n",
    "                    # consider all possibe future states\n",
    "                    sorted_com = tuple(np.sort(sorted+(card,)))\n",
    "                    if sorted_com in Qtable_1_4:\n",
    "                        q1val = Qtable_1_4[sorted_com]\n",
    "                    else:\n",
    "                        q1val = 0\n",
    "                    if sorted_com in Qtable_0_4:\n",
    "                        q0val = Qtable_0_4[sorted_com]\n",
    "                    else:\n",
    "                        q0val = 0\n",
    "                    prob_card = (\n",
    "                        decks*4-len(np.where(history == card)[0]))/(decks*52-num_cards_used)  # transition probability\n",
    "\n",
    "                    total += prob_card*max(q1val, q0val)\n",
    "                    Qtable_1_4[sorted] = total\n",
    "    return\n"
   ]
  },
  {
   "cell_type": "code",
   "execution_count": 26,
   "metadata": {},
   "outputs": [],
   "source": [
    "\n",
    "def limited_decks(policy, decks, num_cards, memory_agent, seed, n):\n",
    "\n",
    "    '''\n",
    "    Runs an episode for the limited decks environment,seperate function to unlimited decks to make it easier to understand.\n",
    "\n",
    "            Parameters:\n",
    "                    policy (function): the policy being followed\n",
    "                    decks (int): the number of decks being used\n",
    "                    num_cards (int): the number of cards used for combinations\n",
    "                    memory_agent (binary): 1 if a memory agent is being used\n",
    "                    seed (int): the numpy random seed\n",
    "                \n",
    "            Returns:\n",
    "                    the cards,totals,rewards and actions from the episode\n",
    "    '''\n",
    "\n",
    "\n",
    "\n",
    "    # initialiaze assuming each hand is 2 cards, should not run out of rows\n",
    "    num_hands = int(52*decks/2)\n",
    "    TOTAL = np.zeros([num_hands, 12])\n",
    "    action = np.zeros([num_hands, 12])\n",
    "    reward = np.zeros([num_hands, 12])\n",
    "    cards = np.zeros([num_hands, 12], dtype=str)\n",
    "    full_deck = make_inital_shuffled_deck(decks, seed)  # initialize deck\n",
    "\n",
    "    i = 0\n",
    "    while full_deck != []:  # iterate while deck mix is not empty\n",
    "\n",
    "        if memory_agent == 1:\n",
    "\n",
    "            if i == 0:\n",
    "                # only make Qtable0 on first run\n",
    "                make_q_table(cards, decks, num_cards, full_deck, start=1)\n",
    "            elif i % n == 0:\n",
    "                # if memory agent is being used make Qtable 1 every n hands\n",
    "                make_q_table(cards, decks, num_cards, full_deck, start=0)\n",
    "\n",
    "        total = 0\n",
    "        bust = False\n",
    "        while bust != True:  # if bust move to next hand\n",
    "\n",
    "            # if no cards in hand must twist\n",
    "\n",
    "            if cards[i, 0] == '':\n",
    "                j = 0\n",
    "\n",
    "                cards[i, j], full_deck = card_gen2(full_deck)\n",
    "\n",
    "                if cards[i, j] == '0':\n",
    "                    break  # break if deck is empty\n",
    "\n",
    "                total = sum_cards(cards[i, :])\n",
    "                TOTAL[i, j] = total  # track running total\n",
    "\n",
    "            if memory_agent == 1:  # different qtables for each agent\n",
    "                choice = policy(cards[i, :], False, False,\n",
    "                                Qtable_0_4, Qtable_1_4)\n",
    "            else:\n",
    "                choice = policy(cards[i, :], False, False,\n",
    "                                Qtable_0_2, Qtable_1_2)\n",
    "\n",
    "            action[i, j] = choice  # track decision\n",
    "\n",
    "            if choice == 0:\n",
    "                reward[i, j] = sum_cards(cards[i, :])  # will return 0 if bust\n",
    "                break\n",
    "            else:\n",
    "                j += 1\n",
    "                cards[i, j], full_deck = card_gen2(full_deck)\n",
    "                total = sum_cards(cards[i, :])\n",
    "                reward[i, j] = 0  # no reward for hitting, only sticking\n",
    "                TOTAL[i, j] = total  # track running total\n",
    "\n",
    "                if cards[i, j] == '0':  # if deck is empty store hand score\n",
    "                    reward[i, j] = total\n",
    "                    break\n",
    "\n",
    "            if total == 0:  # check if bust\n",
    "                bust = True\n",
    "\n",
    "        i += 1\n",
    "    return cards, TOTAL, action, reward\n"
   ]
  },
  {
   "cell_type": "code",
   "execution_count": 27,
   "metadata": {},
   "outputs": [],
   "source": [
    "Qtable_1_4 = {}\n",
    "Qtable_0_4 = {}\n",
    "cards, total, actions, rewards = limited_decks(\n",
    "    dynam_prog_pol, 1, 6, 1, 100, 1)\n"
   ]
  },
  {
   "cell_type": "code",
   "execution_count": 28,
   "metadata": {},
   "outputs": [
    {
     "name": "stdout",
     "output_type": "stream",
     "text": [
      "309.42857142857144\n"
     ]
    }
   ],
   "source": [
    "\n",
    "# remove empty rows,(empty hands from intialization)\n",
    "rew = rewards[np.where(cards[:, 1] != '')[0], :]\n",
    "# can take the max as reards only given after sticking and 0 reward is given for bust\n",
    "rew = np.max(rew, axis=1)\n",
    "print(np.mean(rew))  # average rewards\n"
   ]
  },
  {
   "cell_type": "markdown",
   "metadata": {},
   "source": [
    "## Compare with non memory agent"
   ]
  },
  {
   "cell_type": "code",
   "execution_count": 29,
   "metadata": {},
   "outputs": [],
   "source": [
    "cards, total, actions, rewards = limited_decks(dynam_prog_pol, 1, 0, 0, 100, 1)\n"
   ]
  },
  {
   "cell_type": "code",
   "execution_count": 30,
   "metadata": {},
   "outputs": [
    {
     "name": "stdout",
     "output_type": "stream",
     "text": [
      "296.76190476190476\n"
     ]
    }
   ],
   "source": [
    "rew = rewards[np.where(cards[:, 1] != '')[0], :]\n",
    "rew = np.max(rew, axis=1)\n",
    "print(np.mean(rew))\n"
   ]
  },
  {
   "cell_type": "markdown",
   "metadata": {},
   "source": [
    "## Compare over n deck seeds and n decks"
   ]
  },
  {
   "cell_type": "code",
   "execution_count": 31,
   "metadata": {},
   "outputs": [
    {
     "name": "stdout",
     "output_type": "stream",
     "text": [
      "0\n",
      "1\n",
      "2\n",
      "3\n",
      "4\n"
     ]
    }
   ],
   "source": [
    "Qtable_1_3 = {}\n",
    "Qtable_0_3 = {}\n",
    "\n",
    "seeds = [609, 100, 70009, 908, 33]  # seeds for reproduceability\n",
    "decks = np.arange(1, 6)  # 1:5 decks\n",
    "n = 1  # memory agent that makes a new Qtable 1 after every hand\n",
    "\n",
    "mem_agent_rew = np.zeros([len(decks), len(seeds)])\n",
    "non_mem_agent_rew = np.zeros([len(decks), len(seeds)])\n",
    "for i in range(len(decks)):\n",
    "    print(i)  # counter to track progress\n",
    "    for j in range(len(seeds)):\n",
    "        cards, total, actions, rewards = limited_decks(\n",
    "            dynam_prog_pol, decks[i], 7, 1, seeds[j], n)\n",
    "        mem_agent_rew[i, j] = np.mean(\n",
    "            np.max(rewards[np.where(cards[:, 1] != '')[0], :], axis=1))  # condensed version of previous block\n",
    "        cards, total, actions, rewards = limited_decks(\n",
    "            dynam_prog_pol, decks[i], 0, 0, seeds[j], 10)\n",
    "        non_mem_agent_rew[i, j] = np.mean(\n",
    "            np.max(rewards[np.where(cards[:, 1] != '')[0], :], axis=1))  # condensed version of previous block\n"
   ]
  },
  {
   "cell_type": "code",
   "execution_count": 34,
   "metadata": {},
   "outputs": [
    {
     "data": {
      "text/plain": [
       "Text(0, 0.5, 'Average score difference between MA and NMA')"
      ]
     },
     "execution_count": 34,
     "metadata": {},
     "output_type": "execute_result"
    },
    {
     "data": {
      "image/png": "[encoded data removed]",
      "text/plain": [
       "<Figure size 432x288 with 1 Axes>"
      ]
     },
     "metadata": {
      "needs_background": "light"
     },
     "output_type": "display_data"
    }
   ],
   "source": [
    "diff = mem_agent_rew-non_mem_agent_rew\n",
    "plt.plot(decks, np.mean(diff, axis=1))\n",
    "plt.xlabel('Number of Decks')\n",
    "plt.ylabel('Average score difference between MA and NMA')\n"
   ]
  }
 ],
 "metadata": {
  "interpreter": {
   "hash": "ac59ebe37160ed0dfa835113d9b8498d9f09ceb179beaac4002f036b9467c963"
  },
  "kernelspec": {
   "display_name": "Python 3.9.7 64-bit",
   "language": "python",
   "name": "python3"
  },
  "language_info": {
   "codemirror_mode": {
    "name": "ipython",
    "version": 3
   },
   "file_extension": ".py",
   "mimetype": "text/x-python",
   "name": "python",
   "nbconvert_exporter": "python",
   "pygments_lexer": "ipython3",
   "version": "3.9.7"
  },
  "orig_nbformat": 4
 },
 "nbformat": 4,
 "nbformat_minor": 2
}
