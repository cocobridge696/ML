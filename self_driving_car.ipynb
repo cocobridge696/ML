{
 "cells": [
  {
   "cell_type": "code",
   "execution_count": 1,
   "metadata": {},
   "outputs": [],
   "source": [
    "from sklearn import tree\n",
    "from sklearn import svm\n",
    "from hyperopt import hp, fmin, tpe\n",
    "import imutils\n",
    "import tensorflow as tf\n",
    "import matplotlib.pyplot as plt\n",
    "from matplotlib import image\n",
    "import numpy as np\n",
    "import pandas as pd\n",
    "from PIL import Image, ImageFile\n",
    "import os\n",
    "from tensorflow.keras.layers import Input, Dense, Conv2D, MaxPooling2D, Dropout\n",
    "ImageFile.LOAD_TRUNCATED_IMAGES = True\n"
   ]
  },
  {
   "cell_type": "code",
   "execution_count": 2,
   "metadata": {},
   "outputs": [
    {
     "name": "stdout",
     "output_type": "stream",
     "text": [
      "WARNING:tensorflow:From C:\\Program Files\\Python39\\lib\\site-packages\\tensorflow\\python\\compat\\v2_compat.py:111: disable_resource_variables (from tensorflow.python.ops.variable_scope) is deprecated and will be removed in a future version.\n",
      "Instructions for updating:\n",
      "non-resource variables are not supported in the long term\n"
     ]
    }
   ],
   "source": [
    "from tensorflow.python.framework.config import set_memory_growth\n",
    "tf.compat.v1.disable_v2_behavior()\n",
    "gpus = tf.config.experimental.list_physical_devices('GPU')\n",
    "if gpus:\n",
    "    try:\n",
    "        for gpu in gpus:\n",
    "            set_memory_growth(gpu, True)\n",
    "    except RuntimeError as e:\n",
    "        print(e)\n"
   ]
  },
  {
   "cell_type": "code",
   "execution_count": 3,
   "metadata": {},
   "outputs": [],
   "source": [
    "def preprocess_data(output_img_sz, ar=False):\n",
    "    '''\n",
    "    Function to preprocess training images\n",
    "\n",
    "            Parameters:\n",
    "                    output_img_sz (int): The width of the output image\n",
    "                    ar (int): 1 for maintaining aspect ratio and 0 for square image\n",
    "            Returns:\n",
    "                    Normalised and resized images and labels\n",
    "     '''\n",
    "    train_labels = pd.read_csv(\n",
    "        'C:/Users/Thomas/OneDrive/Desktop/UON/mlis2/project/training_norm.csv')\n",
    "    train_labels.head()\n",
    "    train_labels = train_labels.to_numpy()\n",
    "    images = []\n",
    "    train_labels[train_labels[:, 1] > 1, 2] = 1\n",
    "\n",
    "    \n",
    "\n",
    "    for x in train_labels[:, 0]:\n",
    "        imag_arr = Image.open(\n",
    "            'C:/Users/Thomas/OneDrive/Desktop/UON/mlis2/project/training_data/' + str(int(x))+'.png').convert('RGB')\n",
    "        if ar == False:\n",
    "            imag_arr = np.array(imag_arr.resize(\n",
    "                (output_img_sz, output_img_sz)))/255\n",
    "        else:\n",
    "            \n",
    "            imag_arr = imutils.resize(\n",
    "                np.array(imag_arr), width=output_img_sz)/255\n",
    "\n",
    "        images.append(imag_arr)\n",
    "    images = np.array(images)  \n",
    "    \n",
    "    train_labels = train_labels[:, 1:]\n",
    "    return images, train_labels\n"
   ]
  },
  {
   "cell_type": "code",
   "execution_count": 4,
   "metadata": {},
   "outputs": [],
   "source": [
    "def additional_data(output_img_sz, dir, ar=False):\n",
    "    '''\n",
    "    Function to preprocess self collected images\n",
    "\n",
    "            Parameters:\n",
    "                    output_img_sz (int): The width of the output image\n",
    "                    ar (int): 1 for maintaining aspect ratio and 0 for square image\n",
    "                    dir (str): Directory of self collected images\n",
    "            Returns:\n",
    "                    Normalised and resized images and labels\n",
    "    '''\n",
    "    labels = []\n",
    "    images = []\n",
    "    \n",
    "    for text in os.listdir(dir):\n",
    "        imag_arr = Image.open(dir+'/'+text).convert('RGB')\n",
    "        if ar == False:\n",
    "            imag_arr = np.array(imag_arr.resize(\n",
    "                (output_img_sz, output_img_sz)))/255\n",
    "        else:\n",
    "            imag_arr = imutils.resize(\n",
    "                np.array(imag_arr), width=output_img_sz)/255\n",
    "        images.append(imag_arr)\n",
    "        split = text.split('_')\n",
    "        label1 = split[1]\n",
    "        label2 = split[2].split('.')[0]\n",
    "        labels.append([label1, label2])\n",
    "    images = np.array(images)\n",
    "    labels = np.array(labels, dtype=float)  \n",
    "    print(images.shape)\n",
    "    labels[:, 0] = (labels[:, 0]-50)/80\n",
    "    labels[:, 1] = labels[:, 1]/35\n",
    "\n",
    "    return images, labels\n"
   ]
  },
  {
   "cell_type": "code",
   "execution_count": 4,
   "metadata": {},
   "outputs": [],
   "source": [
    "def shuffle(images, train_labels):\n",
    "    '''\n",
    "    Function to shuffle images and labels\n",
    "\n",
    "            Parameters:\n",
    "                    images (array): The width of the output image\n",
    "                    train_labels (array): 1 for maintaining aspect ratio and 0 for square image\n",
    "            Returns:\n",
    "                    shuffled images and labels\n",
    "    '''\n",
    "    index = np.random.permutation(images.shape[0])\n",
    "    images = images[index, :, :, :]\n",
    "    train_labels = train_labels[index, :]\n",
    "    return images, train_labels\n"
   ]
  },
  {
   "cell_type": "code",
   "execution_count": 5,
   "metadata": {},
   "outputs": [],
   "source": [
    "def train_test_split(train_split, images, train_labels):\n",
    "    '''\n",
    "    Function to split images into testing and training groups\n",
    "\n",
    "            Parameters:\n",
    "                    train_split (float): The training split\n",
    "                    images (array): The images\n",
    "                    train_labels (array): The image labels\n",
    "            Returns:\n",
    "                    training and testing images and labels\n",
    "    '''\n",
    "    idx = int(len(images)*train_split)\n",
    "    train = images[:idx, :, :, :]\n",
    "    val = images[idx:, :, :, :]\n",
    "    val_labels = train_labels[idx:, :]\n",
    "    train_labels = train_labels[:idx, :]\n",
    "    return train, train_labels, val, val_labels\n"
   ]
  },
  {
   "cell_type": "code",
   "execution_count": 5,
   "metadata": {},
   "outputs": [],
   "source": [
    "def create_CNN():\n",
    "    '''\n",
    "    Function to create CNN\n",
    "            Returns:\n",
    "                    CNN\n",
    "    '''\n",
    "    model = tf.keras.models.Sequential([\n",
    "        Conv2D(filters=64, kernel_size=3, activation='relu'),\n",
    "        MaxPooling2D(),\n",
    "        tf.keras.layers.Dropout(0.2),\n",
    "        Conv2D(filters=32, kernel_size=3, activation='relu'),\n",
    "        MaxPooling2D(),\n",
    "        tf.keras.layers.Dropout(0.2),\n",
    "        Conv2D(filters=32, kernel_size=3, activation='relu'),\n",
    "        MaxPooling2D(),\n",
    "        tf.keras.layers.Dropout(0.2),\n",
    "        tf.keras.layers.Flatten(),\n",
    "        Dense(300, activation='relu'),\n",
    "        tf.keras.layers.Dropout(0.5),\n",
    "        Dense(160, activation='relu'),\n",
    "        Dense(2)\n",
    "    ])\n",
    "    model.compile(optimizer='adam', loss='mse')\n",
    "    return model\n"
   ]
  },
  {
   "cell_type": "code",
   "execution_count": 6,
   "metadata": {},
   "outputs": [],
   "source": [
    "def create_adjustable_CNN(f1, f2, f3, k1, k2, k3):\n",
    "    '''\n",
    "    Function to create adjustable CNN\n",
    "\n",
    "            Parameters:\n",
    "                   f1-f3 (int): The number of filters in layers 1-3\n",
    "                    k1-k3 (int): The kernel size for layers 1-3\n",
    "            Returns:\n",
    "                    Custom CNN\n",
    "    '''\n",
    "    model = tf.keras.models.Sequential([\n",
    "        Conv2D(filters=f1, kernel_size=k1, activation='relu', padding='same'),\n",
    "        MaxPooling2D(),\n",
    "        tf.keras.layers.Dropout(0.2),\n",
    "        Conv2D(filters=f2, kernel_size=k2, activation='relu', padding='same'),\n",
    "        MaxPooling2D(),\n",
    "        tf.keras.layers.Dropout(0.2),\n",
    "        Conv2D(filters=f3, kernel_size=k3, activation='relu', padding='same'),\n",
    "        MaxPooling2D(),\n",
    "        tf.keras.layers.Dropout(0.2),\n",
    "        tf.keras.layers.Flatten(),\n",
    "        Dense(300, activation='relu'),\n",
    "        tf.keras.layers.Dropout(0.5),\n",
    "        Dense(160, activation='relu'),\n",
    "        Dense(2)\n",
    "    ])\n",
    "    model.compile(optimizer='adam', loss='mse')\n",
    "    return model\n"
   ]
  },
  {
   "cell_type": "code",
   "execution_count": null,
   "metadata": {},
   "outputs": [],
   "source": [
    "class customcb(tf.keras.callbacks.Callback):\n",
    "    '''\n",
    "    Class to save best model when running a model multiple times\n",
    "\n",
    "    '''\n",
    "\n",
    "    def __init__(self, best_loss, dir):\n",
    "        super(customcb, self).__init__()\n",
    "        self.best_loss = best_loss\n",
    "        self.dir = dir\n",
    "\n",
    "    def on_epoch_end(self, epoch, logs=None):\n",
    "        if logs['val_loss'] < self.best_loss:\n",
    "            self.best_loss = logs['val_loss']\n",
    "            self.model.save(self.dir)\n"
   ]
  },
  {
   "cell_type": "markdown",
   "metadata": {},
   "source": [
    "# CNN"
   ]
  },
  {
   "cell_type": "markdown",
   "metadata": {},
   "source": [
    "## Hyperparamer tuning"
   ]
  },
  {
   "cell_type": "code",
   "execution_count": 9,
   "metadata": {},
   "outputs": [],
   "source": [
    "def objective(args):\n",
    "    '''\n",
    "    Function to produce minimisation objective for hyperparameter tuning\n",
    "\n",
    "            Parameters:\n",
    "                    args (list): The value of ar, image size, f1-f3 and k1-k3\n",
    "            Returns:\n",
    "                    The minimum validation loss of a single CNN\n",
    "    '''\n",
    "\n",
    "    ar, img_sz, f1, f2, f3, k1, k2, k3 = args\n",
    "    ar, img_sz, f1, f2, f3, k1, k2, k3 = ar[1], int(\n",
    "        img_sz[1]), f1[1], f2[1], f3[1], k1[1], k2[1], k3[1]\n",
    "    \n",
    "    images, labels = preprocess_data(img_sz, ar)\n",
    "    model = create_adjustable_CNN(int(f1), int(\n",
    "        f2), int(f3), int(k1), int(k2), int(k3))\n",
    "    train, train_labels, val, val_labels = train_test_split(\n",
    "        0.8, images, labels)\n",
    "    history = model.fit(train, train_labels, validation_data=(\n",
    "        val, val_labels), batch_size=100, epochs=200, verbose=0)\n",
    "    tf.keras.backend.clear_session()\n",
    "    return np.min(history.history['val_loss'])\n"
   ]
  },
  {
   "cell_type": "code",
   "execution_count": 10,
   "metadata": {},
   "outputs": [],
   "source": [
    "space = [('ar_choice', hp.choice('ar', [0, 1])), ('image_size', hp.quniform('img_sz', 30, 120, 1)), ('filters1', hp.quniform('f1', 30, 80, 1)), ('filters2', hp.quniform(\n",
    "    'f2', 30, 80, 1)), ('filters3', hp.quniform('f3', 30, 80, 1)), ('kernel1', hp.quniform('k1', 3, 7, 1)), ('kernel2', hp.quniform('k2', 3, 7, 1)), ('kernel3', hp.quniform('k3', 3, 7, 1))]\n"
   ]
  },
  {
   "cell_type": "code",
   "execution_count": null,
   "metadata": {},
   "outputs": [],
   "source": [
    "best = fmin(objective, space, algo=tpe.suggest, max_evals=100)\n"
   ]
  },
  {
   "cell_type": "code",
   "execution_count": 12,
   "metadata": {},
   "outputs": [
    {
     "name": "stdout",
     "output_type": "stream",
     "text": [
      "{'ar': 0, 'f1': 66.0, 'f2': 80.0, 'f3': 63.0, 'img_sz': 120.0, 'k1': 3.0, 'k2': 7.0, 'k3': 6.0}\n"
     ]
    }
   ],
   "source": [
    "print(best)\n"
   ]
  },
  {
   "cell_type": "markdown",
   "metadata": {},
   "source": [
    "## Using Optimal Hyperparameters"
   ]
  },
  {
   "cell_type": "code",
   "execution_count": 24,
   "metadata": {},
   "outputs": [],
   "source": [
    "def objective_save_model(args, callback):\n",
    "    '''\n",
    "    Function to use optimal hyperparmeters and save model\n",
    "\n",
    "            Parameters:\n",
    "                    args (list): The value of ar, image size, f1-f3 and k1-k3\n",
    "            Returns:\n",
    "                    Normalised and resized images and labels\n",
    "    '''\n",
    "\n",
    "    ar, img_sz, f1, f2, f3, k1, k2, k3 = args\n",
    "    ar, img_sz, f1, f2, f3, k1, k2, k3 = ar[1], int(\n",
    "        img_sz[1]), f1[1], f2[1], f3[1], k1[1], k2[1], k3[1]\n",
    "    \n",
    "    images, labels = preprocess_data(img_sz, ar)\n",
    "    model = create_adjustable_CNN(int(f1), int(\n",
    "        f2), int(f3), int(k1), int(k2), int(k3))\n",
    "    train, train_labels, val, val_labels = train_test_split(\n",
    "        0.8, images, labels)\n",
    "    history = model.fit(train, train_labels, validation_data=(\n",
    "        val, val_labels), batch_size=100, epochs=300, verbose=0, callbacks=[callback])\n",
    "    tf.keras.backend.clear_session()\n",
    "    return np.min(history.history['val_loss'])\n"
   ]
  },
  {
   "cell_type": "code",
   "execution_count": null,
   "metadata": {},
   "outputs": [],
   "source": [
    "#{'ar': 0, 'f1': 66.0, 'f2': 80.0, 'f3': 63.0, 'img_sz': 120.0, 'k1': 3.0, 'k2': 7.0, 'k3': 6.0}\n",
    "dir = 'C:/Users/Thomas/OneDrive/Desktop/UON/mlis2/project/Optimized_models/cnn.h5'\n",
    "losses = np.ones([1, 10])\n",
    "args = [('ar', 0), ('img_sz', 120.0), ('f1', 66.0), ('f2', 80.0),\n",
    "        ('f3', 63.0), ('k1', 3.0), ('k2', 7.0), ('k3', 6.0)]\n",
    "for i in range(10):\n",
    "    loss = objective_save_model(args, customcb(\n",
    "        best_loss=np.min(losses), dir=dir))\n",
    "    losses[0, i] = loss\n",
    "    \n"
   ]
  },
  {
   "cell_type": "code",
   "execution_count": 26,
   "metadata": {},
   "outputs": [
    {
     "name": "stdout",
     "output_type": "stream",
     "text": [
      "0.008806848635865564 2.863938018865861e-07\n"
     ]
    }
   ],
   "source": [
    "cnn_mean_loss = np.mean(losses)\n",
    "cnn_var_loss = np.var(losses)\n",
    "print(cnn_mean_loss, cnn_var_loss)\n"
   ]
  },
  {
   "cell_type": "markdown",
   "metadata": {},
   "source": [
    "# Autoencoder"
   ]
  },
  {
   "cell_type": "code",
   "execution_count": 56,
   "metadata": {},
   "outputs": [],
   "source": [
    "def create_encoder(img_sz, train, val):\n",
    "    '''\n",
    "    Function to produce encoder model\n",
    "\n",
    "            Parameters:\n",
    "                    img_sz (list): The image size\n",
    "                    train (array): The train images\n",
    "                    val (array): The validation images\n",
    "            Returns:\n",
    "                    The encoder model\n",
    "    '''\n",
    "    tf.keras.backend.clear_session()\n",
    "    input = tf.keras.layers.Input(shape=[img_sz[0], img_sz[1], 3])\n",
    "    x = tf.keras.layers.Conv2D(40, 3, 2, activation='relu')(input)\n",
    "    x = tf.keras.layers.Conv2D(80, 3, 2, activation='relu')(x)\n",
    "    x = tf.keras.layers.Flatten()(x)\n",
    "    units = x.shape[1]\n",
    "    encoded = tf.keras.layers.Dense(100)(x)\n",
    "    x = tf.keras.layers.Dense(5200)(encoded)\n",
    "    x = tf.keras.layers.Reshape(target_shape=(20, 20, 13))(x)\n",
    "    x = tf.keras.layers.Conv2DTranspose(\n",
    "        80, 3, 2, padding='same', activation='relu')(x)\n",
    "    x = tf.keras.layers.Conv2DTranspose(\n",
    "        40, 3, 2, padding='same', activation='relu')(x)\n",
    "    decoded = tf.keras.layers.Conv2DTranspose(3, 3, 1, padding='same')(x)\n",
    "    auto_encoder = tf.keras.models.Model(inputs=[input], outputs=[decoded])\n",
    "    auto_encoder.compile(optimizer='adam', loss='mse')\n",
    "\n",
    "    auto_encoder.fit(train, train, batch_size=120, epochs=50,\n",
    "                     validation_data=(val, val), verbose=0)\n",
    "    \n",
    "    encoder = tf.keras.models.Model(inputs=[input], outputs=[encoded])\n",
    "    encoder.save('encoder.h5')\n",
    "    return encoder\n"
   ]
  },
  {
   "cell_type": "code",
   "execution_count": 15,
   "metadata": {},
   "outputs": [],
   "source": [
    "images, labels = preprocess_data(80, 0)\n",
    "train, train_labels, val, val_labels = train_test_split(0.8, images, labels)\n"
   ]
  },
  {
   "cell_type": "code",
   "execution_count": null,
   "metadata": {},
   "outputs": [],
   "source": [
    "create_encoder([80, 80], train, val)\n"
   ]
  },
  {
   "cell_type": "markdown",
   "metadata": {},
   "source": [
    "## SVM"
   ]
  },
  {
   "cell_type": "code",
   "execution_count": 52,
   "metadata": {},
   "outputs": [],
   "source": [
    "def SVM_loss(encoder, train, train_labels, val, val_labels, k1, C1, epsilon1, d1, k2, C2, epsilon2, d2):\n",
    "    '''\n",
    "    Function to fit SVM and return validation loss\n",
    "\n",
    "            Parameters:\n",
    "                    encoder (tf model): The encoder model\n",
    "                    train (array): The training data\n",
    "                    train_labels (array): The training labels\n",
    "                    val (array): The validation data\n",
    "                    val_labels (array): The validation labels\n",
    "                    k1,k2 (str): The SVM kernel\n",
    "                    C1,C2 (float): The SVM box constraint\n",
    "                    epsilon1,epsilon2 (float): The SVM epislon value\n",
    "                    d1,d2 (int): The polynomial kernel degree\n",
    "            Returns:\n",
    "                    The SVM validation loss\n",
    "    '''\n",
    "    encoded_train = np.zeros([len(train), 100])\n",
    "\n",
    "    dx = int(len(train)/10)\n",
    "    for x in range(10):\n",
    "        end_indx = np.min([dx*(x+1), len(train)])\n",
    "\n",
    "        encoded_train[dx*x:end_indx,\n",
    "                      :] = encoder.predict(train[dx*x:end_indx, :, :, :])\n",
    "\n",
    "    regress = svm.SVR(kernel=k1, C=C1, epsilon=epsilon1, degree=d1)\n",
    "    regress.fit(encoded_train, train_labels[:, 0])\n",
    "    classif = svm.SVR(kernel=k2, C=C2, epsilon=epsilon2, degree=d2)\n",
    "    classif.fit(encoded_train, train_labels[:, 1])\n",
    "\n",
    "    encoded_val = encoder.predict(val)\n",
    "    regress_preds = regress.predict(encoded_val)\n",
    "    classif_preds = classif.predict(encoded_val)\n",
    "    loss = (np.square(classif_preds-val_labels[:, 1]).mean())+(\n",
    "        np.square(regress_preds-val_labels[:, 0])).mean()\n",
    "    return loss\n"
   ]
  },
  {
   "cell_type": "code",
   "execution_count": 53,
   "metadata": {},
   "outputs": [],
   "source": [
    "def objective(args):\n",
    "    '''\n",
    "     Objective to minimise for SVM hyperparameter tuning\n",
    "\n",
    "             Parameters:\n",
    "                     args (list): k1,k2,C1,C2,epsilon1,epsilon2,d1,d2\n",
    "             Returns:\n",
    "                     The SVM validation loss\n",
    "     '''\n",
    "    k1, k2, C1, C2, epsilon1, epsilon2, d1, d2 = args\n",
    "    \n",
    "    k1, C1, epsilon1, d1, k2, C2, epsilon2, d2 = k1[1], C1[1], epsilon1[1], int(\n",
    "        d1[1]), k2[1], C2[1], epsilon2[1], int(d2[1])\n",
    "    images, labels = preprocess_data(80, 0)\n",
    "    train, train_labels, val, val_labels = train_test_split(\n",
    "        0.8, images, labels)\n",
    "\n",
    "    encoder = tf.keras.models.load_model('encoder.h5')\n",
    "    return SVM_loss(encoder, train, train_labels, val, val_labels, k1, C1, epsilon1, d1, k2, C2, epsilon2, d2)\n"
   ]
  },
  {
   "cell_type": "code",
   "execution_count": 12,
   "metadata": {},
   "outputs": [],
   "source": [
    "space = [('kernel1', hp.choice('k1', ['rbf', 'poly'])), ('kernel2', hp.choice('k2', ['rbf', 'poly'])), ('Con1', hp.quniform('C1', 1, 300, 1)), ('Con2', hp.uniform(\n",
    "    'C2', 1, 300)), ('epsilon1', hp.uniform('e1', 0.08, 1)), ('epsilon2', hp.uniform('e2', 0.08, 1)), ('d1', hp.quniform('d1', 2, 5, 1)), ('d2', hp.quniform('d2', 2, 5, 1))]\n"
   ]
  },
  {
   "cell_type": "code",
   "execution_count": null,
   "metadata": {},
   "outputs": [],
   "source": [
    "best = fmin(objective, space, algo=tpe.suggest, max_evals=100)\n"
   ]
  },
  {
   "cell_type": "code",
   "execution_count": 14,
   "metadata": {},
   "outputs": [
    {
     "name": "stdout",
     "output_type": "stream",
     "text": [
      "{'C1': 38.0, 'C2': 87.71277285648118, 'd1': 2.0, 'd2': 3.0, 'e1': 0.08056123968432027, 'e2': 0.08033113935585406, 'k1': 0, 'k2': 0}\n"
     ]
    }
   ],
   "source": [
    "print(best)"
   ]
  },
  {
   "cell_type": "markdown",
   "metadata": {},
   "source": [
    "### Using best hyperparameters"
   ]
  },
  {
   "cell_type": "code",
   "execution_count": 50,
   "metadata": {},
   "outputs": [],
   "source": [
    "images, labels = preprocess_data(80, 0)\n",
    "train, train_labels, val, val_labels = train_test_split(0.8, images, labels)\n"
   ]
  },
  {
   "cell_type": "code",
   "execution_count": null,
   "metadata": {},
   "outputs": [],
   "source": [
    "\n",
    "args = [('k1', 'rbf'), ('k2', 'rbf'), ('C1', 38.0), ('C2', 87.71277285648118),\n",
    "        ('e1', 0.08056123968432027), ('e2', 0.08033113935585406), ('d1', 2.0), ('d2', 3.0)]\n",
    "losses = []\n",
    "for i in range(10):\n",
    "    create_encoder([80, 80], train, val)\n",
    "    loss = objective(args)\n",
    "    losses.append(loss)\n"
   ]
  },
  {
   "cell_type": "code",
   "execution_count": 60,
   "metadata": {},
   "outputs": [
    {
     "name": "stdout",
     "output_type": "stream",
     "text": [
      "0.040636647260010705\n",
      "4.665078189045113e-07\n"
     ]
    }
   ],
   "source": [
    "svm_mean_loss = np.mean(losses)\n",
    "svm_var_loss = np.var(losses)\n",
    "print(svm_mean_loss)\n",
    "print(svm_var_loss)\n"
   ]
  },
  {
   "cell_type": "markdown",
   "metadata": {},
   "source": [
    "## Decision Tree"
   ]
  },
  {
   "cell_type": "code",
   "execution_count": null,
   "metadata": {},
   "outputs": [],
   "source": [
    "def DT_loss(train, train_labels, val, val_labels, encoder, md1, md2, msl1, msl2):\n",
    "    '''\n",
    "    Function to produce decision tree loss\n",
    "\n",
    "            Parameters:\n",
    "                    encoder (tf model): The encoder model\n",
    "                    train (array): The training data\n",
    "                    train_labels (array): The training labels\n",
    "                    val (array): The validation data\n",
    "                    val_labels (array): The validation labels\n",
    "                    encoder (model): Encoder model\n",
    "                    md1,md2 (int): Max depth for each model\n",
    "                    msl1,msl2 (int): Minimum number of samples in leaf node for each model\n",
    "            Returns:\n",
    "                    The decision tree loss\n",
    "    '''\n",
    "    encoded_train = np.zeros([len(train), 100])\n",
    "    dx = int(len(train)/10)\n",
    "    for x in range(10):\n",
    "        end_indx = np.min([dx*(x+1), len(train)])\n",
    "\n",
    "        encoded_train[dx*x:end_indx,\n",
    "                      :] = encoder(train[dx*x:end_indx, :, :, :])\n",
    "    encoded_val = encoder(val)\n",
    "    clf1 = tree.DecisionTreeRegressor(max_depth=md1, min_samples_leaf=msl1)\n",
    "    clf2 = tree.DecisionTreeRegressor(max_depth=md2, min_samples_leaf=msl2)\n",
    "    clf1 = clf1.fit(encoded_train, train_labels[:, 0])\n",
    "    clf2 = clf2.fit(encoded_train, train_labels[:, 1])\n",
    "    predictions1 = clf1.predict(encoded_val)\n",
    "    predictions2 = clf2.predict(encoded_val)\n",
    "    loss1 = tf.keras.losses.MSE(predictions1, val_labels[:, 0])\n",
    "    loss2 = tf.keras.losses.MSE(predictions2, val_labels[:, 1])\n",
    "    return loss1+loss2\n"
   ]
  },
  {
   "cell_type": "code",
   "execution_count": null,
   "metadata": {},
   "outputs": [],
   "source": [
    "def objective(args):\n",
    "     '''\n",
    "    Objective to minimise for DT hyperparameter tuning\n",
    "\n",
    "            Parameters:\n",
    "                    args (list): ar,img_sz,md1,md2,msl1,msl2\n",
    "            Returns:\n",
    "                    The DT validation loss\n",
    "    '''\n",
    "    ar,img_sz,md1,md2,msl1,msl2=args\n",
    "    img_sz,ar,md1,md2,msl1,msl2=int(img_sz[1]),ar[1],int(md1[1]),int(md2[1]),int(msl1[1]),int(msl2[1])\n",
    "    images,labels=preprocess_data(img_sz,ar)\n",
    "    train,train_labels,val,val_labels=train_test_split(0.8,images,labels)\n",
    "    encoder=create_encoder(images.shape[1:3],train,val)\n",
    "    return DT_loss(train,train_labels,val,val_labels,encoder,md1,md2,msl1,msl2)\n",
    "    "
   ]
  },
  {
   "cell_type": "code",
   "execution_count": null,
   "metadata": {},
   "outputs": [],
   "source": [
    "space = [('ar_choice', hp.choice('ar', [0, 1])), ('image_size', hp.quniform('img_sz', 30, 200, 1)), ('max_depth1', hp.quniform('md1', 30, 300, 1)),\n",
    "         ('max_depth2', hp.quniform('md2', 30, 300, 1)), ('min_samples1', hp.quniform('msl1', 1, 300, 1)), ('min_samples2', hp.quniform('msl2', 1, 300, 1))]\n"
   ]
  },
  {
   "cell_type": "code",
   "execution_count": null,
   "metadata": {},
   "outputs": [],
   "source": [
    "best = fmin(objective, space, algo=tpe.suggest, max_evals=100)"
   ]
  },
  {
   "cell_type": "markdown",
   "metadata": {},
   "source": [
    "## Decision Head"
   ]
  },
  {
   "cell_type": "code",
   "execution_count": 42,
   "metadata": {},
   "outputs": [],
   "source": [
    "def DH_loss(encoder, train, train_labels, val, val_labels, d1, d2):\n",
    "     '''\n",
    "    Function to find loss of autoencoder with decision head model\n",
    "\n",
    "            Parameters:\n",
    "                    encoder (tf model): encoder model\n",
    "                    train (array): The training data\n",
    "                    train_labels (array): The training labels\n",
    "                    val (array): The validation data\n",
    "                    val_labels (array): The validation labels\n",
    "                    d1,d2 (int): Number of dense units in layers 1 and 2\n",
    "\n",
    "            Returns:\n",
    "                    The DH validation loss\n",
    "    '''\n",
    "    x=tf.keras.layers.Dense(d1,activation='relu',name='l')(encoder.output)\n",
    "    x=tf.keras.layers.Dropout(0.5)(x)\n",
    "    x=tf.keras.layers.Dense(d2,activation='relu',name='ll')(x)\n",
    "    x=tf.keras.layers.Dropout(0.5)(x)\n",
    "    output=tf.keras.layers.Dense(2,name='lll')(x)\n",
    "    encoder.trainable=False\n",
    "    final_model=tf.keras.models.Model(inputs=[encoder.input],outputs=[output])\n",
    "    final_model.compile(optimizer='adam',loss='mse')\n",
    "    history=final_model.fit(train,train_labels,validation_data=(val,val_labels),epochs=200,batch_size=120,verbose=0)\n",
    "    tf.keras.backend.clear_session()\n",
    "    return np.min(history.history['val_loss'])\n"
   ]
  },
  {
   "cell_type": "code",
   "execution_count": 43,
   "metadata": {},
   "outputs": [],
   "source": [
    "def objective(args):\n",
    "    '''\n",
    "    Objective to minimise for DH hyperparameter tune\n",
    "\n",
    "            Parameters:\n",
    "                    args (list): d1 and d2\n",
    "\n",
    "            Returns:\n",
    "                    The DH validation loss\n",
    "    '''\n",
    "    tf.keras.backend.clear_session()\n",
    "    d1, d2 = args\n",
    "    d1, d2 = int(d1[1]), int(d2[1])\n",
    "    images, labels = preprocess_data(80, 0)\n",
    "    train, train_labels, val, val_labels = train_test_split(\n",
    "        0.8, images, labels)\n",
    "    encoder = tf.keras.models.load_model('encoder.h5')\n",
    "    return DH_loss(encoder, train, train_labels, val, val_labels, d1, d2)\n"
   ]
  },
  {
   "cell_type": "code",
   "execution_count": 44,
   "metadata": {},
   "outputs": [],
   "source": [
    "space = [('dense1', hp.quniform('d1', 30, 500, 1)),\n",
    "         ('dense2', hp.quniform('d2', 5, 80, 1))]\n"
   ]
  },
  {
   "cell_type": "code",
   "execution_count": null,
   "metadata": {},
   "outputs": [],
   "source": [
    "best = fmin(objective, space, algo=tpe.suggest, max_evals=100)\n"
   ]
  },
  {
   "cell_type": "code",
   "execution_count": 26,
   "metadata": {},
   "outputs": [
    {
     "name": "stdout",
     "output_type": "stream",
     "text": [
      "{'d1': 431.0, 'd2': 76.0}\n"
     ]
    }
   ],
   "source": [
    "print(best)"
   ]
  },
  {
   "cell_type": "markdown",
   "metadata": {},
   "source": [
    "### Use best hyperparameterss"
   ]
  },
  {
   "cell_type": "code",
   "execution_count": null,
   "metadata": {},
   "outputs": [],
   "source": [
    "\n",
    "args = [('d1', 431.0), ('d2', 76.0)]\n",
    "losses = []\n",
    "for i in range(10):\n",
    "    loss = objective(args)\n",
    "    losses.append(loss)\n"
   ]
  },
  {
   "cell_type": "code",
   "execution_count": 48,
   "metadata": {},
   "outputs": [
    {
     "name": "stdout",
     "output_type": "stream",
     "text": [
      "0.01641359026197799\n",
      "2.9602659501909622e-08\n"
     ]
    }
   ],
   "source": [
    "dh_mean_loss = np.mean(losses)\n",
    "dh_var_loss = np.var(losses)\n",
    "print(dh_mean_loss)\n",
    "print(dh_var_loss)\n"
   ]
  },
  {
   "cell_type": "markdown",
   "metadata": {},
   "source": [
    "# Ensemble methods"
   ]
  },
  {
   "cell_type": "markdown",
   "metadata": {},
   "source": [
    "## Hyperparameter tuning"
   ]
  },
  {
   "cell_type": "code",
   "execution_count": 15,
   "metadata": {},
   "outputs": [],
   "source": [
    "def ensemble(k, images, labels):\n",
    "    '''\n",
    "    Function to find loss of CNN ensemble\n",
    "\n",
    "            Parameters:\n",
    "                    k (int): Number of models\n",
    "                    images (array): The images\n",
    "                    labels (array): The labels\n",
    "\n",
    "            Returns:\n",
    "                    The mean ensemble validation loss\n",
    "    '''\n",
    "    losses = []\n",
    "\n",
    "    for i in range(k):\n",
    "        tf.keras.backend.clear_session()\n",
    "        top_index = (i+1)*int(np.ceil(len(images)/k))\n",
    "        bottom_index = i*int(np.ceil(len(images)/k))\n",
    "        val = images[bottom_index:top_index, :, :, :]\n",
    "        val_labels = labels[bottom_index:top_index, :]\n",
    "        train1 = images[:bottom_index, :, :, :]\n",
    "        train2 = images[top_index:, :, :, :]\n",
    "\n",
    "        train = np.concatenate([train1, train2], axis=0)\n",
    "        train_labels1 = labels[:bottom_index, :]\n",
    "        train_labels2 = labels[top_index:, :]\n",
    "        train_labels = np.concatenate([train_labels1, train_labels2], axis=0)\n",
    "        model = create_CNN()\n",
    "        history = model.fit(train, train_labels, validation_data=(\n",
    "            val, val_labels), batch_size=200, epochs=200, verbose=0)\n",
    "        losses.append(np.min(history.history['val_loss']))\n",
    "    return np.mean(np.array(losses))\n"
   ]
  },
  {
   "cell_type": "code",
   "execution_count": 16,
   "metadata": {},
   "outputs": [],
   "source": [
    "def objective(args):\n",
    "    '''\n",
    "    Objective for ensmeble for hyperparameter tuning\n",
    "            Parameters:\n",
    "                    args (list): ar,img_sz,\n",
    "\n",
    "            Returns:\n",
    "                    The mean ensemble validation loss\n",
    "    '''\n",
    "\n",
    "    ar, img_sz, k = args\n",
    "    ar = ar[1]\n",
    "    img_sz = int(img_sz[1])\n",
    "    k = int(k[1])\n",
    "    \n",
    "    images, labels = preprocess_data(img_sz, ar)\n",
    "    return ensemble(k, images, labels)\n"
   ]
  },
  {
   "cell_type": "code",
   "execution_count": 17,
   "metadata": {},
   "outputs": [],
   "source": [
    "space = [('ar_choice', hp.choice('ar', [0, 1])), ('image_size', hp.quniform(\n",
    "    'img_sz', 30, 120, 1)), ('number_mods', hp.quniform('k', 3, 15, 1))]\n"
   ]
  },
  {
   "cell_type": "code",
   "execution_count": null,
   "metadata": {},
   "outputs": [],
   "source": [
    "best = fmin(objective, space, algo=tpe.suggest, max_evals=30)"
   ]
  },
  {
   "cell_type": "code",
   "execution_count": 19,
   "metadata": {},
   "outputs": [
    {
     "name": "stdout",
     "output_type": "stream",
     "text": [
      "{'ar': 0, 'img_sz': 70.0, 'k': 14.0}\n"
     ]
    }
   ],
   "source": [
    "print(best)"
   ]
  },
  {
   "cell_type": "markdown",
   "metadata": {},
   "source": [
    "## Using best hyperparameters"
   ]
  },
  {
   "cell_type": "code",
   "execution_count": 35,
   "metadata": {},
   "outputs": [],
   "source": [
    "def ensemble(k, images, labels, loss_hist):\n",
    "    '''\n",
    "    Function to find losses of ensemble and save best model given loss history\n",
    "\n",
    "            Parameters:\n",
    "                    k (int): Number of models\n",
    "                    images (array): The images\n",
    "                    labels (array): The labels\n",
    "                    loss_hist (array): The previous models best losses\n",
    "\n",
    "            Returns:\n",
    "                    The ensemble validation losses\n",
    "    '''\n",
    "    losses = []\n",
    "    dir = 'C:/Users/Thomas/OneDrive/Desktop/UON/mlis2/project/Optimized_models/ensemble_'\n",
    "    for i in range(k):\n",
    "        tf.keras.backend.clear_session()\n",
    "        top_index = (i+1)*int(np.ceil(len(images)/k))\n",
    "        bottom_index = i*int(np.ceil(len(images)/k))\n",
    "        val = images[bottom_index:top_index, :, :, :]\n",
    "        val_labels = labels[bottom_index:top_index, :]\n",
    "        train1 = images[:bottom_index, :, :, :]\n",
    "        train2 = images[top_index:, :, :, :]\n",
    "\n",
    "        train = np.concatenate([train1, train2], axis=0)\n",
    "        train_labels1 = labels[:bottom_index, :]\n",
    "        train_labels2 = labels[top_index:, :]\n",
    "        train_labels = np.concatenate([train_labels1, train_labels2], axis=0)\n",
    "        model = create_CNN()\n",
    "        best_loss = loss_hist[i]\n",
    "        history = model.fit(train, train_labels, validation_data=(val, val_labels), batch_size=200,\n",
    "                            epochs=200, verbose=0, callbacks=[customcb(best_loss=best_loss, dir=dir+str(i)+'.h5')])\n",
    "        losses.append(np.min(history.history['val_loss']))\n",
    "    return np.array(losses)\n"
   ]
  },
  {
   "cell_type": "code",
   "execution_count": 34,
   "metadata": {},
   "outputs": [],
   "source": [
    "def objective_save_model(args, loss_hist):\n",
    "    '''\n",
    "    Function to save best ensemble models given loss history\n",
    "\n",
    "            Parameters:\n",
    "                    args (list): ar,img_sz,k\n",
    "\n",
    "            Returns:\n",
    "                    The ensemble validation losses\n",
    "    '''\n",
    "    ar, img_sz, k = args\n",
    "    ar = ar[1]\n",
    "    img_sz = int(img_sz[1])\n",
    "    k = int(k[1])\n",
    "    \n",
    "    images, labels = preprocess_data(img_sz, ar)\n",
    "    return ensemble(k, images, labels, loss_hist)\n"
   ]
  },
  {
   "cell_type": "code",
   "execution_count": null,
   "metadata": {},
   "outputs": [],
   "source": [
    "dir = 'C:/Users/Thomas/OneDrive/Desktop/UON/mlis2/project/Optimized_models/ensemble'\n",
    "losses = np.ones([10, 14])\n",
    "args = [('ar', 0), ('img_sz', 70), ('k', 14)]\n",
    "\n",
    "for i in range(10):\n",
    "    loss = objective_save_model(args, np.min(losses, axis=0))\n",
    "    losses[i, :] = loss\n",
    "    \n"
   ]
  },
  {
   "cell_type": "code",
   "execution_count": 40,
   "metadata": {},
   "outputs": [
    {
     "name": "stdout",
     "output_type": "stream",
     "text": [
      "[0.00821367 0.00812147 0.00787376 0.00811845 0.0082526  0.00854586\n",
      " 0.00830362 0.00792573 0.00800696 0.00800489]\n",
      "0.008136699618532871\n",
      "3.630559849796916e-08\n"
     ]
    }
   ],
   "source": [
    "means = np.mean(losses, axis=1)\n",
    "ensemble_mean_loss = np.mean(means, axis=0)\n",
    "ensemble_var_loss = np.var(means)\n",
    "print(means)\n",
    "print(ensemble_mean_loss)\n",
    "print(ensemble_var_loss)\n"
   ]
  },
  {
   "cell_type": "markdown",
   "metadata": {},
   "source": [
    "# Final plots"
   ]
  },
  {
   "cell_type": "code",
   "execution_count": 116,
   "metadata": {},
   "outputs": [
    {
     "name": "stdout",
     "output_type": "stream",
     "text": [
      "[0.040636647260010705, 0.01641359026197799, 0.008806848635865564, 0.008136699618532871]\n",
      "(2, 4)\n"
     ]
    },
    {
     "data": {
      "text/plain": [
       "<matplotlib.legend.Legend at 0x27289a65430>"
      ]
     },
     "execution_count": 116,
     "metadata": {},
     "output_type": "execute_result"
    },
    {
     "data": {
      "image/png": "[encoded data removed]",
      "text/plain": [
       "<Figure size 432x288 with 2 Axes>"
      ]
     },
     "metadata": {
      "needs_background": "light"
     },
     "output_type": "display_data"
    }
   ],
   "source": [
    "import matplotlib.pyplot as plt\n",
    "from scipy.stats import t\n",
    "fig = plt.figure()\n",
    "ax = fig.add_axes([0, 0, 1, 1])\n",
    "models = ['AE SVM', 'AE Decision Head', 'Single CNN', 'Ensemble CNN']\n",
    "scores = [svm_mean_loss, dh_mean_loss, cnn_mean_loss, ensemble_mean_loss]\n",
    "print(scores)\n",
    "vars = [svm_var_loss, dh_var_loss, cnn_var_loss, ensemble_var_loss]\n",
    "lower_bounds = []\n",
    "upper_bounds = []\n",
    "talpha = t.ppf(0.025, 9)\n",
    "for i in range(4):\n",
    "    se = (vars[i]/10)**0.5\n",
    "    lower_bounds.append(talpha*se)\n",
    "    upper_bounds.append(-talpha*se)\n",
    "yerr = np.array([lower_bounds, upper_bounds])\n",
    "print(yerr.shape)\n",
    "xloc = np.arange(len(models))\n",
    "a = ax.bar(xloc-0.2, scores, yerr=np.abs(yerr),\n",
    "           width=0.4, capsize=10, label='Validation loss')\n",
    "\n",
    "plt.ylabel('Validation Loss (MSE)')\n",
    "plt.xticks(xloc, models)\n",
    "ax2 = ax.twinx()\n",
    "ax2.set_ylabel('Inference Time (ms)')\n",
    "b = ax2.bar(xloc+0.2, [20, 15, 9, 91], width=0.4,\n",
    "            capsize=10, color='red', label='Inference Time')\n",
    "ax.legend((a, b), ('Validation Loss', 'Inference Time'), loc='upper center')\n"
   ]
  },
  {
   "cell_type": "code",
   "execution_count": 111,
   "metadata": {},
   "outputs": [
    {
     "name": "stdout",
     "output_type": "stream",
     "text": [
      "(2,)\n"
     ]
    },
    {
     "data": {
      "text/plain": [
       "<matplotlib.legend.Legend at 0x272898ecc40>"
      ]
     },
     "execution_count": 111,
     "metadata": {},
     "output_type": "execute_result"
    },
    {
     "data": {
      "image/png": "[encoded data removed]",
      "text/plain": [
       "<Figure size 432x288 with 2 Axes>"
      ]
     },
     "metadata": {
      "needs_background": "light"
     },
     "output_type": "display_data"
    }
   ],
   "source": [
    "fig = plt.figure()\n",
    "ax = fig.add_axes([0, 0, 1, 1])\n",
    "models = ['AE Decision Head', 'Single CNN', 'Ensemble CNN']\n",
    "scores = [dh_mean_loss, cnn_mean_loss, ensemble_mean_loss]\n",
    "vars = [dh_var_loss, cnn_var_loss, ensemble_var_loss]\n",
    "lower_bounds = []\n",
    "upper_bounds = []\n",
    "talpha = t.ppf(0.025, 9)\n",
    "for i in range(3):\n",
    "    se = (vars[i]/10)**0.5\n",
    "    lower_bounds.append(talpha*se)\n",
    "    upper_bounds.append(-talpha*se)\n",
    "yerr = np.array([lower_bounds, upper_bounds])\n",
    "print(yerr[:, 0].shape)\n",
    "xloc = np.arange(len(models))\n",
    "a = ax.bar(xloc-0.2, scores, yerr=np.abs(yerr),\n",
    "           width=0.4, capsize=10, label='Validation loss')\n",
    "\n",
    "plt.ylabel('Validation Loss (MSE)')\n",
    "plt.xticks(xloc, models)\n",
    "ax2 = ax.twinx()\n",
    "ax2.set_ylabel('Inference Time (ms)')\n",
    "b = ax2.bar(xloc+0.2, [15, 9, 91], width=0.4, capsize=10,\n",
    "            color='red', label='Inference Time',)\n",
    "ax.legend((a, b), ('Validation Loss', 'Inference Time'), loc='upper center')\n"
   ]
  },
  {
   "cell_type": "markdown",
   "metadata": {},
   "source": [
    "# T-test for ensemble vs single CNN"
   ]
  },
  {
   "cell_type": "code",
   "execution_count": 115,
   "metadata": {},
   "outputs": [
    {
     "name": "stdout",
     "output_type": "stream",
     "text": [
      "0.00153087748357561\n"
     ]
    }
   ],
   "source": [
    "n = 10\n",
    "sp2 = ((n-1)*vars[-2]+(n-1)*vars[-1])/(2*n-2)\n",
    "tval = (scores[-2]-scores[-1])/((sp2*(1/n+1/n))**(1/2))\n",
    "pval = 2*(1-t.cdf(np.abs(tval), 2*n-2))\n",
    "print(pval)\n"
   ]
  }
 ],
 "metadata": {
  "interpreter": {
   "hash": "ac59ebe37160ed0dfa835113d9b8498d9f09ceb179beaac4002f036b9467c963"
  },
  "kernelspec": {
   "display_name": "Python 3.9.7 64-bit",
   "language": "python",
   "name": "python3"
  },
  "language_info": {
   "codemirror_mode": {
    "name": "ipython",
    "version": 3
   },
   "file_extension": ".py",
   "mimetype": "text/x-python",
   "name": "python",
   "nbconvert_exporter": "python",
   "pygments_lexer": "ipython3",
   "version": "3.9.7"
  },
  "orig_nbformat": 4
 },
 "nbformat": 4,
 "nbformat_minor": 2
}
