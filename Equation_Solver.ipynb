{
 "cells": [
  {
   "cell_type": "code",
   "execution_count": 11,
   "metadata": {},
   "outputs": [],
   "source": [
    "import cv2\n",
    "import pandas as pd\n",
    "import numpy as np\n",
    "import tensorflow as tf\n",
    "import os"
   ]
  },
  {
   "cell_type": "code",
   "execution_count": 12,
   "metadata": {},
   "outputs": [
    {
     "name": "stdout",
     "output_type": "stream",
     "text": [
      "['IMG_20211025_170309.jpg']\n"
     ]
    }
   ],
   "source": [
    "model=tf.keras.models.load_model('handwritten_symbols_classification_model.h5')\n",
    "\n",
    "images=os.listdir('test_images')\n",
    "print(images)\n",
    "image=images[0]"
   ]
  },
  {
   "cell_type": "code",
   "execution_count": 13,
   "metadata": {},
   "outputs": [],
   "source": [
    "#load image\n",
    "read=cv2.imread('test_images/'+image,cv2.IMREAD_GRAYSCALE)\n",
    "rotated=cv2.rotate(read,cv2.ROTATE_90_COUNTERCLOCKWISE)\n",
    "ret,thresh=cv2.threshold(rotated,127,255,cv2.THRESH_BINARY_INV)\n",
    "\n",
    "#find contours\n",
    "contors,h=cv2.findContours(image=thresh,mode=cv2.RETR_EXTERNAL,method=cv2.CHAIN_APPROX_NONE)\n",
    "x,y,w,h=np.zeros([1,len(contors)]),np.zeros([1,len(contors)]),np.zeros([1,len(contors)]),np.zeros([1,len(contors)])\n",
    "\n",
    "#sort left to right\n",
    "contors=sorted(contors, key=lambda ctr: cv2.boundingRect(ctr)[0])\n"
   ]
  },
  {
   "cell_type": "code",
   "execution_count": 14,
   "metadata": {},
   "outputs": [
    {
     "name": "stdout",
     "output_type": "stream",
     "text": [
      "(3, 28, 28, 1)\n",
      "[3, 11, 4]\n"
     ]
    }
   ],
   "source": [
    "\n",
    "\n",
    "test=[]\n",
    "i=0\n",
    "for cnt in contors:\n",
    "  X,Y,W,H=cv2.boundingRect(cnt)\n",
    "  if W>10:\n",
    "    x[0,i],y[0,i],w[0,i],h[0,i]=X,Y,W,H\n",
    "    crop=rotated[int(y[0,i]):int(y[0,i]+h[0,i]),int(x[0,i]):int(x[0,i]+w[0,i])]\n",
    "    cv2.imshow('h',crop)\n",
    "    cv2.waitKey()               #have to close picture window to proceed, if numbers not picket out update w\n",
    "    resized=cv2.resize(crop,(28,28))\n",
    "    test.append(resized)\n",
    "    i=i+1\n",
    "test=np.array(test).reshape(len(test),28,28,1)\n",
    "\n",
    "print(test.shape)\n",
    "pred=model.predict(test)\n",
    "predictions=[]\n",
    "for x in pred:\n",
    "    predictions.append(np.where(x==max(x))[0][0])\n",
    "print(predictions)\n",
    "\n"
   ]
  },
  {
   "cell_type": "code",
   "execution_count": 15,
   "metadata": {},
   "outputs": [
    {
     "name": "stdout",
     "output_type": "stream",
     "text": [
      "7\n"
     ]
    }
   ],
   "source": [
    "labels={1:'1',2:'2',3:'3',4:'4',5:'5',6:'6',7:'7',8:'8',9:'9',10:'-',11:'+'}\n",
    "answer=''\n",
    "for i in range(len(predictions)):\n",
    "    answer+=labels[predictions[i]]\n",
    "print(eval(answer))"
   ]
  }
 ],
 "metadata": {
  "interpreter": {
   "hash": "ac59ebe37160ed0dfa835113d9b8498d9f09ceb179beaac4002f036b9467c963"
  },
  "kernelspec": {
   "display_name": "Python 3.9.7 64-bit",
   "language": "python",
   "name": "python3"
  },
  "language_info": {
   "codemirror_mode": {
    "name": "ipython",
    "version": 3
   },
   "file_extension": ".py",
   "mimetype": "text/x-python",
   "name": "python",
   "nbconvert_exporter": "python",
   "pygments_lexer": "ipython3",
   "version": "3.9.7"
  },
  "orig_nbformat": 4
 },
 "nbformat": 4,
 "nbformat_minor": 2
}
