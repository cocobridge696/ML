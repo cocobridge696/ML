{
  "nbformat": 4,
  "nbformat_minor": 0,
  "metadata": {
    "colab": {
      "name": "Weather_anomaly_detection_AE",
      "provenance": [],
      "toc_visible": true,
      "authorship_tag": "ABX9TyP0qjqcorWU83eT310S/Uo6",
      "include_colab_link": true
    },
    "kernelspec": {
      "name": "python3",
      "display_name": "Python 3"
    }
  },
  "cells": [
    {
      "cell_type": "markdown",
      "metadata": {
        "id": "view-in-github",
        "colab_type": "text"
      },
      "source": [
        "<a href=\"https://colab.research.google.com/github/cocobridge696/ML/blob/main/Weather_anomaly_detection_AE.ipynb\" target=\"_parent\"><img src=\"https://colab.research.google.com/assets/colab-badge.svg\" alt=\"Open In Colab\"/></a>"
      ]
    },
    {
      "cell_type": "markdown",
      "metadata": {
        "id": "nXBq3DxkNd2A"
      },
      "source": [
        "# Imports"
      ]
    },
    {
      "cell_type": "code",
      "metadata": {
        "id": "sx6vo24M6LKY"
      },
      "source": [
        "import numpy as np\n",
        "import pandas as pd\n",
        "import tensorflow as tf\n",
        "from tensorflow.keras.layers import Dropout,Input,Conv1D,Conv1DTranspose\n",
        "import matplotlib.pyplot as plot\n",
        "from datetime import datetime"
      ],
      "execution_count": null,
      "outputs": []
    },
    {
      "cell_type": "markdown",
      "metadata": {
        "id": "nd2vuKd0NRxx"
      },
      "source": [
        "# Load, normalize and format data"
      ]
    },
    {
      "cell_type": "markdown",
      "metadata": {
        "id": "sYF4BZElN3zk"
      },
      "source": [
        "## Load data"
      ]
    },
    {
      "cell_type": "code",
      "metadata": {
        "id": "Khapujzq7K4C"
      },
      "source": [
        "#Load data\n",
        "train_df=pd.read_csv('https://raw.githubusercontent.com/numenta/NAB/master/data/artificialNoAnomaly/art_daily_small_noise.csv')\n",
        "test_df=pd.read_csv('https://raw.githubusercontent.com/numenta/NAB/master/data/artificialWithAnomaly/art_daily_jumpsup.csv')\n"
      ],
      "execution_count": null,
      "outputs": []
    },
    {
      "cell_type": "code",
      "metadata": {
        "id": "3hadLSZI7_NU",
        "colab": {
          "base_uri": "https://localhost:8080/",
          "height": 230
        },
        "outputId": "c0e4971c-4482-45cb-a52a-0aee4187bb4b"
      },
      "source": [
        "print(train_df.head())\n",
        "\n",
        "print(test_df.head())"
      ],
      "execution_count": null,
      "outputs": [
        {
          "output_type": "stream",
          "text": [
            "             timestamp      value\n",
            "0  2014-04-01 00:00:00  18.324919\n",
            "1  2014-04-01 00:05:00  21.970327\n",
            "2  2014-04-01 00:10:00  18.624806\n",
            "3  2014-04-01 00:15:00  21.953684\n",
            "4  2014-04-01 00:20:00  21.909120\n",
            "             timestamp      value\n",
            "0  2014-04-01 00:00:00  19.761252\n",
            "1  2014-04-01 00:05:00  20.500833\n",
            "2  2014-04-01 00:10:00  19.961641\n",
            "3  2014-04-01 00:15:00  21.490266\n",
            "4  2014-04-01 00:20:00  20.187739\n"
          ],
          "name": "stdout"
        }
      ]
    },
    {
      "cell_type": "markdown",
      "metadata": {
        "id": "JIsTWnjsNqjJ"
      },
      "source": [
        "## Normalize train data"
      ]
    },
    {
      "cell_type": "code",
      "metadata": {
        "id": "eRldVTUw9qAK",
        "colab": {
          "base_uri": "https://localhost:8080/",
          "height": 141
        },
        "outputId": "11072aa1-a0fd-4ee0-fe2d-93db14b661b9"
      },
      "source": [
        "#Normalize\n",
        "tr_mean=train_df['value'].mean()\n",
        "tr_std=train_df['value'].std()\n",
        "train=(train_df['value']-tr_mean)/tr_std\n",
        "print(train.head())\n",
        "print(len(train))"
      ],
      "execution_count": null,
      "outputs": [
        {
          "output_type": "stream",
          "text": [
            "0   -0.858829\n",
            "1   -0.728993\n",
            "2   -0.848148\n",
            "3   -0.729586\n",
            "4   -0.731173\n",
            "Name: value, dtype: float64\n",
            "4032\n"
          ],
          "name": "stdout"
        }
      ]
    },
    {
      "cell_type": "markdown",
      "metadata": {
        "id": "agcQXimqNvW1"
      },
      "source": [
        "##Create sequences"
      ]
    },
    {
      "cell_type": "code",
      "metadata": {
        "id": "LrE7BM6PBPNx",
        "colab": {
          "base_uri": "https://localhost:8080/",
          "height": 35
        },
        "outputId": "548a91c0-4e44-447a-f916-bb1cf14bcf20"
      },
      "source": [
        "#format data for timeseries\n",
        "def seq(data,steps):\n",
        "  output=[]\n",
        "\n",
        "  for n in range(len(data)-steps):\n",
        "    output.append(data[n:n+steps])\n",
        "  data=np.array(output).reshape(-1,steps,1)\n",
        "  return data\n",
        "steps=288\n",
        "train=seq(train,steps)\n",
        "print(train.shape)"
      ],
      "execution_count": null,
      "outputs": [
        {
          "output_type": "stream",
          "text": [
            "(3744, 288, 1)\n"
          ],
          "name": "stdout"
        }
      ]
    },
    {
      "cell_type": "markdown",
      "metadata": {
        "id": "DQNYxS8HNL80"
      },
      "source": [
        "# Create and train model"
      ]
    },
    {
      "cell_type": "code",
      "metadata": {
        "id": "23eAQ7sjCKpb",
        "colab": {
          "base_uri": "https://localhost:8080/",
          "height": 426
        },
        "outputId": "24c2a974-cfed-4ed2-cdfa-66ffc53de5fc"
      },
      "source": [
        "#Autoencoder\n",
        "\n",
        "model=tf.keras.models.Sequential()\n",
        "model.add(Input(shape=train.shape[-2:]))\n",
        "model.add(Conv1D(filters=32, kernel_size=7, padding=\"same\", strides=2, activation=\"relu\"))\n",
        "model.add(Dropout(rate=0.2))\n",
        "model.add(Conv1D(filters=16, kernel_size=7, padding=\"same\", strides=2, activation=\"relu\"))\n",
        "model.add(Conv1DTranspose(filters=16, kernel_size=7, padding=\"same\", strides=2, activation=\"relu\"))\n",
        "model.add(Dropout(rate=0.2))\n",
        "model.add(Conv1DTranspose(filters=32, kernel_size=7, padding=\"same\", strides=2, activation=\"relu\"))\n",
        "model.add(Conv1DTranspose(filters=1, kernel_size=7, padding=\"same\"))\n",
        "model.compile(optimizer='adam',loss='mse')\n",
        "print(model.summary())\n"
      ],
      "execution_count": null,
      "outputs": [
        {
          "output_type": "stream",
          "text": [
            "Model: \"sequential\"\n",
            "_________________________________________________________________\n",
            "Layer (type)                 Output Shape              Param #   \n",
            "=================================================================\n",
            "conv1d (Conv1D)              (None, 144, 32)           256       \n",
            "_________________________________________________________________\n",
            "dropout (Dropout)            (None, 144, 32)           0         \n",
            "_________________________________________________________________\n",
            "conv1d_1 (Conv1D)            (None, 72, 16)            3600      \n",
            "_________________________________________________________________\n",
            "conv1d_transpose (Conv1DTran (None, 144, 16)           1808      \n",
            "_________________________________________________________________\n",
            "dropout_1 (Dropout)          (None, 144, 16)           0         \n",
            "_________________________________________________________________\n",
            "conv1d_transpose_1 (Conv1DTr (None, 288, 32)           3616      \n",
            "_________________________________________________________________\n",
            "conv1d_transpose_2 (Conv1DTr (None, 288, 1)            225       \n",
            "=================================================================\n",
            "Total params: 9,505\n",
            "Trainable params: 9,505\n",
            "Non-trainable params: 0\n",
            "_________________________________________________________________\n",
            "None\n"
          ],
          "name": "stdout"
        }
      ]
    },
    {
      "cell_type": "code",
      "metadata": {
        "id": "NW-kttUqF6Fn",
        "colab": {
          "base_uri": "https://localhost:8080/",
          "height": 1000
        },
        "outputId": "62b9bf55-9aa7-4e7a-c3c8-ee10a1997775"
      },
      "source": [
        "#Train model\n",
        "history=model.fit(train,train,epochs=50,batch_size=128,validation_split=0.1)"
      ],
      "execution_count": null,
      "outputs": [
        {
          "output_type": "stream",
          "text": [
            "Epoch 1/50\n",
            "27/27 [==============================] - 2s 81ms/step - loss: 0.5671 - val_loss: 0.1057\n",
            "Epoch 2/50\n",
            "27/27 [==============================] - 2s 74ms/step - loss: 0.0915 - val_loss: 0.0402\n",
            "Epoch 3/50\n",
            "27/27 [==============================] - 2s 74ms/step - loss: 0.0609 - val_loss: 0.0365\n",
            "Epoch 4/50\n",
            "27/27 [==============================] - 2s 75ms/step - loss: 0.0516 - val_loss: 0.0323\n",
            "Epoch 5/50\n",
            "27/27 [==============================] - 2s 74ms/step - loss: 0.0440 - val_loss: 0.0285\n",
            "Epoch 6/50\n",
            "27/27 [==============================] - 2s 75ms/step - loss: 0.0384 - val_loss: 0.0271\n",
            "Epoch 7/50\n",
            "27/27 [==============================] - 2s 74ms/step - loss: 0.0344 - val_loss: 0.0251\n",
            "Epoch 8/50\n",
            "27/27 [==============================] - 2s 75ms/step - loss: 0.0311 - val_loss: 0.0234\n",
            "Epoch 9/50\n",
            "27/27 [==============================] - 2s 75ms/step - loss: 0.0284 - val_loss: 0.0251\n",
            "Epoch 10/50\n",
            "27/27 [==============================] - 2s 74ms/step - loss: 0.0262 - val_loss: 0.0253\n",
            "Epoch 11/50\n",
            "27/27 [==============================] - 2s 73ms/step - loss: 0.0245 - val_loss: 0.0244\n",
            "Epoch 12/50\n",
            "27/27 [==============================] - 2s 74ms/step - loss: 0.0230 - val_loss: 0.0265\n",
            "Epoch 13/50\n",
            "27/27 [==============================] - 2s 74ms/step - loss: 0.0219 - val_loss: 0.0267\n",
            "Epoch 14/50\n",
            "27/27 [==============================] - 2s 74ms/step - loss: 0.0209 - val_loss: 0.0283\n",
            "Epoch 15/50\n",
            "27/27 [==============================] - 2s 74ms/step - loss: 0.0200 - val_loss: 0.0264\n",
            "Epoch 16/50\n",
            "27/27 [==============================] - 2s 74ms/step - loss: 0.0192 - val_loss: 0.0271\n",
            "Epoch 17/50\n",
            "27/27 [==============================] - 2s 75ms/step - loss: 0.0184 - val_loss: 0.0262\n",
            "Epoch 18/50\n",
            "27/27 [==============================] - 2s 75ms/step - loss: 0.0178 - val_loss: 0.0285\n",
            "Epoch 19/50\n",
            "27/27 [==============================] - 2s 74ms/step - loss: 0.0172 - val_loss: 0.0276\n",
            "Epoch 20/50\n",
            "27/27 [==============================] - 2s 74ms/step - loss: 0.0166 - val_loss: 0.0254\n",
            "Epoch 21/50\n",
            "27/27 [==============================] - 2s 75ms/step - loss: 0.0161 - val_loss: 0.0257\n",
            "Epoch 22/50\n",
            "27/27 [==============================] - 2s 76ms/step - loss: 0.0156 - val_loss: 0.0251\n",
            "Epoch 23/50\n",
            "27/27 [==============================] - 2s 74ms/step - loss: 0.0151 - val_loss: 0.0258\n",
            "Epoch 24/50\n",
            "27/27 [==============================] - 2s 75ms/step - loss: 0.0146 - val_loss: 0.0240\n",
            "Epoch 25/50\n",
            "27/27 [==============================] - 2s 74ms/step - loss: 0.0142 - val_loss: 0.0235\n",
            "Epoch 26/50\n",
            "27/27 [==============================] - 2s 74ms/step - loss: 0.0137 - val_loss: 0.0216\n",
            "Epoch 27/50\n",
            "27/27 [==============================] - 2s 73ms/step - loss: 0.0133 - val_loss: 0.0218\n",
            "Epoch 28/50\n",
            "27/27 [==============================] - 2s 74ms/step - loss: 0.0130 - val_loss: 0.0205\n",
            "Epoch 29/50\n",
            "27/27 [==============================] - 2s 75ms/step - loss: 0.0126 - val_loss: 0.0183\n",
            "Epoch 30/50\n",
            "27/27 [==============================] - 2s 74ms/step - loss: 0.0121 - val_loss: 0.0179\n",
            "Epoch 31/50\n",
            "27/27 [==============================] - 2s 73ms/step - loss: 0.0119 - val_loss: 0.0184\n",
            "Epoch 32/50\n",
            "27/27 [==============================] - 2s 74ms/step - loss: 0.0115 - val_loss: 0.0172\n",
            "Epoch 33/50\n",
            "27/27 [==============================] - 2s 74ms/step - loss: 0.0111 - val_loss: 0.0166\n",
            "Epoch 34/50\n",
            "27/27 [==============================] - 2s 73ms/step - loss: 0.0108 - val_loss: 0.0167\n",
            "Epoch 35/50\n",
            "27/27 [==============================] - 2s 73ms/step - loss: 0.0105 - val_loss: 0.0161\n",
            "Epoch 36/50\n",
            "27/27 [==============================] - 2s 73ms/step - loss: 0.0102 - val_loss: 0.0156\n",
            "Epoch 37/50\n",
            "27/27 [==============================] - 2s 73ms/step - loss: 0.0100 - val_loss: 0.0152\n",
            "Epoch 38/50\n",
            "27/27 [==============================] - 2s 74ms/step - loss: 0.0098 - val_loss: 0.0141\n",
            "Epoch 39/50\n",
            "27/27 [==============================] - 2s 73ms/step - loss: 0.0095 - val_loss: 0.0143\n",
            "Epoch 40/50\n",
            "27/27 [==============================] - 2s 74ms/step - loss: 0.0093 - val_loss: 0.0133\n",
            "Epoch 41/50\n",
            "27/27 [==============================] - 2s 73ms/step - loss: 0.0091 - val_loss: 0.0133\n",
            "Epoch 42/50\n",
            "27/27 [==============================] - 2s 73ms/step - loss: 0.0089 - val_loss: 0.0129\n",
            "Epoch 43/50\n",
            "27/27 [==============================] - 2s 73ms/step - loss: 0.0087 - val_loss: 0.0131\n",
            "Epoch 44/50\n",
            "27/27 [==============================] - 2s 73ms/step - loss: 0.0085 - val_loss: 0.0123\n",
            "Epoch 45/50\n",
            "27/27 [==============================] - 2s 74ms/step - loss: 0.0084 - val_loss: 0.0121\n",
            "Epoch 46/50\n",
            "27/27 [==============================] - 2s 74ms/step - loss: 0.0082 - val_loss: 0.0115\n",
            "Epoch 47/50\n",
            "27/27 [==============================] - 2s 74ms/step - loss: 0.0080 - val_loss: 0.0112\n",
            "Epoch 48/50\n",
            "27/27 [==============================] - 2s 73ms/step - loss: 0.0079 - val_loss: 0.0109\n",
            "Epoch 49/50\n",
            "27/27 [==============================] - 2s 75ms/step - loss: 0.0078 - val_loss: 0.0110\n",
            "Epoch 50/50\n",
            "27/27 [==============================] - 2s 75ms/step - loss: 0.0077 - val_loss: 0.0109\n"
          ],
          "name": "stdout"
        }
      ]
    },
    {
      "cell_type": "markdown",
      "metadata": {
        "id": "GqwQxpfLM7wX"
      },
      "source": [
        "# Find anomalies"
      ]
    },
    {
      "cell_type": "markdown",
      "metadata": {
        "id": "V67uYFZUOC80"
      },
      "source": [
        "## Find max MAE loss and use this as anomaly threshold"
      ]
    },
    {
      "cell_type": "code",
      "metadata": {
        "id": "M0tWaHq3JLqa",
        "colab": {
          "base_uri": "https://localhost:8080/",
          "height": 35
        },
        "outputId": "afa8ebd8-c3f2-4b5f-85f3-8a6c21103c4e"
      },
      "source": [
        "\n",
        "\n",
        "pred=model.predict(train)\n",
        "loss= np.mean(np.abs(pred-train),axis=1)\n",
        "\n",
        "threshold= np.max(loss)\n",
        "print(threshold)"
      ],
      "execution_count": null,
      "outputs": [
        {
          "output_type": "stream",
          "text": [
            "0.08855727058031487\n"
          ],
          "name": "stdout"
        }
      ]
    },
    {
      "cell_type": "markdown",
      "metadata": {
        "id": "DYaHyIpwOJzp"
      },
      "source": [
        "## Prepare test data"
      ]
    },
    {
      "cell_type": "code",
      "metadata": {
        "id": "qnf9ZaWrKZ8t",
        "colab": {
          "base_uri": "https://localhost:8080/",
          "height": 35
        },
        "outputId": "619695db-e224-489b-e9cb-6f431292a31c"
      },
      "source": [
        "\n",
        "test=(test_df['value']-tr_mean)/tr_std\n",
        "test=seq(test,steps)\n",
        "print(test.shape)"
      ],
      "execution_count": null,
      "outputs": [
        {
          "output_type": "stream",
          "text": [
            "(3744, 288, 1)\n"
          ],
          "name": "stdout"
        }
      ]
    },
    {
      "cell_type": "markdown",
      "metadata": {
        "id": "ozIDmqOwOPih"
      },
      "source": [
        "## Get test loss and locate anomalies"
      ]
    },
    {
      "cell_type": "code",
      "metadata": {
        "id": "TL_2FoHWLQm5"
      },
      "source": [
        "\n",
        "\n",
        "te_pred=model.predict(test)\n",
        "te_loss=np.mean(np.abs(te_pred - test), axis=1).reshape((-1))"
      ],
      "execution_count": null,
      "outputs": []
    },
    {
      "cell_type": "code",
      "metadata": {
        "id": "fMFo-yLgMzCs",
        "colab": {
          "base_uri": "https://localhost:8080/",
          "height": 695
        },
        "outputId": "ab06b4e0-9b56-4100-bbfc-0e84c041a7c6"
      },
      "source": [
        "#Identify anomalies\n",
        "anomalies=list(te_loss>threshold)\n",
        "print('The number of anomalies is {} and the indices of these anomalies are{}'.format(np.sum(anomalies),np.where(anomalies)))"
      ],
      "execution_count": null,
      "outputs": [
        {
          "output_type": "stream",
          "text": [
            "The number of anomalies is 400 and the indices of these anomalies are(array([ 793,  794,  795, 2522, 2523, 2701, 2702, 2703, 2704, 2705, 2706,\n",
            "       2707, 2708, 2709, 2710, 2711, 2712, 2713, 2714, 2715, 2716, 2717,\n",
            "       2718, 2719, 2720, 2721, 2722, 2723, 2724, 2725, 2726, 2727, 2728,\n",
            "       2729, 2730, 2731, 2732, 2733, 2734, 2735, 2736, 2737, 2738, 2739,\n",
            "       2740, 2741, 2742, 2743, 2744, 2745, 2746, 2747, 2748, 2749, 2750,\n",
            "       2751, 2752, 2753, 2754, 2755, 2756, 2757, 2758, 2759, 2760, 2761,\n",
            "       2762, 2763, 2764, 2765, 2766, 2767, 2768, 2769, 2770, 2771, 2772,\n",
            "       2773, 2774, 2775, 2776, 2777, 2778, 2779, 2780, 2781, 2782, 2783,\n",
            "       2784, 2785, 2786, 2787, 2788, 2789, 2790, 2791, 2792, 2793, 2794,\n",
            "       2795, 2796, 2797, 2798, 2799, 2800, 2801, 2802, 2803, 2804, 2805,\n",
            "       2806, 2807, 2808, 2809, 2810, 2811, 2812, 2813, 2814, 2815, 2816,\n",
            "       2817, 2818, 2819, 2820, 2821, 2822, 2823, 2824, 2825, 2826, 2827,\n",
            "       2828, 2829, 2830, 2831, 2832, 2833, 2834, 2835, 2836, 2837, 2838,\n",
            "       2839, 2840, 2841, 2842, 2843, 2844, 2845, 2846, 2847, 2848, 2849,\n",
            "       2850, 2851, 2852, 2853, 2854, 2855, 2856, 2857, 2858, 2859, 2860,\n",
            "       2861, 2862, 2863, 2864, 2865, 2866, 2867, 2868, 2869, 2870, 2871,\n",
            "       2872, 2873, 2874, 2875, 2876, 2877, 2878, 2879, 2880, 2881, 2882,\n",
            "       2883, 2884, 2885, 2886, 2887, 2888, 2889, 2890, 2891, 2892, 2893,\n",
            "       2894, 2895, 2896, 2897, 2898, 2899, 2900, 2901, 2902, 2903, 2904,\n",
            "       2905, 2906, 2907, 2908, 2909, 2910, 2911, 2912, 2913, 2914, 2915,\n",
            "       2916, 2917, 2918, 2919, 2920, 2921, 2922, 2923, 2924, 2925, 2926,\n",
            "       2927, 2928, 2929, 2930, 2931, 2932, 2933, 2934, 2935, 2936, 2937,\n",
            "       2938, 2939, 2940, 2941, 2942, 2943, 2944, 2945, 2946, 2947, 2948,\n",
            "       2949, 2950, 2951, 2952, 2953, 2954, 2955, 2956, 2957, 2958, 2959,\n",
            "       2960, 2961, 2962, 2963, 2964, 2965, 2966, 2967, 2968, 2969, 2970,\n",
            "       2971, 2972, 2973, 2974, 2975, 2976, 2977, 2978, 2979, 2980, 2981,\n",
            "       2982, 2983, 2984, 2985, 2986, 2987, 2988, 2989, 2990, 2991, 2992,\n",
            "       2993, 2994, 2995, 2996, 2997, 2998, 2999, 3000, 3001, 3002, 3003,\n",
            "       3004, 3005, 3006, 3007, 3008, 3009, 3010, 3011, 3012, 3013, 3014,\n",
            "       3015, 3016, 3017, 3018, 3019, 3020, 3021, 3022, 3023, 3024, 3025,\n",
            "       3026, 3027, 3028, 3029, 3030, 3031, 3032, 3033, 3034, 3035, 3036,\n",
            "       3037, 3038, 3039, 3040, 3041, 3042, 3043, 3044, 3045, 3046, 3047,\n",
            "       3048, 3049, 3050, 3051, 3052, 3053, 3054, 3055, 3056, 3057, 3058,\n",
            "       3059, 3060, 3061, 3062, 3063, 3064, 3065, 3066, 3067, 3068, 3069,\n",
            "       3070, 3071, 3072, 3073, 3074, 3075, 3076, 3077, 3078, 3079, 3080,\n",
            "       3081, 3082, 3083, 3084, 3085, 3086, 3087, 3088, 3089, 3090, 3091,\n",
            "       3092, 3093, 3094, 3095]),)\n"
          ],
          "name": "stdout"
        }
      ]
    },
    {
      "cell_type": "markdown",
      "metadata": {
        "id": "5n7ikQhpEeaN"
      },
      "source": [
        "If we know that the samples [(3, 4, 5), (4, 5, 6), (5, 6, 7)] are anomalies, we can say that the data point 5 is an anomaly as it is the only point in each sample."
      ]
    },
    {
      "cell_type": "code",
      "metadata": {
        "id": "1ZGOeuMQEofG"
      },
      "source": [
        "#find anomalies\n",
        "# data i is an anomaly if samples [(i - timesteps + 1) to (i)] are anomalies\n",
        "#(i - timesteps + 1) gives the first sample i is in \n",
        "#i gives the last sample it is in\n",
        "anomalies_indices=[]\n",
        "for index in range (steps-1,len(test)-steps+1):\n",
        "  samples=range(index-steps+1,index)\n",
        "  if all([anomalies[k] for k in samples]):\n",
        "    anomalies_indices.append(index)\n"
      ],
      "execution_count": null,
      "outputs": []
    },
    {
      "cell_type": "markdown",
      "metadata": {
        "id": "g86DlLp0ME8g"
      },
      "source": [
        "## Plot anomalies"
      ]
    },
    {
      "cell_type": "code",
      "metadata": {
        "id": "9fiAvopweYXs",
        "colab": {
          "base_uri": "https://localhost:8080/",
          "height": 307
        },
        "outputId": "40b68c23-87c2-481f-981d-116904ec20d1"
      },
      "source": [
        "\n",
        "anomalies_df=test_df.iloc[anomalies_indices,:]\n",
        "\n",
        "#convert string to date time object\n",
        "anom_dates=list(anomalies_df['timestamp'])\n",
        "anom_dates=[datetime.strptime(x, '%Y-%m-%d %H:%M:%S') for x in anom_dates]\n",
        "\n",
        "dates=list(test_df['timestamp'])\n",
        "dates=[datetime.strptime(x, '%Y-%m-%d %H:%M:%S') for x in dates]\n",
        "\n",
        "\n",
        "plot.figure()\n",
        "plot.xticks(rotation=25)#rotate labels so no overlap\n",
        "plot.plot(dates,test_df['value'],label='Test data')\n",
        "plot.plot(anom_dates,anomalies_df['value'],label='anomalies',color='r')\n",
        "plot.legend()"
      ],
      "execution_count": null,
      "outputs": [
        {
          "output_type": "execute_result",
          "data": {
            "text/plain": [
              "<matplotlib.legend.Legend at 0x7fb5f18d39b0>"
            ]
          },
          "metadata": {
            "tags": []
          },
          "execution_count": 75
        },
        {
          "output_type": "display_data",
          "data": {
            "image/png": "[encoded data removed]",
            "text/plain": [
              "<Figure size 432x288 with 1 Axes>"
            ]
          },
          "metadata": {
            "tags": [],
            "needs_background": "light"
          }
        }
      ]
    },
    {
      "cell_type": "markdown",
      "metadata": {
        "id": "VOb6OVO3BAE1"
      },
      "source": [
        ""
      ]
    }
  ]
}