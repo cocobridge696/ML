{
  "nbformat": 4,
  "nbformat_minor": 0,
  "metadata": {
    "colab": {
      "name": "Obesity_Aclust",
      "provenance": [],
      "authorship_tag": "ABX9TyOYB5TUJb2q2h9+8noLCPB3",
      "include_colab_link": true
    },
    "kernelspec": {
      "name": "python3",
      "display_name": "Python 3"
    }
  },
  "cells": [
    {
      "cell_type": "markdown",
      "metadata": {
        "id": "view-in-github",
        "colab_type": "text"
      },
      "source": [
        "<a href=\"https://colab.research.google.com/github/cocobridge696/ML/blob/main/Obesity_Aclust.ipynb\" target=\"_parent\"><img src=\"https://colab.research.google.com/assets/colab-badge.svg\" alt=\"Open In Colab\"/></a>"
      ]
    },
    {
      "cell_type": "code",
      "metadata": {
        "id": "iiBOXQGssIHE"
      },
      "source": [
        "import numpy as np\n",
        "import pandas as pd\n",
        "import tensorflow as tf\n",
        "from tensorflow.keras.layers import Dense,Input,Flatten\n",
        "from tensorflow.keras.models import Model\n",
        "from tensorflow.keras.utils import plot_model as plot"
      ],
      "execution_count": null,
      "outputs": []
    },
    {
      "cell_type": "code",
      "metadata": {
        "id": "dtkfJE7NsZZj",
        "colab": {
          "base_uri": "https://localhost:8080/",
          "height": 286
        },
        "outputId": "e32b2317-beae-4ac6-a144-c6d23e806f1f"
      },
      "source": [
        "!wget 'https://archive.ics.uci.edu/ml/machine-learning-databases/00544/ObesityDataSet_raw_and_data_sinthetic%20(2).zip'\n",
        "!unzip \\*.zip"
      ],
      "execution_count": null,
      "outputs": [
        {
          "output_type": "stream",
          "text": [
            "--2020-08-12 05:32:11--  https://archive.ics.uci.edu/ml/machine-learning-databases/00544/ObesityDataSet_raw_and_data_sinthetic%20(2).zip\n",
            "Resolving archive.ics.uci.edu (archive.ics.uci.edu)... 128.195.10.252\n",
            "Connecting to archive.ics.uci.edu (archive.ics.uci.edu)|128.195.10.252|:443... connected.\n",
            "HTTP request sent, awaiting response... 200 OK\n",
            "Length: 119205 (116K) [application/x-httpd-php]\n",
            "Saving to: ‘ObesityDataSet_raw_and_data_sinthetic (2).zip’\n",
            "\n",
            "\r          ObesityDa   0%[                    ]       0  --.-KB/s               \rObesityDataSet_raw_ 100%[===================>] 116.41K  --.-KB/s    in 0.1s    \n",
            "\n",
            "2020-08-12 05:32:11 (1.02 MB/s) - ‘ObesityDataSet_raw_and_data_sinthetic (2).zip’ saved [119205/119205]\n",
            "\n",
            "Archive:  ObesityDataSet_raw_and_data_sinthetic (2).zip\n",
            "  inflating: ObesityDataSet_raw_and_data_sinthetic.arff  \n",
            "  inflating: ObesityDataSet_raw_and_data_sinthetic.csv  \n"
          ],
          "name": "stdout"
        }
      ]
    },
    {
      "cell_type": "code",
      "metadata": {
        "id": "0CUFjZEOszw0",
        "colab": {
          "base_uri": "https://localhost:8080/",
          "height": 214
        },
        "outputId": "2a6475b7-fe67-4e85-b01f-6a3c4c67b5e7"
      },
      "source": [
        "data=pd.read_csv('ObesityDataSet_raw_and_data_sinthetic.csv')\n",
        "data=data.reindex(np.random.permutation(data.index))\n",
        "data.head()\n",
        "#some numerical but alot of strings"
      ],
      "execution_count": null,
      "outputs": [
        {
          "output_type": "execute_result",
          "data": {
            "text/html": [
              "<div>\n",
              "<style scoped>\n",
              "    .dataframe tbody tr th:only-of-type {\n",
              "        vertical-align: middle;\n",
              "    }\n",
              "\n",
              "    .dataframe tbody tr th {\n",
              "        vertical-align: top;\n",
              "    }\n",
              "\n",
              "    .dataframe thead th {\n",
              "        text-align: right;\n",
              "    }\n",
              "</style>\n",
              "<table border=\"1\" class=\"dataframe\">\n",
              "  <thead>\n",
              "    <tr style=\"text-align: right;\">\n",
              "      <th></th>\n",
              "      <th>Gender</th>\n",
              "      <th>Age</th>\n",
              "      <th>Height</th>\n",
              "      <th>Weight</th>\n",
              "      <th>family_history_with_overweight</th>\n",
              "      <th>FAVC</th>\n",
              "      <th>FCVC</th>\n",
              "      <th>NCP</th>\n",
              "      <th>CAEC</th>\n",
              "      <th>SMOKE</th>\n",
              "      <th>CH2O</th>\n",
              "      <th>SCC</th>\n",
              "      <th>FAF</th>\n",
              "      <th>TUE</th>\n",
              "      <th>CALC</th>\n",
              "      <th>MTRANS</th>\n",
              "      <th>NObeyesdad</th>\n",
              "    </tr>\n",
              "  </thead>\n",
              "  <tbody>\n",
              "    <tr>\n",
              "      <th>1432</th>\n",
              "      <td>Female</td>\n",
              "      <td>22.538932</td>\n",
              "      <td>1.603963</td>\n",
              "      <td>82.012637</td>\n",
              "      <td>yes</td>\n",
              "      <td>yes</td>\n",
              "      <td>1.123672</td>\n",
              "      <td>1.014916</td>\n",
              "      <td>Sometimes</td>\n",
              "      <td>no</td>\n",
              "      <td>2.042078</td>\n",
              "      <td>no</td>\n",
              "      <td>1.846666</td>\n",
              "      <td>1.426103</td>\n",
              "      <td>no</td>\n",
              "      <td>Public_Transportation</td>\n",
              "      <td>Obesity_Type_I</td>\n",
              "    </tr>\n",
              "    <tr>\n",
              "      <th>1489</th>\n",
              "      <td>Female</td>\n",
              "      <td>41.318302</td>\n",
              "      <td>1.544937</td>\n",
              "      <td>77.053948</td>\n",
              "      <td>yes</td>\n",
              "      <td>yes</td>\n",
              "      <td>2.000000</td>\n",
              "      <td>3.000000</td>\n",
              "      <td>Sometimes</td>\n",
              "      <td>no</td>\n",
              "      <td>2.090413</td>\n",
              "      <td>no</td>\n",
              "      <td>0.000000</td>\n",
              "      <td>0.000000</td>\n",
              "      <td>Sometimes</td>\n",
              "      <td>Automobile</td>\n",
              "      <td>Obesity_Type_I</td>\n",
              "    </tr>\n",
              "    <tr>\n",
              "      <th>406</th>\n",
              "      <td>Male</td>\n",
              "      <td>33.000000</td>\n",
              "      <td>1.760000</td>\n",
              "      <td>66.500000</td>\n",
              "      <td>no</td>\n",
              "      <td>no</td>\n",
              "      <td>2.000000</td>\n",
              "      <td>3.000000</td>\n",
              "      <td>Sometimes</td>\n",
              "      <td>no</td>\n",
              "      <td>2.000000</td>\n",
              "      <td>no</td>\n",
              "      <td>3.000000</td>\n",
              "      <td>1.000000</td>\n",
              "      <td>Sometimes</td>\n",
              "      <td>Automobile</td>\n",
              "      <td>Normal_Weight</td>\n",
              "    </tr>\n",
              "    <tr>\n",
              "      <th>842</th>\n",
              "      <td>Male</td>\n",
              "      <td>19.226314</td>\n",
              "      <td>1.814255</td>\n",
              "      <td>85.255631</td>\n",
              "      <td>yes</td>\n",
              "      <td>yes</td>\n",
              "      <td>2.971351</td>\n",
              "      <td>3.390143</td>\n",
              "      <td>Sometimes</td>\n",
              "      <td>no</td>\n",
              "      <td>2.133767</td>\n",
              "      <td>no</td>\n",
              "      <td>2.318492</td>\n",
              "      <td>0.678618</td>\n",
              "      <td>Sometimes</td>\n",
              "      <td>Public_Transportation</td>\n",
              "      <td>Overweight_Level_I</td>\n",
              "    </tr>\n",
              "    <tr>\n",
              "      <th>289</th>\n",
              "      <td>Male</td>\n",
              "      <td>19.000000</td>\n",
              "      <td>1.880000</td>\n",
              "      <td>79.000000</td>\n",
              "      <td>no</td>\n",
              "      <td>no</td>\n",
              "      <td>2.000000</td>\n",
              "      <td>3.000000</td>\n",
              "      <td>Sometimes</td>\n",
              "      <td>no</td>\n",
              "      <td>3.000000</td>\n",
              "      <td>no</td>\n",
              "      <td>3.000000</td>\n",
              "      <td>0.000000</td>\n",
              "      <td>Sometimes</td>\n",
              "      <td>Automobile</td>\n",
              "      <td>Normal_Weight</td>\n",
              "    </tr>\n",
              "  </tbody>\n",
              "</table>\n",
              "</div>"
            ],
            "text/plain": [
              "      Gender        Age  ...                 MTRANS          NObeyesdad\n",
              "1432  Female  22.538932  ...  Public_Transportation      Obesity_Type_I\n",
              "1489  Female  41.318302  ...             Automobile      Obesity_Type_I\n",
              "406     Male  33.000000  ...             Automobile       Normal_Weight\n",
              "842     Male  19.226314  ...  Public_Transportation  Overweight_Level_I\n",
              "289     Male  19.000000  ...             Automobile       Normal_Weight\n",
              "\n",
              "[5 rows x 17 columns]"
            ]
          },
          "metadata": {
            "tags": []
          },
          "execution_count": 3
        }
      ]
    },
    {
      "cell_type": "code",
      "metadata": {
        "id": "vMZz2gfYt5a-",
        "colab": {
          "base_uri": "https://localhost:8080/",
          "height": 72
        },
        "outputId": "664dbbea-a541-4446-ce98-dfae27e235c3"
      },
      "source": [
        "#identify possible strings\n",
        "dictionary={}\n",
        "string_cols=[]\n",
        "for n in data.keys()[:-1]:\n",
        " if type(data[n][0])==str:\n",
        "   string_cols.append(n)\n",
        "   dictionary[n]=list(np.unique(data[n]))\n",
        "print(dictionary)\n",
        "print(string_cols)"
      ],
      "execution_count": null,
      "outputs": [
        {
          "output_type": "stream",
          "text": [
            "{'Gender': ['Female', 'Male'], 'family_history_with_overweight': ['no', 'yes'], 'FAVC': ['no', 'yes'], 'CAEC': ['Always', 'Frequently', 'Sometimes', 'no'], 'SMOKE': ['no', 'yes'], 'SCC': ['no', 'yes'], 'CALC': ['Always', 'Frequently', 'Sometimes', 'no'], 'MTRANS': ['Automobile', 'Bike', 'Motorbike', 'Public_Transportation', 'Walking']}\n",
            "['Gender', 'family_history_with_overweight', 'FAVC', 'CAEC', 'SMOKE', 'SCC', 'CALC', 'MTRANS']\n"
          ],
          "name": "stdout"
        }
      ]
    },
    {
      "cell_type": "code",
      "metadata": {
        "id": "TG_zNiaVBD2N",
        "colab": {
          "base_uri": "https://localhost:8080/",
          "height": 35
        },
        "outputId": "136f4699-91be-4e67-ed22-f1932d311cef"
      },
      "source": [
        "vsplit=0.2\n",
        "train,test=np.split(data,[int((1-vsplit)*len(data))])\n",
        "\n",
        "\n",
        "trlabel=train['NObeyesdad']\n",
        "telabel=test['NObeyesdad']\n",
        "\n",
        "\n",
        "train=train.drop('NObeyesdad',1)\n",
        "test=test.drop('NObeyesdad',1)\n",
        "\n",
        "print(train.shape,test.shape)"
      ],
      "execution_count": null,
      "outputs": [
        {
          "output_type": "stream",
          "text": [
            "(1688, 16) (423, 16)\n"
          ],
          "name": "stdout"
        }
      ]
    },
    {
      "cell_type": "code",
      "metadata": {
        "id": "4UQtRKyxvACC"
      },
      "source": [
        "#covert labels to cluster ids for checking accuracy\n",
        "labels=np.unique(trlabel)\n",
        "i=0\n",
        "for n in labels:\n",
        "  trlabel[trlabel==n]=i\n",
        "  i+=1"
      ],
      "execution_count": null,
      "outputs": []
    },
    {
      "cell_type": "code",
      "metadata": {
        "id": "aOHE5Agtv0o1",
        "colab": {
          "base_uri": "https://localhost:8080/",
          "height": 284
        },
        "outputId": "5eb1adcb-e29e-4dbd-baee-9d7e14ea3106"
      },
      "source": [
        "print(labels)\n",
        "print(trlabel)\n",
        "print(np.unique(trlabel))"
      ],
      "execution_count": null,
      "outputs": [
        {
          "output_type": "stream",
          "text": [
            "['Insufficient_Weight' 'Normal_Weight' 'Obesity_Type_I' 'Obesity_Type_II'\n",
            " 'Obesity_Type_III' 'Overweight_Level_I' 'Overweight_Level_II']\n",
            "1432    2\n",
            "1489    2\n",
            "406     1\n",
            "842     5\n",
            "289     1\n",
            "       ..\n",
            "575     0\n",
            "756     5\n",
            "1387    2\n",
            "326     1\n",
            "513     0\n",
            "Name: NObeyesdad, Length: 1688, dtype: object\n",
            "[0 1 2 3 4 5 6]\n"
          ],
          "name": "stdout"
        }
      ]
    },
    {
      "cell_type": "code",
      "metadata": {
        "id": "Dp0eZC7ExEfE"
      },
      "source": [
        "#create feature column\n",
        "feature_col=[]\n",
        "\n",
        "for n in string_cols:\n",
        "  col=tf.feature_column.categorical_column_with_vocabulary_list(n,dictionary[n])\n",
        "  feature_col.append(tf.feature_column.indicator_column(col))\n",
        "\n",
        "num_cols=[x for x in data.keys()[:-1] if x not in string_cols ]\n",
        "for n in num_cols:\n",
        "  feature_col.append(tf.feature_column.numeric_column(n))\n"
      ],
      "execution_count": null,
      "outputs": []
    },
    {
      "cell_type": "code",
      "metadata": {
        "id": "QP-vww0zm-97",
        "colab": {
          "base_uri": "https://localhost:8080/",
          "height": 159
        },
        "outputId": "5f38f501-1a6c-4622-fe4c-07cb1b9ee0c2"
      },
      "source": [
        "print(train.head())"
      ],
      "execution_count": null,
      "outputs": [
        {
          "output_type": "stream",
          "text": [
            "      Gender        Age    Height  ...       TUE       CALC                 MTRANS\n",
            "1432  Female  22.538932  1.603963  ...  1.426103         no  Public_Transportation\n",
            "1489  Female  41.318302  1.544937  ...  0.000000  Sometimes             Automobile\n",
            "406     Male  33.000000  1.760000  ...  1.000000  Sometimes             Automobile\n",
            "842     Male  19.226314  1.814255  ...  0.678618  Sometimes  Public_Transportation\n",
            "289     Male  19.000000  1.880000  ...  0.000000  Sometimes             Automobile\n",
            "\n",
            "[5 rows x 16 columns]\n"
          ],
          "name": "stdout"
        }
      ]
    },
    {
      "cell_type": "code",
      "metadata": {
        "id": "qK4mZFJs5pAz",
        "colab": {
          "base_uri": "https://localhost:8080/",
          "height": 1000
        },
        "outputId": "09545846-e0ab-42c4-96e1-8df2f9e56b3b"
      },
      "source": [
        "#look at distribution\n",
        "import matplotlib.pyplot as plt\n",
        "for x in num_cols:\n",
        "  plt.figure()\n",
        "  plt.hist(list(train[x]))\n",
        "  plt.xlabel(x)\n",
        "  plt.ylabel('frequency')"
      ],
      "execution_count": null,
      "outputs": [
        {
          "output_type": "display_data",
          "data": {
            "image/png": "[encoded data removed]",
            "text/plain": [
              "<Figure size 432x288 with 1 Axes>"
            ]
          },
          "metadata": {
            "tags": [],
            "needs_background": "light"
          }
        },
        {
          "output_type": "display_data",
          "data": {
            "image/png": "[encoded data removed]",
            "text/plain": [
              "<Figure size 432x288 with 1 Axes>"
            ]
          },
          "metadata": {
            "tags": [],
            "needs_background": "light"
          }
        },
        {
          "output_type": "display_data",
          "data": {
            "image/png": "[encoded data removed]",
            "text/plain": [
              "<Figure size 432x288 with 1 Axes>"
            ]
          },
          "metadata": {
            "tags": [],
            "needs_background": "light"
          }
        },
        {
          "output_type": "display_data",
          "data": {
            "image/png": "[encoded data removed]",
            "text/plain": [
              "<Figure size 432x288 with 1 Axes>"
            ]
          },
          "metadata": {
            "tags": [],
            "needs_background": "light"
          }
        },
        {
          "output_type": "display_data",
          "data": {
            "image/png": "[encoded data removed]",
            "text/plain": [
              "<Figure size 432x288 with 1 Axes>"
            ]
          },
          "metadata": {
            "tags": [],
            "needs_background": "light"
          }
        },
        {
          "output_type": "display_data",
          "data": {
            "image/png": "[encoded data removed]",
            "text/plain": [
              "<Figure size 432x288 with 1 Axes>"
            ]
          },
          "metadata": {
            "tags": [],
            "needs_background": "light"
          }
        },
        {
          "output_type": "display_data",
          "data": {
            "image/png": "[encoded data removed]",
            "text/plain": [
              "<Figure size 432x288 with 1 Axes>"
            ]
          },
          "metadata": {
            "tags": [],
            "needs_background": "light"
          }
        },
        {
          "output_type": "display_data",
          "data": {
            "image/png": "[encoded data removed]",
            "text/plain": [
              "<Figure size 432x288 with 1 Axes>"
            ]
          },
          "metadata": {
            "tags": [],
            "needs_background": "light"
          }
        }
      ]
    },
    {
      "cell_type": "code",
      "metadata": {
        "id": "Zc999dHN8QpQ"
      },
      "source": [
        "#Last 5 dont follow gaussian distrubution and thus need to be converted to quantiles\n",
        "def quantize(data):\n",
        "  col_quant=num_cols[-5:]\n",
        "  num_Quant=20\n",
        " \n",
        "  for n in col_quant:\n",
        "    data[n]=pd.qcut(data[n],num_Quant,labels=False,duplicates='drop')\n",
        "  #scale 0-1\n",
        "    min=np.min(data[n])\n",
        "    max=np.max(data[n])\n",
        "    data[n]=(data[n]-min)/(max-min)\n",
        "  return data"
      ],
      "execution_count": null,
      "outputs": []
    },
    {
      "cell_type": "code",
      "metadata": {
        "id": "10oL0I9Qk3v_"
      },
      "source": [
        "#Normalize num cols\n",
        "i=0\n",
        "for data in [train,test]:\n",
        "  for x in num_cols[:-5]:\n",
        "    data[x]=(data[x]-data[x].mean())/data[x].std()\n",
        "  if i==0:\n",
        "    train=quantize(data)\n",
        "    i=1\n",
        "  else:\n",
        "    test=quantize(data)"
      ],
      "execution_count": null,
      "outputs": []
    },
    {
      "cell_type": "code",
      "metadata": {
        "id": "AQyZHlZYnURB",
        "colab": {
          "base_uri": "https://localhost:8080/",
          "height": 159
        },
        "outputId": "35668ddb-6a49-4b13-e013-b0695c223f0a"
      },
      "source": [
        "print(train.head())"
      ],
      "execution_count": null,
      "outputs": [
        {
          "output_type": "stream",
          "text": [
            "      Gender       Age    Height  ...       TUE       CALC                 MTRANS\n",
            "1432  Female -0.271885 -1.038624  ...  0.833333         no  Public_Transportation\n",
            "1489  Female  2.697826 -1.663962  ...  0.000000  Sometimes             Automobile\n",
            "406     Male  1.382396  0.614476  ...  0.666667  Sometimes             Automobile\n",
            "842     Male -0.795732  1.189269  ...  0.416667  Sometimes  Public_Transportation\n",
            "289     Male -0.831521  1.885790  ...  0.000000  Sometimes             Automobile\n",
            "\n",
            "[5 rows x 16 columns]\n"
          ],
          "name": "stdout"
        }
      ]
    },
    {
      "cell_type": "code",
      "metadata": {
        "id": "rlisAt8o9-y8",
        "colab": {
          "base_uri": "https://localhost:8080/",
          "height": 352
        },
        "outputId": "2ce2ff53-6c13-4092-ca5a-267c608ed302"
      },
      "source": [
        "#plot one \n",
        "import seaborn as sns\n",
        "sns.distplot(train['FAF'])\n"
      ],
      "execution_count": null,
      "outputs": [
        {
          "output_type": "stream",
          "text": [
            "/usr/local/lib/python3.6/dist-packages/statsmodels/tools/_testing.py:19: FutureWarning: pandas.util.testing is deprecated. Use the functions in the public API at pandas.testing instead.\n",
            "  import pandas.util.testing as tm\n"
          ],
          "name": "stderr"
        },
        {
          "output_type": "execute_result",
          "data": {
            "text/plain": [
              "<matplotlib.axes._subplots.AxesSubplot at 0x7f5f1bc03e80>"
            ]
          },
          "metadata": {
            "tags": []
          },
          "execution_count": 14
        },
        {
          "output_type": "display_data",
          "data": {
            "image/png": "[encoded data removed]",
            "text/plain": [
              "<Figure size 432x288 with 1 Axes>"
            ]
          },
          "metadata": {
            "tags": [],
            "needs_background": "light"
          }
        }
      ]
    },
    {
      "cell_type": "code",
      "metadata": {
        "id": "S2KDNwF438TD"
      },
      "source": [
        "feat_lay=tf.keras.layers.DenseFeatures(feature_col)\n",
        "#put in form of one hot vector\n",
        "train=feat_lay(dict(train)).numpy()\n",
        "test=feat_lay(dict(test)).numpy()"
      ],
      "execution_count": null,
      "outputs": []
    },
    {
      "cell_type": "code",
      "metadata": {
        "id": "FNPHH8h_ypLG",
        "colab": {
          "base_uri": "https://localhost:8080/",
          "height": 35
        },
        "outputId": "010293f2-82ca-4f66-860a-0ab7f5d9abe2"
      },
      "source": [
        "print(train.shape)"
      ],
      "execution_count": null,
      "outputs": [
        {
          "output_type": "stream",
          "text": [
            "(1688, 31)\n"
          ],
          "name": "stdout"
        }
      ]
    },
    {
      "cell_type": "code",
      "metadata": {
        "id": "eJ1YnTITyGqy"
      },
      "source": [
        "#Autoencode model\n",
        "from tensorflow.keras.layers import Input,Dense\n",
        "\n",
        "#generic autoencoder form\n",
        "\n",
        "input=Input(shape=(train.shape[-1]))\n",
        "encode1=Dense(250,activation='relu',kernel_initializer='glorot_uniform')(input)\n",
        "encode2=Dense(250,activation='relu',kernel_initializer='glorot_uniform')(encode1)\n",
        "encode3=Dense(1000,activation='relu',kernel_initializer='glorot_uniform')(encode2)\n",
        "encode4=Dense(10,activation='relu',kernel_initializer='glorot_uniform')(encode3)\n",
        "decode1=Dense(1000,activation='relu',kernel_initializer='glorot_uniform')(encode4)\n",
        "decode2=Dense(250,activation='relu',kernel_initializer='glorot_uniform')(decode1)\n",
        "decode3=Dense(250,activation='relu',kernel_initializer='glorot_uniform')(decode2)\n",
        "output=Dense(31,activation='relu',kernel_initializer='glorot_uniform')(decode3)\n",
        "\n",
        "auto_encoder=tf.keras.models.Model(inputs=input,outputs=output)\n",
        "auto_encoder.compile(optimizer='adam',loss='mean_squared_error')"
      ],
      "execution_count": null,
      "outputs": []
    },
    {
      "cell_type": "code",
      "metadata": {
        "id": "Rxo58TKbzP48",
        "colab": {
          "base_uri": "https://localhost:8080/",
          "height": 1000
        },
        "outputId": "10b8fd01-6dac-4991-d75f-1eb600b7eff7"
      },
      "source": [
        "auto_encoder.fit(x=train,y=train,epochs=100,batch_size=5,validation_data=(test,test))"
      ],
      "execution_count": null,
      "outputs": [
        {
          "output_type": "stream",
          "text": [
            "Epoch 1/100\n",
            "338/338 [==============================] - 2s 7ms/step - loss: 0.1572 - val_loss: 0.1251\n",
            "Epoch 2/100\n",
            "338/338 [==============================] - 2s 6ms/step - loss: 0.1185 - val_loss: 0.1164\n",
            "Epoch 3/100\n",
            "338/338 [==============================] - 2s 6ms/step - loss: 0.1129 - val_loss: 0.1107\n",
            "Epoch 4/100\n",
            "338/338 [==============================] - 2s 6ms/step - loss: 0.1093 - val_loss: 0.1086\n",
            "Epoch 5/100\n",
            "338/338 [==============================] - 2s 6ms/step - loss: 0.1075 - val_loss: 0.1077\n",
            "Epoch 6/100\n",
            "338/338 [==============================] - 2s 6ms/step - loss: 0.1064 - val_loss: 0.1081\n",
            "Epoch 7/100\n",
            "338/338 [==============================] - 2s 6ms/step - loss: 0.1048 - val_loss: 0.1041\n",
            "Epoch 8/100\n",
            "338/338 [==============================] - 2s 7ms/step - loss: 0.1036 - val_loss: 0.1086\n",
            "Epoch 9/100\n",
            "338/338 [==============================] - 2s 7ms/step - loss: 0.1032 - val_loss: 0.1050\n",
            "Epoch 10/100\n",
            "338/338 [==============================] - 2s 7ms/step - loss: 0.1022 - val_loss: 0.1026\n",
            "Epoch 11/100\n",
            "338/338 [==============================] - 2s 7ms/step - loss: 0.1016 - val_loss: 0.1037\n",
            "Epoch 12/100\n",
            "338/338 [==============================] - 2s 7ms/step - loss: 0.1011 - val_loss: 0.1005\n",
            "Epoch 13/100\n",
            "338/338 [==============================] - 2s 6ms/step - loss: 0.0984 - val_loss: 0.1025\n",
            "Epoch 14/100\n",
            "338/338 [==============================] - 2s 6ms/step - loss: 0.0974 - val_loss: 0.0996\n",
            "Epoch 15/100\n",
            "338/338 [==============================] - 2s 6ms/step - loss: 0.0969 - val_loss: 0.1015\n",
            "Epoch 16/100\n",
            "338/338 [==============================] - 2s 6ms/step - loss: 0.0961 - val_loss: 0.1001\n",
            "Epoch 17/100\n",
            "338/338 [==============================] - 2s 7ms/step - loss: 0.0956 - val_loss: 0.1025\n",
            "Epoch 18/100\n",
            "338/338 [==============================] - 2s 6ms/step - loss: 0.0970 - val_loss: 0.1009\n",
            "Epoch 19/100\n",
            "338/338 [==============================] - 2s 7ms/step - loss: 0.0960 - val_loss: 0.0991\n",
            "Epoch 20/100\n",
            "338/338 [==============================] - 2s 6ms/step - loss: 0.0947 - val_loss: 0.1032\n",
            "Epoch 21/100\n",
            "338/338 [==============================] - 2s 6ms/step - loss: 0.0965 - val_loss: 0.0994\n",
            "Epoch 22/100\n",
            "338/338 [==============================] - 2s 6ms/step - loss: 0.0942 - val_loss: 0.0991\n",
            "Epoch 23/100\n",
            "338/338 [==============================] - 2s 7ms/step - loss: 0.0947 - val_loss: 0.0974\n",
            "Epoch 24/100\n",
            "338/338 [==============================] - 2s 6ms/step - loss: 0.0939 - val_loss: 0.0989\n",
            "Epoch 25/100\n",
            "338/338 [==============================] - 2s 6ms/step - loss: 0.0936 - val_loss: 0.0984\n",
            "Epoch 26/100\n",
            "338/338 [==============================] - 2s 7ms/step - loss: 0.0936 - val_loss: 0.0990\n",
            "Epoch 27/100\n",
            "338/338 [==============================] - 2s 6ms/step - loss: 0.0925 - val_loss: 0.0983\n",
            "Epoch 28/100\n",
            "338/338 [==============================] - 2s 6ms/step - loss: 0.0923 - val_loss: 0.0975\n",
            "Epoch 29/100\n",
            "338/338 [==============================] - 2s 6ms/step - loss: 0.0924 - val_loss: 0.1003\n",
            "Epoch 30/100\n",
            "338/338 [==============================] - 2s 6ms/step - loss: 0.0926 - val_loss: 0.0968\n",
            "Epoch 31/100\n",
            "338/338 [==============================] - 2s 6ms/step - loss: 0.0927 - val_loss: 0.0980\n",
            "Epoch 32/100\n",
            "338/338 [==============================] - 2s 6ms/step - loss: 0.0928 - val_loss: 0.0977\n",
            "Epoch 33/100\n",
            "338/338 [==============================] - 2s 6ms/step - loss: 0.0928 - val_loss: 0.0978\n",
            "Epoch 34/100\n",
            "338/338 [==============================] - 2s 7ms/step - loss: 0.0923 - val_loss: 0.0984\n",
            "Epoch 35/100\n",
            "338/338 [==============================] - 2s 6ms/step - loss: 0.0920 - val_loss: 0.0965\n",
            "Epoch 36/100\n",
            "338/338 [==============================] - 2s 6ms/step - loss: 0.0910 - val_loss: 0.0966\n",
            "Epoch 37/100\n",
            "338/338 [==============================] - 2s 6ms/step - loss: 0.0917 - val_loss: 0.1003\n",
            "Epoch 38/100\n",
            "338/338 [==============================] - 2s 6ms/step - loss: 0.0925 - val_loss: 0.0977\n",
            "Epoch 39/100\n",
            "338/338 [==============================] - 2s 6ms/step - loss: 0.0910 - val_loss: 0.0955\n",
            "Epoch 40/100\n",
            "338/338 [==============================] - 2s 6ms/step - loss: 0.0905 - val_loss: 0.0953\n",
            "Epoch 41/100\n",
            "338/338 [==============================] - 2s 6ms/step - loss: 0.0899 - val_loss: 0.0956\n",
            "Epoch 42/100\n",
            "338/338 [==============================] - 2s 7ms/step - loss: 0.0911 - val_loss: 0.1007\n",
            "Epoch 43/100\n",
            "338/338 [==============================] - 2s 6ms/step - loss: 0.0914 - val_loss: 0.0966\n",
            "Epoch 44/100\n",
            "338/338 [==============================] - 2s 6ms/step - loss: 0.0911 - val_loss: 0.0981\n",
            "Epoch 45/100\n",
            "338/338 [==============================] - 2s 6ms/step - loss: 0.0909 - val_loss: 0.0964\n",
            "Epoch 46/100\n",
            "338/338 [==============================] - 2s 6ms/step - loss: 0.0904 - val_loss: 0.0972\n",
            "Epoch 47/100\n",
            "338/338 [==============================] - 2s 7ms/step - loss: 0.0897 - val_loss: 0.0892\n",
            "Epoch 48/100\n",
            "338/338 [==============================] - 2s 7ms/step - loss: 0.0819 - val_loss: 0.0869\n",
            "Epoch 49/100\n",
            "338/338 [==============================] - 2s 6ms/step - loss: 0.0754 - val_loss: 0.0796\n",
            "Epoch 50/100\n",
            "338/338 [==============================] - 2s 6ms/step - loss: 0.0723 - val_loss: 0.0806\n",
            "Epoch 51/100\n",
            "338/338 [==============================] - 2s 6ms/step - loss: 0.0711 - val_loss: 0.0785\n",
            "Epoch 52/100\n",
            "338/338 [==============================] - 2s 6ms/step - loss: 0.0708 - val_loss: 0.0805\n",
            "Epoch 53/100\n",
            "338/338 [==============================] - 2s 6ms/step - loss: 0.0702 - val_loss: 0.0771\n",
            "Epoch 54/100\n",
            "338/338 [==============================] - 2s 6ms/step - loss: 0.0687 - val_loss: 0.0778\n",
            "Epoch 55/100\n",
            "338/338 [==============================] - 2s 7ms/step - loss: 0.0695 - val_loss: 0.0799\n",
            "Epoch 56/100\n",
            "338/338 [==============================] - 2s 6ms/step - loss: 0.0698 - val_loss: 0.0797\n",
            "Epoch 57/100\n",
            "338/338 [==============================] - 2s 6ms/step - loss: 0.0684 - val_loss: 0.0775\n",
            "Epoch 58/100\n",
            "338/338 [==============================] - 2s 6ms/step - loss: 0.0681 - val_loss: 0.0770\n",
            "Epoch 59/100\n",
            "338/338 [==============================] - 2s 6ms/step - loss: 0.0683 - val_loss: 0.0783\n",
            "Epoch 60/100\n",
            "338/338 [==============================] - 2s 6ms/step - loss: 0.0691 - val_loss: 0.0775\n",
            "Epoch 61/100\n",
            "338/338 [==============================] - 2s 6ms/step - loss: 0.0703 - val_loss: 0.0812\n",
            "Epoch 62/100\n",
            "338/338 [==============================] - 2s 7ms/step - loss: 0.0702 - val_loss: 0.0781\n",
            "Epoch 63/100\n",
            "338/338 [==============================] - 2s 7ms/step - loss: 0.0690 - val_loss: 0.0769\n",
            "Epoch 64/100\n",
            "338/338 [==============================] - 2s 6ms/step - loss: 0.0675 - val_loss: 0.0764\n",
            "Epoch 65/100\n",
            "338/338 [==============================] - 2s 6ms/step - loss: 0.0673 - val_loss: 0.0765\n",
            "Epoch 66/100\n",
            "338/338 [==============================] - 2s 6ms/step - loss: 0.0671 - val_loss: 0.0773\n",
            "Epoch 67/100\n",
            "338/338 [==============================] - 2s 6ms/step - loss: 0.0670 - val_loss: 0.0774\n",
            "Epoch 68/100\n",
            "338/338 [==============================] - 2s 6ms/step - loss: 0.0673 - val_loss: 0.0781\n",
            "Epoch 69/100\n",
            "338/338 [==============================] - 2s 6ms/step - loss: 0.0702 - val_loss: 0.0793\n",
            "Epoch 70/100\n",
            "338/338 [==============================] - 2s 6ms/step - loss: 0.0699 - val_loss: 0.0784\n",
            "Epoch 71/100\n",
            "338/338 [==============================] - 2s 6ms/step - loss: 0.0682 - val_loss: 0.0783\n",
            "Epoch 72/100\n",
            "338/338 [==============================] - 2s 6ms/step - loss: 0.0680 - val_loss: 0.0771\n",
            "Epoch 73/100\n",
            "338/338 [==============================] - 2s 6ms/step - loss: 0.0675 - val_loss: 0.0767\n",
            "Epoch 74/100\n",
            "338/338 [==============================] - 2s 6ms/step - loss: 0.0667 - val_loss: 0.0774\n",
            "Epoch 75/100\n",
            "338/338 [==============================] - 2s 6ms/step - loss: 0.0667 - val_loss: 0.0780\n",
            "Epoch 76/100\n",
            "338/338 [==============================] - 2s 6ms/step - loss: 0.0691 - val_loss: 0.0800\n",
            "Epoch 77/100\n",
            "338/338 [==============================] - 2s 6ms/step - loss: 0.0681 - val_loss: 0.0774\n",
            "Epoch 78/100\n",
            "338/338 [==============================] - 2s 6ms/step - loss: 0.0663 - val_loss: 0.0763\n",
            "Epoch 79/100\n",
            "338/338 [==============================] - 2s 6ms/step - loss: 0.0662 - val_loss: 0.0763\n",
            "Epoch 80/100\n",
            "338/338 [==============================] - 2s 6ms/step - loss: 0.0662 - val_loss: 0.0770\n",
            "Epoch 81/100\n",
            "338/338 [==============================] - 2s 6ms/step - loss: 0.0684 - val_loss: 0.0804\n",
            "Epoch 82/100\n",
            "338/338 [==============================] - 2s 6ms/step - loss: 0.0680 - val_loss: 0.0763\n",
            "Epoch 83/100\n",
            "338/338 [==============================] - 2s 6ms/step - loss: 0.0662 - val_loss: 0.0764\n",
            "Epoch 84/100\n",
            "338/338 [==============================] - 2s 6ms/step - loss: 0.0661 - val_loss: 0.0770\n",
            "Epoch 85/100\n",
            "338/338 [==============================] - 2s 6ms/step - loss: 0.0657 - val_loss: 0.0764\n",
            "Epoch 86/100\n",
            "338/338 [==============================] - 2s 6ms/step - loss: 0.0654 - val_loss: 0.0759\n",
            "Epoch 87/100\n",
            "338/338 [==============================] - 2s 6ms/step - loss: 0.0654 - val_loss: 0.0765\n",
            "Epoch 88/100\n",
            "338/338 [==============================] - 2s 6ms/step - loss: 0.0670 - val_loss: 0.0779\n",
            "Epoch 89/100\n",
            "338/338 [==============================] - 2s 7ms/step - loss: 0.0676 - val_loss: 0.0765\n",
            "Epoch 90/100\n",
            "338/338 [==============================] - 2s 6ms/step - loss: 0.0663 - val_loss: 0.0770\n",
            "Epoch 91/100\n",
            "338/338 [==============================] - 2s 6ms/step - loss: 0.0657 - val_loss: 0.0754\n",
            "Epoch 92/100\n",
            "338/338 [==============================] - 2s 6ms/step - loss: 0.0651 - val_loss: 0.0755\n",
            "Epoch 93/100\n",
            "338/338 [==============================] - 2s 6ms/step - loss: 0.0676 - val_loss: 0.0789\n",
            "Epoch 94/100\n",
            "338/338 [==============================] - 2s 6ms/step - loss: 0.0667 - val_loss: 0.0756\n",
            "Epoch 95/100\n",
            "338/338 [==============================] - 2s 6ms/step - loss: 0.0663 - val_loss: 0.0774\n",
            "Epoch 96/100\n",
            "338/338 [==============================] - 2s 6ms/step - loss: 0.0662 - val_loss: 0.0772\n",
            "Epoch 97/100\n",
            "338/338 [==============================] - 2s 6ms/step - loss: 0.0659 - val_loss: 0.0772\n",
            "Epoch 98/100\n",
            "338/338 [==============================] - 2s 6ms/step - loss: 0.0657 - val_loss: 0.0770\n",
            "Epoch 99/100\n",
            "338/338 [==============================] - 2s 6ms/step - loss: 0.0665 - val_loss: 0.0792\n",
            "Epoch 100/100\n",
            "338/338 [==============================] - 2s 6ms/step - loss: 0.0667 - val_loss: 0.0772\n"
          ],
          "name": "stdout"
        },
        {
          "output_type": "execute_result",
          "data": {
            "text/plain": [
              "<tensorflow.python.keras.callbacks.History at 0x7f5f14e615f8>"
            ]
          },
          "metadata": {
            "tags": []
          },
          "execution_count": 18
        }
      ]
    },
    {
      "cell_type": "code",
      "metadata": {
        "id": "PvsLS8TT1BrT"
      },
      "source": [
        "encoder=Model(inputs=input,outputs=encode4)\n"
      ],
      "execution_count": null,
      "outputs": []
    },
    {
      "cell_type": "code",
      "metadata": {
        "id": "jE51hupx1fnS"
      },
      "source": [
        "import tensorflow.keras.backend as K\n",
        "from tensorflow.keras.layers import InputSpec,Layer\n",
        "class Cluster_lay(Layer):\n",
        "  def __init__(self,No_clusters,weights=None,alpha=1.0,**kwargs):\n",
        "    if 'input_shape' not in kwargs and 'input_dim' in kwargs:\n",
        "      kwargs['input_shape']=(kwargs.pop('input_dim'),)\n",
        "    super(Cluster_lay,self).__init__(**kwargs)\n",
        "    self.No_clusters=No_clusters\n",
        "    self.alpha=alpha\n",
        "    self.initial_weights=weights\n",
        "    self.input_spec=InputSpec(ndim=2)\n",
        "\n",
        "  def build(self,input_shape):\n",
        "    assert len(input_shape)==2\n",
        "    input_dim=input_shape[1]\n",
        "    self.input_spec=InputSpec(dtype=K.floatx(), shape=(None, input_dim))\n",
        "    self.clusters = self.add_weight(shape=(self.No_clusters,input_dim), initializer='glorot_uniform', name='clusters')\n",
        "    if self.initial_weights is not None:\n",
        "      self.set_weights(self.initial_weights)\n",
        "      del self.initial_weights\n",
        "      self.built = True\n",
        "\n",
        "  def call(self,inputs,**kwargs):\n",
        "    #student t distribution to measure similarity between embedde point and centroid\n",
        "    q=1.0/(1.0+(K.sum(K.square(K.expand_dims(inputs, axis=1) - self.clusters), axis=2) / self.alpha))\n",
        "    q**=(self.alpha+1.0)/2.0\n",
        "    q = K.transpose(K.transpose(q) / K.sum(q, axis=1)) # Make sure each sample's 10 values add up to 1.\n",
        "    return q\n",
        "\n",
        "  def compute_output_shape(self, input_shape):\n",
        "    assert input_shape and len(input_shape) == 2\n",
        "    return input_shape[0], self.n_clusters\n",
        "\n",
        "  def get_config(self):\n",
        "    config = {'n_clusters': self.No_clusters}\n",
        "    base_config = super(ClusteringLayer, self).get_config()\n",
        "    return dict(list(base_config.items()) + list(config.items()))"
      ],
      "execution_count": null,
      "outputs": []
    },
    {
      "cell_type": "code",
      "metadata": {
        "id": "mulShNLA1oMF",
        "colab": {
          "base_uri": "https://localhost:8080/",
          "height": 644
        },
        "outputId": "f466737a-9ed3-4dbf-eaca-e8c98cf65798"
      },
      "source": [
        "No_clusters=7\n",
        "cluster_layer=Cluster_lay(No_clusters,name='clustering')(encoder.output)\n",
        "model=Model(inputs=encoder.input,outputs=cluster_layer)\n",
        "plot(model,show_shapes=True)"
      ],
      "execution_count": null,
      "outputs": [
        {
          "output_type": "execute_result",
          "data": {
            "image/png": "[encoded data removed]",
            "text/plain": [
              "<IPython.core.display.Image object>"
            ]
          },
          "metadata": {
            "tags": []
          },
          "execution_count": 21
        }
      ]
    },
    {
      "cell_type": "code",
      "metadata": {
        "id": "kRxPEWkdkGVS"
      },
      "source": [
        "#set inital centroids\n",
        "from sklearn.cluster import KMeans\n",
        "\n",
        "kmean=KMeans(n_clusters=No_clusters,n_init=20)\n",
        "centers=kmean.fit_predict(encoder.predict(train))\n",
        "model.get_layer(name='clustering').set_weights([kmean.cluster_centers_])\n",
        "model.compile(optimizer=tf.keras.optimizers.SGD(0.01,0.9),loss='kld')"
      ],
      "execution_count": null,
      "outputs": []
    },
    {
      "cell_type": "code",
      "metadata": {
        "id": "e9MbNed6kMjo"
      },
      "source": [
        "#auxiliary target distribution\n",
        "def target_distribution(q):\n",
        "    weight = q ** 2 / q.sum(0)\n",
        "    return (weight.T / weight.sum(1)).T"
      ],
      "execution_count": null,
      "outputs": []
    },
    {
      "cell_type": "code",
      "metadata": {
        "id": "zFZljf-ZkWi8"
      },
      "source": [
        "from sklearn.metrics import accuracy_score as acc\n",
        "\n",
        "maxiter = 8000\n",
        "update_interval = 3\n",
        "index=0\n",
        "index_array=np.arange(train.shape[0])\n",
        "batch_size=5\n",
        "for ite in range(int(maxiter)):\n",
        "  if ite % update_interval == 0:\n",
        "    q = model.predict(train, verbose=0)# gives probabilty of each cluster\n",
        "    p = target_distribution(q)  # update the auxiliary target distribution p\n",
        "\n",
        "    # evaluate the clustering performance\n",
        "    #predictions\n",
        "    y_pred = q.argmax(1) #gives indicie of maximum probability on axis 1\n",
        "    \n",
        "    \n",
        "  #train through batches\n",
        "  idx = index_array[index * batch_size: min((index+1) * batch_size, train.shape[0])]\n",
        "  loss = model.train_on_batch(x=train[idx], y=p[idx])\n",
        "  index = index + 1 if (index + 1) * batch_size <= train.shape[0] else 0\n"
      ],
      "execution_count": null,
      "outputs": []
    },
    {
      "cell_type": "markdown",
      "metadata": {
        "id": "zD23JvSNJm93"
      },
      "source": [
        "# Munkres' Assingment algorith for accuracy"
      ]
    },
    {
      "cell_type": "code",
      "metadata": {
        "id": "oXDjI1_jJGDH",
        "colab": {
          "base_uri": "https://localhost:8080/",
          "height": 108
        },
        "outputId": "c5ef9a6b-4355-4b5c-9677-5c87e8a1289c"
      },
      "source": [
        "from sklearn.utils.linear_assignment_ import linear_assignment\n",
        "\n",
        "y_true = np.array(trlabel).astype(np.int64)\n",
        "D = max(y_pred.max(), y_true.max()) + 1\n",
        "w = np.zeros((D, D), dtype=np.int64)   #7*7 matrix\n",
        "# Creates confusion matrix.\n",
        "for i in range(y_pred.size):\n",
        "    w[y_pred[i], y_true[i]] += 1 #goes through all y_pred and adds one to the correct cell\n",
        "ind = linear_assignment(-w)   #applys munkes algorith\n",
        "\n",
        "M_acc=sum([w[i, j] for i, j in ind]) * 1.0 / y_pred.size\n",
        "\n",
        "cor_labl=w.argmax(1)\n",
        "print('The accuracy is {}%'.format(np.round(M_acc*100,2)))\n",
        "print('The changed cluster labels are {}'.format(cor_labl))"
      ],
      "execution_count": null,
      "outputs": [
        {
          "output_type": "stream",
          "text": [
            "The accuracy is 33.29%\n",
            "The changed cluster labels are [2 2 4 2 3 4 0]\n"
          ],
          "name": "stdout"
        },
        {
          "output_type": "stream",
          "text": [
            "/usr/local/lib/python3.6/dist-packages/sklearn/utils/linear_assignment_.py:128: FutureWarning: The linear_assignment function is deprecated in 0.21 and will be removed from 0.23. Use scipy.optimize.linear_sum_assignment instead.\n",
            "  FutureWarning)\n"
          ],
          "name": "stderr"
        }
      ]
    },
    {
      "cell_type": "markdown",
      "metadata": {
        "id": "y2DBZHdxI8_K"
      },
      "source": [
        "# Silhouette score"
      ]
    },
    {
      "cell_type": "code",
      "metadata": {
        "id": "LQ_NC3bdlJjJ",
        "colab": {
          "base_uri": "https://localhost:8080/",
          "height": 35
        },
        "outputId": "366876a1-4d3c-4d4e-9e8b-b0c329474ecb"
      },
      "source": [
        "from sklearn.metrics import silhouette_score\n",
        "score=silhouette_score(train,y_pred,metric='euclidean')\n",
        "print('The silhouette score is {}'.format(score))"
      ],
      "execution_count": null,
      "outputs": [
        {
          "output_type": "stream",
          "text": [
            "The silhouette score is 0.1437501460313797\n"
          ],
          "name": "stdout"
        }
      ]
    },
    {
      "cell_type": "markdown",
      "metadata": {
        "id": "WuP8sfeNIxUb"
      },
      "source": [
        "# Adjusted rand score"
      ]
    },
    {
      "cell_type": "code",
      "metadata": {
        "id": "RhadJUzzELSe",
        "colab": {
          "base_uri": "https://localhost:8080/",
          "height": 35
        },
        "outputId": "1502a0b6-e460-4930-a1eb-ecb551a314ab"
      },
      "source": [
        "from sklearn import metrics\n",
        "rand=metrics.adjusted_rand_score(list(trlabel),y_pred)\n",
        "print('The adjusted rand score is {}'.format(rand))"
      ],
      "execution_count": null,
      "outputs": [
        {
          "output_type": "stream",
          "text": [
            "The adjusted rand score is 0.1534813869061538\n"
          ],
          "name": "stdout"
        }
      ]
    },
    {
      "cell_type": "markdown",
      "metadata": {
        "id": "aAhp1Ba_Inm2"
      },
      "source": [
        "# Most common ground truth label accuracy measure"
      ]
    },
    {
      "cell_type": "code",
      "metadata": {
        "id": "nLYfZqs1TP90",
        "colab": {
          "base_uri": "https://localhost:8080/",
          "height": 695
        },
        "outputId": "41166034-8c99-4505-9621-1bc4cbc5574d"
      },
      "source": [
        "#similar to munkes except final calc for acc\n",
        "#highest number represents most common label in each cluster \n",
        "#use this most common truth label to relabel cluster\n",
        "conf=metrics.confusion_matrix(list(trlabel), y_pred)\n",
        "plt.figure(figsize=(16, 14))\n",
        "sns.heatmap(conf, annot=True, fmt=\"d\", annot_kws={\"size\": 20});"
      ],
      "execution_count": null,
      "outputs": [
        {
          "output_type": "display_data",
          "data": {
            "image/png": "[encoded data removed]",
            "text/plain": [
              "<Figure size 1152x1008 with 2 Axes>"
            ]
          },
          "metadata": {
            "tags": [],
            "needs_background": "light"
          }
        }
      ]
    },
    {
      "cell_type": "code",
      "metadata": {
        "id": "XiW8Qr_ildvZ",
        "colab": {
          "base_uri": "https://localhost:8080/",
          "height": 161
        },
        "outputId": "7d802b32-179f-4083-a59b-43c8b4da7442"
      },
      "source": [
        "num_labl=[0 for x in range(7)]\n",
        "for n in range(7):\n",
        "  list1=[]\n",
        "  index=0\n",
        "  list2=[]\n",
        "  for x in y_pred:\n",
        "    if x==n:\n",
        "      list1.append(index)\n",
        "    index+=1\n",
        "  list2=(np.array(trlabel)[list1]).tolist()\n",
        "  print(list2[:40])\n",
        "  if list2 !=[]:\n",
        "    num_labl[n]=max(list2,key=list2.count)"
      ],
      "execution_count": null,
      "outputs": [
        {
          "output_type": "stream",
          "text": [
            "[2, 1, 2, 6, 2, 5, 2, 2, 5, 2, 3, 3, 6, 3, 2, 2, 6, 6, 5, 3, 2, 3, 2, 5, 2, 3, 3, 3, 1, 6, 3, 1, 5, 5, 0, 6, 2, 5, 1, 6]\n",
            "[0, 6, 0, 0, 3, 5, 3, 0, 5, 2, 1, 6, 2, 0, 3, 0, 6, 2, 0, 2, 2, 2, 0, 0, 0, 6, 6, 2, 1, 6, 1, 0, 3, 3, 0, 3, 6, 3, 0, 2]\n",
            "[4, 1, 4, 5, 4, 2, 4, 4, 4, 5, 4, 1, 4, 4, 4, 4, 4, 4, 1, 4, 2, 5, 4, 2, 0, 4, 0, 4, 4, 4, 5, 4, 4, 4, 4, 1, 5, 5, 4, 4]\n",
            "[2, 2, 2, 5, 1, 6, 2, 0, 2, 1, 6, 1, 2, 6, 2, 6, 2, 5, 2, 6, 5, 5, 2, 5, 0, 6, 5, 6, 1, 6, 6, 1, 1, 1, 0, 2, 5, 6, 6, 1]\n",
            "[5, 1, 6, 2, 1, 0, 2, 3, 3, 1, 1, 3, 3, 3, 5, 3, 1, 3, 2, 3, 3, 1, 0, 0, 3, 5, 2, 2, 6, 5, 3, 2, 2, 1, 5, 2, 6, 2, 3, 1]\n",
            "[4, 4, 4, 4, 0, 4, 4, 4, 0, 1, 1, 4, 4, 5, 0, 0, 1, 0, 4, 5, 4, 0, 1, 4, 0, 4, 4, 4, 4, 6, 4, 2, 4, 0, 4, 4, 0, 4, 4, 4]\n",
            "[1, 0, 0, 0, 0, 1, 1, 0, 0, 1, 0, 5, 0, 1, 1, 0, 1, 1, 6, 0, 0, 1, 6, 0, 5, 1, 0, 0, 0, 0, 0, 0, 1, 1, 1, 0, 1, 0, 0, 0]\n"
          ],
          "name": "stdout"
        }
      ]
    },
    {
      "cell_type": "code",
      "metadata": {
        "id": "DOVJgwN2qekf",
        "colab": {
          "base_uri": "https://localhost:8080/",
          "height": 35
        },
        "outputId": "ec916bef-73c4-42fb-bf51-4b56930ea25b"
      },
      "source": [
        "print(num_labl)\n",
        "#there are duplicates which shows low cluster accuracy"
      ],
      "execution_count": null,
      "outputs": [
        {
          "output_type": "stream",
          "text": [
            "[2, 2, 4, 2, 3, 4, 0]\n"
          ],
          "name": "stdout"
        }
      ]
    },
    {
      "cell_type": "code",
      "metadata": {
        "id": "58FpjJcX8THu"
      },
      "source": [
        "#change cluster labels\n",
        "for x in range(len(y_pred)):\n",
        "  value=y_pred[x]\n",
        "  y_pred[x]=num_labl[value]"
      ],
      "execution_count": null,
      "outputs": []
    },
    {
      "cell_type": "code",
      "metadata": {
        "id": "13j_N9e-80hU",
        "colab": {
          "base_uri": "https://localhost:8080/",
          "height": 52
        },
        "outputId": "33260bdc-b596-40f3-c251-2a90ce6384a8"
      },
      "source": [
        "print(y_pred[:10])\n",
        "print(list(trlabel)[:10])"
      ],
      "execution_count": null,
      "outputs": [
        {
          "output_type": "stream",
          "text": [
            "[2 2 2 3 3 3 2 4 2 2]\n",
            "[2, 2, 1, 5, 1, 6, 2, 4, 0, 2]\n"
          ],
          "name": "stdout"
        }
      ]
    },
    {
      "cell_type": "code",
      "metadata": {
        "id": "rYu3TLd88ciS",
        "colab": {
          "base_uri": "https://localhost:8080/",
          "height": 35
        },
        "outputId": "4296aeec-bcce-4370-eaa2-07d58c8274d1"
      },
      "source": [
        "from sklearn.metrics import accuracy_score as acc\n",
        "accuracy=acc(list(trlabel),y_pred)\n",
        "print('The accuracy is {}%'.format(int(accuracy*100)))"
      ],
      "execution_count": null,
      "outputs": [
        {
          "output_type": "stream",
          "text": [
            "The accuracy is 40%\n"
          ],
          "name": "stdout"
        }
      ]
    },
    {
      "cell_type": "markdown",
      "metadata": {
        "id": "LXiqqenOUG6x"
      },
      "source": [
        "**Summary**\n",
        "\n",
        "Best loss you can get using z score for all is around 0.28, although through examining distributions and applying approprite transformations (quantiles) the loss was reduced to 0.05. The cluster accuracy is around 47%. There is only a small amount of instances and this could be the reason for the low cluster accuracy. "
      ]
    }
  ]
}